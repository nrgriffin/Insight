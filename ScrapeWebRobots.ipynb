{
 "cells": [
  {
   "cell_type": "markdown",
   "metadata": {},
   "source": [
    "# Download Kickstarter data files (csv/zip only)"
   ]
  },
  {
   "cell_type": "code",
   "execution_count": 3,
   "metadata": {},
   "outputs": [],
   "source": [
    "import requests\n",
    "import urllib.request\n",
    "import certifi\n",
    "import urllib3\n",
    "import time\n",
    "from bs4 import BeautifulSoup"
   ]
  },
  {
   "cell_type": "code",
   "execution_count": 4,
   "metadata": {},
   "outputs": [],
   "source": [
    "http = urllib3.PoolManager(cert_reqs='CERT_REQUIRED', ca_certs=certifi.where())"
   ]
  },
  {
   "cell_type": "code",
   "execution_count": 3,
   "metadata": {},
   "outputs": [],
   "source": [
    "# make request from site to download from\n",
    "page_url = \"https://webrobots.io/kickstarter-datasets\""
   ]
  },
  {
   "cell_type": "code",
   "execution_count": 4,
   "metadata": {},
   "outputs": [],
   "source": [
    "from urllib.request import urlopen\n",
    "r = http.request('GET', page_url)\n",
    "page = urllib.request.urlopen(page_url).read()"
   ]
  },
  {
   "cell_type": "code",
   "execution_count": 5,
   "metadata": {},
   "outputs": [
    {
     "name": "stdout",
     "output_type": "stream",
     "text": [
      "b'<!DOCTYPE html>\\n<html class=\"avada-html-layout-wide\"  xmlns=\"http://www.w3.org/1999/xhtml\" prefix=\"\" lang=\"en-US\" prefix=\"og: http://ogp.me/ns# fb: http://ogp.me/ns/fb#\">\\n<head>\\n\\t<meta http-equiv=\"X-UA-Compatible\" content=\"IE=edge\" />\\n\\t<meta http-equiv=\"Content-Type\" content=\"text/html; charset=utf-8\"/>\\n\\t<meta name=\"viewport\" content=\"width=device-width, initial-scale=1\" />\\n\\t\\n<!-- BEGIN Metadata added by the Add-Meta-Tags WordPress plugin -->\\n<meta name=\"keywords\" content=\"web scraping, data scraping, web crawling, data extractions, web data, web data feed\" />\\n<!-- END Metadata added by the Add-Meta-Tags WordPress plugin -->\\n\\n<title>Kickstarter Datasets &#8211; Web Scraping Service</title>\\n<link rel=\\'dns-prefetch\\' href=\\'//s.w.org\\' />\\n<link rel=\"alternate\" type=\"application/rss+xml\" title=\"Web Scraping Service &raquo; Feed\" href=\"https://webrobots.io/feed/\" />\\n<link rel=\"alternate\" type=\"application/rss+xml\" title=\"Web Scraping Service &raquo; Comments Feed\" href=\"https://webrobots.io/comments/feed/\" />\\n\\t\\t\\t\\t\\t<link rel=\"shortcut icon\" href=\"/wp-content/uploads/2015/03/favicon.ico\" type=\"image/x-icon\" />\\n\\t\\t\\n\\t\\t\\t\\t\\t<!-- For iPhone -->\\n\\t\\t\\t<link rel=\"apple-touch-icon\" href=\"/wp-content/uploads/2015/03/WebRobotsLogo57x57.png\">\\n\\t\\t\\n\\t\\t\\t\\t\\t<!-- For iPhone Retina display -->\\n\\t\\t\\t<link rel=\"apple-touch-icon\" sizes=\"114x114\" href=\"/wp-content/uploads/2015/03/iphone114x114v2.png\">\\n\\t\\t\\n\\t\\t\\t\\t\\t<!-- For iPad -->\\n\\t\\t\\t<link rel=\"apple-touch-icon\" sizes=\"72x72\" href=\"/wp-content/uploads/2015/03/WebRobotsLogo72x72.png\">\\n\\t\\t\\n\\t\\t\\t\\t\\t<!-- For iPad Retina display -->\\n\\t\\t\\t<link rel=\"apple-touch-icon\" sizes=\"144x144\" href=\"/uploads/2015/03/WebRobotsLogo144x144.png\">\\n\\t\\t\\t\\t<link rel=\"alternate\" type=\"application/rss+xml\" title=\"Web Scraping Service &raquo; Kickstarter Datasets Comments Feed\" href=\"https://webrobots.io/kickstarter-datasets/feed/\" />\\n\\n\\t\\t<meta property=\"og:title\" content=\"Kickstarter Datasets\"/>\\n\\t\\t<meta property=\"og:type\" content=\"article\"/>\\n\\t\\t<meta property=\"og:url\" content=\"https://webrobots.io/kickstarter-datasets/\"/>\\n\\t\\t<meta property=\"og:site_name\" content=\"Web Scraping Service\"/>\\n\\t\\t<meta property=\"og:description\" content=\"We have a scraper robot which crawls all Kickstarter projects and collects data in CSV and JSON formats. From March 2016 we run this data crawl once a month. Datasets are available from the following scrape dates:\\r\\n2019\\r\\n\\r\\n \\t2019-08-15 [JSON] --- [CSV]\\r\\n \\t2019-07-18 [JSON] --- [CSV]\\r\\n \\t2019-06-13 [\"/>\\n\\n\\t\\t\\t\\t\\t\\t\\t\\t\\t<meta property=\"og:image\" content=\"/wp-content/uploads/2015/03/WebRobotsLogo300x82.png\"/>\\n\\t\\t\\t\\t\\t\\t\\t<link rel=\\'stylesheet\\' id=\\'responsive-blocks-fontawesome-css\\'  href=\\'https://webrobots.io/wp-content/plugins/responsive-add-ons/dist/assets/fontawesome/css/all.min.css?ver=1566217984\\' type=\\'text/css\\' media=\\'all\\' />\\n<link rel=\\'stylesheet\\' id=\\'responsive-blocks-style-css-css\\'  href=\\'https://webrobots.io/wp-content/plugins/responsive-add-ons/dist/blocks.style.build.css?ver=1566217984\\' type=\\'text/css\\' media=\\'all\\' />\\n<link rel=\\'stylesheet\\' id=\\'wooslider-flexslider-css\\'  href=\\'https://webrobots.io/wp-content/plugins/wooslider/assets/css/flexslider.css?ver=1.0.1\\' type=\\'text/css\\' media=\\'all\\' />\\n<link rel=\\'stylesheet\\' id=\\'wooslider-common-css\\'  href=\\'https://webrobots.io/wp-content/plugins/wooslider/assets/css/style.css?ver=1.0.1\\' type=\\'text/css\\' media=\\'all\\' />\\n<link rel=\\'stylesheet\\' id=\\'avada-child-stylesheet-css\\'  href=\\'https://webrobots.io/wp-content/themes/Avada/style.css?ver=5.2.3\\' type=\\'text/css\\' media=\\'all\\' />\\n<link rel=\\'stylesheet\\' id=\\'avada-stylesheet-css\\'  href=\\'https://webrobots.io/wp-content/themes/Avada/assets/css/style.min.css?ver=5.8.1\\' type=\\'text/css\\' media=\\'all\\' />\\n<!--[if IE]>\\n<link rel=\\'stylesheet\\' id=\\'avada-IE-css\\'  href=\\'https://webrobots.io/wp-content/themes/Avada/assets/css/ie.min.css?ver=5.8.1\\' type=\\'text/css\\' media=\\'all\\' />\\n<style id=\\'avada-IE-inline-css\\' type=\\'text/css\\'>\\n.avada-select-parent .select-arrow{background-color:#ffffff}\\n.select-arrow{background-color:#ffffff}\\n</style>\\n<![endif]-->\\n<link rel=\\'stylesheet\\' id=\\'fusion-dynamic-css-css\\'  href=\\'https://webrobots.io/wp-content/uploads/fusion-styles/c1935df107a29763f754559e704fdafb.min.css?ver=5.2.3\\' type=\\'text/css\\' media=\\'all\\' />\\n<link rel=\\'stylesheet\\' id=\\'avada-max-1c-max-sh-640-css\\'  href=\\'https://webrobots.io?action=avada-get-styles&#038;mq=max-1c.min%2Cmax-sh-640.min&#038;ver=5.8.1\\' type=\\'text/css\\' media=\\'only screen and (max-width: 640px)\\' />\\n<link rel=\\'stylesheet\\' id=\\'avada-max-2c-css\\'  href=\\'https://webrobots.io/wp-content/themes/Avada/assets/css/media/max-2c.min.css?ver=5.8.1\\' type=\\'text/css\\' media=\\'only screen and (max-width: 712px)\\' />\\n<link rel=\\'stylesheet\\' id=\\'avada-min-2c-max-3c-css\\'  href=\\'https://webrobots.io/wp-content/themes/Avada/assets/css/media/min-2c-max-3c.min.css?ver=5.8.1\\' type=\\'text/css\\' media=\\'only screen and (min-width: 712px) and (max-width: 784px)\\' />\\n<link rel=\\'stylesheet\\' id=\\'avada-min-3c-max-4c-css\\'  href=\\'https://webrobots.io/wp-content/themes/Avada/assets/css/media/min-3c-max-4c.min.css?ver=5.8.1\\' type=\\'text/css\\' media=\\'only screen and (min-width: 784px) and (max-width: 856px)\\' />\\n<link rel=\\'stylesheet\\' id=\\'avada-min-4c-max-5c-css\\'  href=\\'https://webrobots.io/wp-content/themes/Avada/assets/css/media/min-4c-max-5c.min.css?ver=5.8.1\\' type=\\'text/css\\' media=\\'only screen and (min-width: 856px) and (max-width: 928px)\\' />\\n<link rel=\\'stylesheet\\' id=\\'avada-min-5c-max-6c-css\\'  href=\\'https://webrobots.io/wp-content/themes/Avada/assets/css/media/min-5c-max-6c.min.css?ver=5.8.1\\' type=\\'text/css\\' media=\\'only screen and (min-width: 928px) and (max-width: 1000px)\\' />\\n<link rel=\\'stylesheet\\' id=\\'avada-min-shbp-min-sh-cbp-css\\'  href=\\'https://webrobots.io?action=avada-get-styles&#038;mq=min-shbp.min%2Cmin-sh-cbp.min&#038;ver=5.8.1\\' type=\\'text/css\\' media=\\'only screen and (min-width: 800px)\\' />\\n<link rel=\\'stylesheet\\' id=\\'avada-max-shbp-max-sh-shbp-max-sh-cbp-max-sh-sbp-max-sh-cbp-cf7-max-sh-cbp-eslider-css\\'  href=\\'https://webrobots.io?action=avada-get-styles&#038;mq=max-shbp.min%2Cmax-sh-shbp.min%2Cmax-sh-cbp.min%2Cmax-sh-sbp.min%2Cmax-sh-cbp-cf7.min%2Cmax-sh-cbp-eslider.min&#038;ver=5.8.1\\' type=\\'text/css\\' media=\\'only screen and (max-width: 800px)\\' />\\n<link rel=\\'stylesheet\\' id=\\'avada-min-768-max-1024-p-css\\'  href=\\'https://webrobots.io/wp-content/themes/Avada/assets/css/media/min-768-max-1024-p.min.css?ver=5.8.1\\' type=\\'text/css\\' media=\\'only screen and (min-device-width: 768px) and (max-device-width: 1024px) and (orientation: portrait)\\' />\\n<link rel=\\'stylesheet\\' id=\\'avada-min-768-max-1024-l-css\\'  href=\\'https://webrobots.io/wp-content/themes/Avada/assets/css/media/min-768-max-1024-l.min.css?ver=5.8.1\\' type=\\'text/css\\' media=\\'only screen and (min-device-width: 768px) and (max-device-width: 1024px) and (orientation: landscape)\\' />\\n<link rel=\\'stylesheet\\' id=\\'avada-max-shbp-18-css\\'  href=\\'https://webrobots.io/wp-content/themes/Avada/assets/css/media/max-shbp-18.min.css?ver=5.8.1\\' type=\\'text/css\\' media=\\'only screen and (max-width: 782px)\\' />\\n<link rel=\\'stylesheet\\' id=\\'avada-max-shbp-32-css\\'  href=\\'https://webrobots.io/wp-content/themes/Avada/assets/css/media/max-shbp-32.min.css?ver=5.8.1\\' type=\\'text/css\\' media=\\'only screen and (max-width: 768px)\\' />\\n<link rel=\\'stylesheet\\' id=\\'avada-max-640-css\\'  href=\\'https://webrobots.io/wp-content/themes/Avada/assets/css/media/max-640.min.css?ver=5.8.1\\' type=\\'text/css\\' media=\\'only screen and (max-device-width: 640px)\\' />\\n<script type=\\'text/javascript\\' src=\\'https://webrobots.io/wp-includes/js/jquery/jquery.js?ver=1.12.4-wp\\'></script>\\n<script type=\\'text/javascript\\' src=\\'https://webrobots.io/wp-includes/js/jquery/jquery-migrate.min.js?ver=1.4.1\\'></script>\\n<script type=\\'text/javascript\\' src=\\'https://webrobots.io/wp-content/plugins/wp-google-analytics-events/js/ga-scroll-events.js?ver=2.5.3\\'></script>\\n<link rel=\\'https://api.w.org/\\' href=\\'https://webrobots.io/wp-json/\\' />\\n<link rel=\"EditURI\" type=\"application/rsd+xml\" title=\"RSD\" href=\"https://webrobots.io/xmlrpc.php?rsd\" />\\n<link rel=\"wlwmanifest\" type=\"application/wlwmanifest+xml\" href=\"https://webrobots.io/wp-includes/wlwmanifest.xml\" /> \\n<meta name=\"generator\" content=\"WordPress 5.2.3\" />\\n<link rel=\"canonical\" href=\"https://webrobots.io/kickstarter-datasets/\" />\\n<link rel=\\'shortlink\\' href=\\'https://webrobots.io/?p=4793\\' />\\n<link rel=\"alternate\" type=\"application/json+oembed\" href=\"https://webrobots.io/wp-json/oembed/1.0/embed?url=https%3A%2F%2Fwebrobots.io%2Fkickstarter-datasets%2F\" />\\n<link rel=\"alternate\" type=\"text/xml+oembed\" href=\"https://webrobots.io/wp-json/oembed/1.0/embed?url=https%3A%2F%2Fwebrobots.io%2Fkickstarter-datasets%2F&#038;format=xml\" />\\n                                       <style type=\"text/css\" id=\"custom-background-css\">\\nbody.custom-background { background-image: url(\"https://webrobots.io/wp-content/uploads/2015/03/BackgroundLogo111.png\"); background-position: center top; background-size: auto; background-repeat: no-repeat; background-attachment: fixed; }\\n</style>\\n\\t<style type=\"text/css\" id=\"syntaxhighlighteranchor\"></style>\\n\\t\\t<style type=\"text/css\" id=\"wp-custom-css\">\\n\\t\\t\\t.wr-sticky{\\n\\tposition: sticky;\\n\\ttop: 40px;\\n}\\n\\n.avada_vertical_menu .menu-item:not(:last-child){\\n\\tborder-bottom: 1px solid rgb(0, 116, 162,0.05);\\n}\\n\\n.avada_vertical_menu .current-menu-item{\\n\\tbackground-color: rgba(0,0,0,0.04);\\n\\ttransition: 0.25s;\\n}\\t\\t</style>\\n\\t\\t\\n\\t\\t\\n\\t<script type=\"text/javascript\">\\n\\t\\tvar doc = document.documentElement;\\n\\t\\tdoc.setAttribute(\\'data-useragent\\', navigator.userAgent);\\n\\t</script>\\n\\n\\t<script>\\r\\n(function(i,s,o,g,r,a,m){i[\\'GoogleAnalyticsObject\\']=r;i[r]=i[r]||function(){\\r\\n(i[r].q=i[r].q||[]).push(arguments)},i[r].l=1*new Date();a=s.createElement(o),\\r\\nm=s.getElementsByTagName(o)[0];a.async=1;a.src=g;m.parentNode.insertBefore(a,m)\\r\\n})(window,document,\\'script\\',\\'//www.google-analytics.com/analytics.js\\',\\'ga\\');\\r\\n \\r\\nga(\\'create\\', \\'UA-45974197-1\\', \\'webrobots.io\\');\\r\\nga(\\'require\\', \\'displayfeatures\\');\\r\\nga(\\'send\\', \\'pageview\\');\\r\\n\\r\\n</script></head>\\n\\n<body class=\"page-template-default page page-id-4793 custom-background fusion-image-hovers fusion-body ltr no-tablet-sticky-header no-mobile-sticky-header fusion-disable-outline mobile-logo-pos-left layout-wide-mode fusion-top-header menu-text-align-center mobile-menu-design-modern fusion-show-pagination-text fusion-header-layout-v1 avada-responsive avada-footer-fx-none fusion-search-form-classic fusion-avatar-square\">\\n\\t<a class=\"skip-link screen-reader-text\" href=\"#content\">Skip to content</a>\\n\\t\\t\\t\\t<div id=\"wrapper\" class=\"\">\\n\\t\\t<div id=\"home\" style=\"position:relative;top:-1px;\"></div>\\n\\t\\t\\t\\t\\n\\t\\t\\n\\t\\t<div id=\"sliders-container\">\\n\\t\\t\\t\\t\\t</div>\\n\\t\\t\\t\\t\\n\\t\\t\\n\\t\\t\\t<header class=\"fusion-header-wrapper\">\\n\\t\\t\\t\\t<div class=\"fusion-header-v1 fusion-logo-left fusion-sticky-menu- fusion-sticky-logo- fusion-mobile-logo-  fusion-mobile-menu-design-modern\">\\n\\t\\t\\t\\t\\t<div class=\"fusion-header-sticky-height\"></div>\\n<div class=\"fusion-header\">\\n\\t<div class=\"fusion-row\">\\n\\t\\t\\t\\t\\t<div class=\"fusion-logo\" data-margin-top=\"0px\" data-margin-bottom=\"0px\" data-margin-left=\"0px\" data-margin-right=\"0px\">\\n\\t\\t\\t<a class=\"fusion-logo-link\"  href=\"https://webrobots.io/\" >\\n\\n\\t\\t\\t\\t\\t\\t<!-- standard logo -->\\n\\t\\t\\t<img src=\"/wp-content/uploads/2015/03/WebRobotsLogo300x82.png\" srcset=\"/wp-content/uploads/2015/03/WebRobotsLogo300x82.png 1x, https://webrobots.io/wp-content/uploads/2015/03/WebRobotsLogo300x82.png 2x\" width=\"\" height=\"\" alt=\"Web Scraping Service Logo\" data-retina_logo_url=\"https://webrobots.io/wp-content/uploads/2015/03/WebRobotsLogo300x82.png\" class=\"fusion-standard-logo\" />\\n\\n\\t\\t\\t\\n\\t\\t\\t\\t\\t</a>\\n\\t\\t</div>\\t\\t<nav class=\"fusion-main-menu\" aria-label=\"Main Menu\"><ul id=\"menu-main\" class=\"fusion-menu\"><li  id=\"menu-item-4505\"  class=\"menu-item menu-item-type-post_type menu-item-object-page menu-item-4505\"  data-item-id=\"4505\"><a  href=\"https://webrobots.io/services/\" class=\"fusion-bar-highlight\"><span class=\"menu-text\">Services</span></a></li><li  id=\"menu-item-4504\"  class=\"menu-item menu-item-type-post_type menu-item-object-page menu-item-4504\"  data-item-id=\"4504\"><a  href=\"https://webrobots.io/projects/\" class=\"fusion-bar-highlight\"><span class=\"menu-text\">Projects</span></a></li><li  id=\"menu-item-4503\"  class=\"menu-item menu-item-type-post_type menu-item-object-page menu-item-4503\"  data-item-id=\"4503\"><a  href=\"https://webrobots.io/about-us/\" class=\"fusion-bar-highlight\"><span class=\"menu-text\">About us</span></a></li><li  id=\"menu-item-4761\"  class=\"menu-item menu-item-type-post_type menu-item-object-page menu-item-4761\"  data-item-id=\"4761\"><a  href=\"https://webrobots.io/blog/\" class=\"fusion-bar-highlight\"><span class=\"menu-text\">Blog</span></a></li><li  id=\"menu-item-5620\"  class=\"menu-item menu-item-type-post_type menu-item-object-page menu-item-5620\"  data-item-id=\"5620\"><a  href=\"https://webrobots.io/contact-us/\" class=\"fusion-bar-highlight\"><span class=\"menu-text\">Contact</span></a></li><li  id=\"menu-item-5074\"  class=\"menu-item menu-item-type-post_type menu-item-object-page menu-item-has-children menu-item-5074 fusion-dropdown-menu\"  data-item-id=\"5074\"><a  href=\"https://webrobots.io/support/\" class=\"fusion-bar-highlight\"><span class=\"menu-text\">Support</span></a><ul role=\"menu\" class=\"sub-menu\"><li  id=\"menu-item-5077\"  class=\"menu-item menu-item-type-post_type menu-item-object-page menu-item-5077 fusion-dropdown-submenu\" ><a  href=\"https://webrobots.io/robot-writer-training/\" class=\"fusion-bar-highlight\"><span>Useful Technologies</span></a></li><li  id=\"menu-item-5076\"  class=\"menu-item menu-item-type-post_type menu-item-object-page menu-item-5076 fusion-dropdown-submenu\" ><a  href=\"https://webrobots.io/scraping-tutorial/\" class=\"fusion-bar-highlight\"><span>Scraping Tutorial</span></a></li><li  id=\"menu-item-5075\"  class=\"menu-item menu-item-type-post_type menu-item-object-page menu-item-5075 fusion-dropdown-submenu\" ><a  href=\"https://webrobots.io/werobots-documentation/\" class=\"fusion-bar-highlight\"><span>Documentation</span></a></li><li  id=\"menu-item-5998\"  class=\"menu-item menu-item-type-post_type menu-item-object-page menu-item-5998 fusion-dropdown-submenu\" ><a  href=\"https://webrobots.io/support/\" class=\"fusion-bar-highlight\"><span>All</span></a></li></ul></li><li class=\"fusion-custom-menu-item fusion-main-menu-search\"><a class=\"fusion-main-menu-icon fusion-bar-highlight\" href=\"#\" aria-label=\"Search\" data-title=\"Search\" title=\"Search\"></a><div class=\"fusion-custom-menu-item-contents\"><form role=\"search\" class=\"searchform fusion-search-form\" method=\"get\" action=\"https://webrobots.io/\">\\n\\t<div class=\"fusion-search-form-content\">\\n\\t\\t<div class=\"fusion-search-field search-field\">\\n\\t\\t\\t<label><span class=\"screen-reader-text\">Search for:</span>\\n\\t\\t\\t\\t<input type=\"text\" value=\"\" name=\"s\" class=\"s\" placeholder=\"Search ...\" required aria-required=\"true\" aria-label=\"Search ...\"/>\\n\\t\\t\\t</label>\\n\\t\\t</div>\\n\\t\\t<div class=\"fusion-search-button search-button\">\\n\\t\\t\\t<input type=\"submit\" class=\"fusion-search-submit searchsubmit\" value=\"&#xf002;\" />\\n\\t\\t</div>\\n\\t</div>\\n</form>\\n</div></li></ul></nav>\\t<div class=\"fusion-mobile-menu-icons\">\\n\\t\\t\\t\\t\\t\\t\\t<a href=\"#\" class=\"fusion-icon fusion-icon-bars\" aria-label=\"Toggle mobile menu\" aria-expanded=\"false\"></a>\\n\\t\\t\\n\\t\\t\\n\\t\\t\\n\\t\\t\\t</div>\\n\\t\\n<nav class=\"fusion-mobile-nav-holder fusion-mobile-menu-text-align-left\" aria-label=\"Main Menu Mobile\"></nav>\\n\\n\\t\\t\\t\\t\\t</div>\\n</div>\\n\\t\\t\\t\\t</div>\\n\\t\\t\\t\\t<div class=\"fusion-clearfix\"></div>\\n\\t\\t\\t</header>\\n\\t\\t\\t\\n\\t\\t\\t\\t\\t<div class=\"fusion-page-title-bar fusion-page-title-bar-breadcrumbs fusion-page-title-bar-left\">\\n\\t<div class=\"fusion-page-title-row\">\\n\\t\\t<div class=\"fusion-page-title-wrapper\">\\n\\t\\t\\t<div class=\"fusion-page-title-captions\">\\n\\n\\t\\t\\t\\t\\t\\t\\t\\t\\t\\t\\t\\t\\t\\t\\t\\t\\t\\t\\t<h1 class=\"entry-title\">Kickstarter Datasets</h1>\\n\\n\\t\\t\\t\\t\\t\\t\\t\\t\\t\\n\\t\\t\\t\\t\\n\\t\\t\\t</div>\\n\\n\\t\\t\\t\\t\\t\\t\\t\\t\\t\\t\\n\\t\\t</div>\\n\\t</div>\\n</div>\\n\\t\\t\\t\\t\\n\\t\\t\\t\\t<main id=\"main\" class=\"clearfix \" style=\"\">\\n\\t\\t\\t<div class=\"fusion-row\" style=\"\">\\n<section id=\"content\" style=\"width: 100%;\">\\n\\t\\t\\t\\t\\t<div id=\"post-4793\" class=\"post-4793 page type-page status-publish hentry\">\\n\\t\\t\\t<span class=\"entry-title rich-snippet-hidden\">Kickstarter Datasets</span><span class=\"vcard rich-snippet-hidden\"><span class=\"fn\"><a href=\"https://webrobots.io/author/nicerobot/\" title=\"Posts by nicerobot\" rel=\"author\">nicerobot</a></span></span><span class=\"updated rich-snippet-hidden\">2019-08-19T14:35:02+02:00</span>\\t\\t\\t\\t\\t\\t<div class=\"post-content\">\\n\\t\\t\\t\\t<div class=\"fusion-fullwidth fullwidth-box nonhundred-percent-fullwidth non-hundred-percent-height-scrolling\"  style=\\'background-color: #ffffff;background-position: center center;background-repeat: no-repeat;padding-top:0px;padding-right:0px;padding-bottom:0px;padding-left:0px;border-top-width:0px;border-bottom-width:0px;border-color:#eae9e9;border-top-style:solid;border-bottom-style:solid;\\'><div class=\"fusion-builder-row fusion-row \"><div  class=\"fusion-layout-column fusion_builder_column fusion_builder_column_1_1  fusion-one-full fusion-column-first fusion-column-last 1_1\"  style=\\'margin-top:0px;margin-bottom:0px;\\'>\\r\\n\\t\\t\\t\\t\\t<div class=\"fusion-column-wrapper\" style=\"padding: 0px 0px 0px 0px;background-position:left top;background-repeat:no-repeat;-webkit-background-size:cover;-moz-background-size:cover;-o-background-size:cover;background-size:cover;\"   data-bg-url=\"\">\\r\\n\\t\\t\\t\\t\\t\\t<div class=\"fusion-text\"><h2>We have a scraper robot which crawls all <a href=\"http://kickstarter.com\" target=\"_blank\" rel=\"noopener noreferrer\">Kickstarter</a> projects and collects data in CSV and JSON formats. From March 2016 we run this data crawl once a month. Datasets are available from the following scrape dates:</h2>\\n<h3>2019</h3>\\n<ul>\\n<li>2019-08-15 [<a href=\"https://s3.amazonaws.com/weruns/forfun/Kickstarter/Kickstarter_2019-08-15T03_20_03_022Z.json.gz\">JSON</a>] &#8212; [<a href=\"https://s3.amazonaws.com/weruns/forfun/Kickstarter/Kickstarter_2019-08-15T03_20_03_022Z.zip\">CSV</a>]</li>\\n<li>2019-07-18 [<a href=\"https://s3.amazonaws.com/weruns/forfun/Kickstarter/Kickstarter_2019-07-18T03_20_05_009Z.json.gz\">JSON</a>] &#8212; [<a href=\"https://s3.amazonaws.com/weruns/forfun/Kickstarter/Kickstarter_2019-07-18T03_20_05_009Z.zip\">CSV</a>]</li>\\n<li>2019-06-13 [<a href=\"https://s3.amazonaws.com/weruns/forfun/Kickstarter/Kickstarter_2019-06-13T03_20_35_801Z.json.gz\">JSON</a>] &#8212; [<a href=\"https://s3.amazonaws.com/weruns/forfun/Kickstarter/Kickstarter_2019-06-13T03_20_35_801Z.zip\">CSV</a>]</li>\\n<li>2019-05-16 [<a href=\"https://s3.amazonaws.com/weruns/forfun/Kickstarter/Kickstarter_2019-05-16T03_20_20_822Z.json.gz\">JSON</a>] &#8212; [<a href=\"https://s3.amazonaws.com/weruns/forfun/Kickstarter/Kickstarter_2019-05-16T03_20_20_822Z.zip\">CSV</a>]</li>\\n<li>2019-04-18 [<a href=\"https://s3.amazonaws.com/weruns/forfun/Kickstarter/Kickstarter_2019-04-18T03_20_02_220Z.json.gz\">JSON</a>] &#8212; [<a href=\"https://s3.amazonaws.com/weruns/forfun/Kickstarter/Kickstarter_2019-04-18T03_20_02_220Z.zip\">CSV</a>]</li>\\n<li>2019-03-14 [<a href=\"https://s3.amazonaws.com/weruns/forfun/Kickstarter/Kickstarter_2019-03-14T03_20_12_200Z.json.gz\">JSON</a>] &#8212; [<a href=\"https://s3.amazonaws.com/weruns/forfun/Kickstarter/Kickstarter_2019-03-14T03_20_12_200Z.zip\">CSV</a>]</li>\\n<li>2019-02-14 [<a href=\"https://s3.amazonaws.com/weruns/forfun/Kickstarter/Kickstarter_2019-02-14T03_20_04_734Z.json.gz\">JSON</a>] &#8212; [<a href=\"https://s3.amazonaws.com/weruns/forfun/Kickstarter/Kickstarter_2019-02-14T03_20_04_734Z.zip\">CSV</a>]</li>\\n<li>2019-01-17 [<a href=\"https://s3.amazonaws.com/weruns/forfun/Kickstarter/Kickstarter_2019-01-17T03_20_02_630Z.json.gz\">JSON</a>] &#8212; [<a href=\"https://s3.amazonaws.com/weruns/forfun/Kickstarter/Kickstarter_2019-01-17T03_20_02_630Z.zip\">CSV</a>]</li>\\n</ul>\\n<h3>2018</h3>\\n<ul>\\n<li>2018-12-13 [<a href=\"https://s3.amazonaws.com/weruns/forfun/Kickstarter/Kickstarter_2018-12-13T03_20_05_701Z.json.gz\">JSON</a>] &#8212; [<a href=\"https://s3.amazonaws.com/weruns/forfun/Kickstarter/Kickstarter_2018-12-13T03_20_05_701Z.zip\">CSV</a>]</li>\\n<li>2018-11-15 [<a href=\"https://s3.amazonaws.com/weruns/forfun/Kickstarter/Kickstarter_2018-11-15T03_20_50_568Z.json.gz\">JSON</a>] &#8212; [<a href=\"https://s3.amazonaws.com/weruns/forfun/Kickstarter/Kickstarter_2018-11-15T03_20_50_568Z.zip\">CSV</a>]</li>\\n<li>2018-10-18 [<a href=\"https://s3.amazonaws.com/weruns/forfun/Kickstarter/Kickstarter_2018-10-18T03_20_48_880Z.json.gz\">JSON</a>] &#8212; [<a href=\"https://s3.amazonaws.com/weruns/forfun/Kickstarter/Kickstarter_2018-10-18T03_20_48_880Z.zip\">CSV</a>]</li>\\n<li>2018-09-13 [<a href=\"https://s3.amazonaws.com/weruns/forfun/Kickstarter/Kickstarter_2018-09-13T03_20_17_777Z.json.gz\">JSON</a>] &#8212; [<a href=\"https://s3.amazonaws.com/weruns/forfun/Kickstarter/Kickstarter_2018-09-13T03_20_17_777Z.zip\">CSV</a>]</li>\\n<li>2018-08-16 [<a href=\"https://s3.amazonaws.com/weruns/forfun/Kickstarter/Kickstarter_2018-08-16T03_20_13_856Z.json.gz\">JSON</a>] &#8212; [<a href=\"https://s3.amazonaws.com/weruns/forfun/Kickstarter/Kickstarter_2018-08-16T03_20_13_856Z.zip\">CSV</a>]</li>\\n<li>2018-07-12 [<a href=\"https://s3.amazonaws.com/weruns/forfun/Kickstarter/Kickstarter_2018-07-12T03_20_16_435Z.json.gz\">JSON</a>] &#8212; [<a href=\"https://s3.amazonaws.com/weruns/forfun/Kickstarter/Kickstarter_2018-07-12T03_20_16_435Z.zip\">CSV</a>]</li>\\n<li>2018-06-14 [<a href=\"https://s3.amazonaws.com/weruns/forfun/Kickstarter/Kickstarter_2018-06-14T03_20_15_782Z.json.gz\">JSON</a>] &#8212; [<a href=\"https://s3.amazonaws.com/weruns/forfun/Kickstarter/Kickstarter_2018-06-14T03_20_15_782Z.zip\">CSV</a>]</li>\\n<li>2018-05-17 [<a href=\"https://s3.amazonaws.com/weruns/forfun/Kickstarter/Kickstarter_2018-05-17T03_20_08_333Z.json.gz\">JSON</a>] &#8212; [<a href=\"https://s3.amazonaws.com/weruns/forfun/Kickstarter/Kickstarter_2018-05-17T03_20_08_333Z.zip\">CSV</a>]</li>\\n<li>2018-04-12 [<a href=\"https://s3.amazonaws.com/weruns/forfun/Kickstarter/Kickstarter_2018-04-12T03_20_13_192Z.json.gz\">JSON</a>] &#8212; [<a href=\"https://s3.amazonaws.com/weruns/forfun/Kickstarter/Kickstarter_2018-04-12T03_20_13_192Z.zip\">CSV</a>]</li>\\n<li>2018-03-15 [<a href=\"https://s3.amazonaws.com/weruns/forfun/Kickstarter/Kickstarter_2018-03-15T03_20_39_033Z.json.gz\">JSON</a>] &#8212; [<a href=\"https://s3.amazonaws.com/weruns/forfun/Kickstarter/Kickstarter_2018-03-15T03_20_39_033Z.zip\">CSV</a>]</li>\\n<li>2018-02-15 [<a href=\"https://s3.amazonaws.com/weruns/forfun/Kickstarter/Kickstarter_2018-02-15T03_20_44_743Z.json.gz\">JSON</a>] &#8212; [<a href=\"https://s3.amazonaws.com/weruns/forfun/Kickstarter/Kickstarter_2018-02-15T03_20_44_743Z.zip\">CSV</a>]</li>\\n<li>2018-01-12 [<a href=\"https://s3.amazonaws.com/weruns/forfun/Kickstarter/Kickstarter_2018-01-12T10_20_09_196Z.json.gz\">JSON</a>] &#8212; [<a href=\"https://s3.amazonaws.com/weruns/forfun/Kickstarter/Kickstarter_2018-01-12T10_20_09_196Z.zip\">CSV</a>]</li>\\n</ul>\\n<h3>2017</h3>\\n<ul>\\n<li>2017-12-15 [<a href=\"https://s3.amazonaws.com/weruns/forfun/Kickstarter/Kickstarter_2017-12-15T10_20_51_610Z.json.gz\">JSON</a>] &#8212; [<a href=\"https://s3.amazonaws.com/weruns/forfun/Kickstarter/Kickstarter_2017-12-15T10_20_51_610Z.zip\">CSV</a>]</li>\\n<li>2017-11-15 [<a href=\"https://s3.amazonaws.com/weruns/forfun/Kickstarter/Kickstarter_2017-11-15T10_21_04_919Z.json.gz\">JSON</a>] &#8212; [<a href=\"https://s3.amazonaws.com/weruns/forfun/Kickstarter/Kickstarter_2017-11-15T10_21_04_919Z.zip\">CSV</a>]</li>\\n<li>2017-10-15 [<a href=\"https://s3.amazonaws.com/weruns/forfun/Kickstarter/Kickstarter_2017-10-15T10_20_38_271Z.json.gz\">JSON</a>] &#8212; [<a href=\"https://s3.amazonaws.com/weruns/forfun/Kickstarter/Kickstarter_2017-10-15T10_20_38_271Z.zip\">CSV</a>]</li>\\n<li>2017-09-15 [<a href=\"https://s3.amazonaws.com/weruns/forfun/Kickstarter/Kickstarter_2017-09-15T22_20_48_432Z.json.gz\">JSON</a>] &#8212; [<a href=\"https://s3.amazonaws.com/weruns/forfun/Kickstarter/Kickstarter_2017-09-15T22_20_48_432Z.zip\">CSV</a>]</li>\\n<li>2017-08-15 [<a href=\"https://s3.amazonaws.com/weruns/forfun/Kickstarter/Kickstarter_2017-08-15T22_20_51_958Z.json.gz\">JSON</a>] &#8212; [<a href=\"https://s3.amazonaws.com/weruns/forfun/Kickstarter/Kickstarter_2017-08-15T22_20_51_958Z.zip\">CSV</a>]</li>\\n<li>2017-07-15 [<a href=\"https://s3.amazonaws.com/weruns/forfun/Kickstarter/Kickstarter_2017-07-15T22_20_48_951Z.json.gz\">JSON</a>] &#8212; [<a href=\"https://s3.amazonaws.com/weruns/forfun/Kickstarter/Kickstarter_2017-07-15T22_20_48_951Z.zip\">CSV</a>]</li>\\n<li>2017-06-15 [<a href=\"https://s3.amazonaws.com/weruns/forfun/Kickstarter/Kickstarter_2017-06-15T22_20_03_059Z.json.gz\">JSON</a>] &#8212; [<a href=\"https://s3.amazonaws.com/weruns/forfun/Kickstarter/Kickstarter_2017-06-15T22_20_03_059Z.zip\">CSV</a>]</li>\\n<li>2017-05-15 [<a href=\"https://s3.amazonaws.com/weruns/forfun/Kickstarter/Kickstarter_2017-05-15T22_21_11_300Z.json.gz\">JSON</a>] &#8212; [<a href=\"https://s3.amazonaws.com/weruns/forfun/Kickstarter/Kickstarter_2017-05-15T22_21_11_300Z.zip\">CSV</a>]</li>\\n<li>2017-04-15 [<a href=\"https://s3.amazonaws.com/weruns/forfun/Kickstarter/Kickstarter_2017-04-15T22_21_18_122Z.json.gz\">JSON</a>] &#8212; [<a href=\"https://s3.amazonaws.com/weruns/forfun/Kickstarter/Kickstarter_2017-04-15T22_21_18_122Z.zip\">CSV</a>]</li>\\n<li>2017-03-15 [<a href=\"https://s3.amazonaws.com/weruns/forfun/Kickstarter/Kickstarter_2017-03-15T22_20_55_874Z.json.gz\">JSON</a>] &#8212; [<a href=\"https://s3.amazonaws.com/weruns/forfun/Kickstarter/Kickstarter_2017-03-15T22_20_55_874Z.zip\">CSV</a>]</li>\\n<li>2017-02-15 [<a href=\"https://s3.amazonaws.com/weruns/forfun/Kickstarter/Kickstarter_2017-02-15T22_22_48_377Z.json.gz\">JSON</a>] &#8212; [<a href=\"https://s3.amazonaws.com/weruns/forfun/Kickstarter/Kickstarter_2017-02-15T22_22_48_377Z.zip\">CSV</a>]</li>\\n<li>2017-01-15 [<a href=\"https://s3.amazonaws.com/weruns/forfun/Kickstarter/Kickstarter_2017-01-15T22_21_04_985Z.json.gz\">JSON</a>] &#8212; [<a href=\"https://s3.amazonaws.com/weruns/forfun/Kickstarter/Kickstarter_2017-01-15T22_21_04_985Z.zip\">CSV</a>]</li>\\n</ul>\\n<h3>2016</h3>\\n<ul>\\n<li>2016-12-15 [<a href=\"https://s3.amazonaws.com/weruns/forfun/Kickstarter/Kickstarter_2016-12-15T22_20_52_411Z.json.gz\">JSON</a>] &#8212; [<a href=\"https://s3.amazonaws.com/weruns/forfun/Kickstarter/Kickstarter_2016-12-15T22_20_52_411Z.zip\">CSV</a>]</li>\\n<li>2016-11-12 [<a href=\"https://s3.amazonaws.com/weruns/forfun/Kickstarter/Kickstarter_2016-11-12T22_20_03_295Z.json.gz\">JSON</a>] &#8212; [<a href=\"https://s3.amazonaws.com/weruns/forfun/Kickstarter/Kickstarter_2016-11-12T22_20_03_295Z.zip\">CSV</a>]</li>\\n<li>2016-10-15 [<a href=\"https://s3.amazonaws.com/weruns/forfun/Kickstarter/Kickstarter_2016-10-15T02_04_11_689Z.json.gz\">JSON</a>] &#8212; [<a href=\"https://s3.amazonaws.com/weruns/forfun/Kickstarter/Kickstarter_2016-10-15T02_04_11_689Z.zip\">CSV</a>]</li>\\n<li>2016-09-15 [<a href=\"https://s3.amazonaws.com/weruns/forfun/Kickstarter/Kickstarter_2016-09-15T02_04_03_474Z.json.gz\">JSON</a>] &#8212; [<a href=\"https://s3.amazonaws.com/weruns/forfun/Kickstarter/Kickstarter_2016-09-15T02_04_03_474Z.zip\">CSV</a>]</li>\\n<li>2016-08-15 [<a href=\"https://s3.amazonaws.com/weruns/forfun/Kickstarter/Kickstarter_2016-08-15T02_04_03_829Z.json.gz\">JSON</a>] &#8212; [<a href=\"https://s3.amazonaws.com/weruns/forfun/Kickstarter/Kickstarter_2016-08-15T02_04_03_829Z.zip\">CSV</a>]</li>\\n<li>2016-07-15 [<a href=\"https://s3.amazonaws.com/weruns/forfun/Kickstarter/Kickstarter_2016-07-15T02_04_40_862Z.json.gz\">JSON</a>] &#8212; [<a href=\"https://s3.amazonaws.com/weruns/forfun/Kickstarter/Kickstarter_2016-07-15T02_04_40_862Z.zip\">CSV</a>]</li>\\n<li>2016-06-15 [<a href=\"https://s3.amazonaws.com/weruns/forfun/Kickstarter/Kickstarter_2016-06-15T02_04_49_697Z.json.gz\">JSON</a>] &#8212; [<a href=\"https://s3.amazonaws.com/weruns/forfun/Kickstarter/Kickstarter_2016-06-15T02_04_49_697Z.zip\">CSV</a>]</li>\\n<li>2016-05-15 [<a href=\"https://s3.amazonaws.com/weruns/forfun/Kickstarter/Kickstarter_2016-05-15T02_04_46_813Z.json.gz\">JSON</a>] &#8212; [<a href=\"https://s3.amazonaws.com/weruns/forfun/Kickstarter/Kickstarter_2016-05-15T02_04_46_813Z.zip\">CSV</a>]</li>\\n<li>2016-04-15 [<a href=\"https://s3.amazonaws.com/weruns/forfun/Kickstarter/Kickstarter_2016-04-15T02_09_04_328Z.json.gz\">JSON</a>] &#8212; [<a href=\"https://s3.amazonaws.com/weruns/forfun/Kickstarter/Kickstarter_2016-04-15T02_09_04_328Z.zip\">CSV</a>]</li>\\n<li>2016-03-22 [<a href=\"https://s3.amazonaws.com/weruns/forfun/Kickstarter/Kickstarter_2016-03-22T07_41_08_591Z.json.gz\">JSON</a>] &#8212; [<a href=\"https://s3.amazonaws.com/weruns/forfun/Kickstarter/Kickstarter_2016-03-22T07_41_08_591Z.zip\">CSV</a>]</li>\\n<li>2016-01-28\\xc2\\xa0[<a href=\"https://s3.amazonaws.com/weruns/forfun/Kickstarter/Kickstarter_2016-01-28T09_15_08_781Z.json.gz\">JSON</a>] &#8212; [<a href=\"https://s3.amazonaws.com/weruns/forfun/Kickstarter/Kickstarter_2016-01-28T09_15_08_781Z.zip\">CSV</a>]</li>\\n</ul>\\n<h3>2015 and older</h3>\\n<ul>\\n<li>2015-12-17\\xc2\\xa0[<a href=\"https://s3.amazonaws.com/weruns/forfun/Kickstarter/Kickstarter_2015-12-17T12_09_06_107Z.json.gz\">JSON</a>] &#8212; [<a href=\"https://s3.amazonaws.com/weruns/forfun/Kickstarter/Kickstarter_2015-12-17T12_09_06_107Z.zip\">CSV</a>]</li>\\n<li>2015-11-01\\xc2\\xa0[<a href=\"https://s3.amazonaws.com/weruns/forfun/Kickstarter/Kickstarter_2015-11-01T14_09_04_557Z.json.gz\" target=\"_blank\" rel=\"noopener noreferrer\">JSON</a>] &#8212; [<a href=\"https://s3.amazonaws.com/weruns/forfun/Kickstarter/Kickstarter_2015-11-01T14_09_04_557Z.zip\" target=\"_blank\" rel=\"noopener noreferrer\">CSV</a>]</li>\\n<li>2015-10-22 [<a href=\"https://s3.amazonaws.com/weruns/forfun/Kickstarter/Kickstarter_2015-10-22T09_57_48_703Z.json.gz\" target=\"_blank\" rel=\"noopener noreferrer\">JSON</a>]\\xc2\\xa0[<a href=\"https://s3.amazonaws.com/weruns/forfun/Kickstarter/Kickstarter_2015-10-22T09_57_48_703Z.zip\" target=\"_blank\" rel=\"noopener noreferrer\">CSV</a>]</li>\\n<li>2015-08-21 [<a href=\"https://s3.amazonaws.com/weruns/kickstarter_old/Kickstarter_2015-08-21.json.zip\" target=\"_blank\" rel=\"noopener noreferrer\">JSON</a>]</li>\\n<li>2015-06-12 [<a href=\"https://s3.amazonaws.com/weruns/kickstarter_old/Kickstarter_2015-06-12.json.zip\" target=\"_blank\" rel=\"noopener noreferrer\">JSON</a>]</li>\\n<li>2015-04-02 [<a href=\"https://s3.amazonaws.com/weruns/kickstarter_old/Kickstarter_2015-04-02.json.zip\" target=\"_blank\" rel=\"noopener noreferrer\">JSON</a>]</li>\\n<li>2014-12-02 [<a href=\"https://s3.amazonaws.com/weruns/kickstarter_old/Kickstarter_2014-12-02.json.zip\">JSON</a>]</li>\\n<li>2014-10-17 [<a href=\"https://s3.amazonaws.com/weruns/kickstarter_old/Kickstarter_2014-10-17.json.zip\" target=\"_blank\" rel=\"noopener noreferrer\">JSON</a>]</li>\\n<li>2014-08-13 [<a href=\"https://s3.amazonaws.com/weruns/kickstarter_old/Kickstarter_2014-08-13.json.zip\" target=\"_blank\" rel=\"noopener noreferrer\">JSON</a>]</li>\\n<li>2014-04-22 [<a href=\"https://s3.amazonaws.com/weruns/kickstarter_old/Kickstarter_2014-04-22.json.zip\" target=\"_blank\" rel=\"noopener noreferrer\">JSON</a>]</li>\\n</ul>\\n<h2><strong>We are also currently working on a web interface for crowdfunding dataset. You will be able to access it <a href=\"http://crowdfunding.webrobots.io\">here</a>.</strong></h2>\\n<p><span style=\"color: #ff0000;\">Note:</span>\\xc2\\xa0from April 2015 we noticed that Kickstarter started limiting how many projects user can view in a single category. This limits the amount of historic projects we can get in a\\xc2\\xa0single scrape run. But recent\\xc2\\xa0and active projects are always included.</p>\\n<p><span style=\"color: #ff0000;\">Note:</span>\\xc2\\xa0from December 2015 we modified the collection approach to go through all sub-categories instead of only top level categories. This yields more results in the datasets, but possible duplication where projects are listed in multiple categories. Also from December 2015 JSON file is in JSON streaming format. Read more about it here: <a href=\"https://en.wikipedia.org/wiki/JSON_Streaming\" target=\"_blank\" rel=\"noopener noreferrer\">https://en.wikipedia.org/wiki/JSON_Streaming</a></p>\\n<p>We receive many question about timestamp format used in this dataset. It is unix time. Google has a lot of information about it.</p>\\n<p>Warning: files are compressed, size in area of 100mb. Uncompressed size around 600mb.</p>\\n<p>Also\\xc2\\xa0see:\\xc2\\xa0our\\xc2\\xa0<a href=\"https://webrobots.io/indiegogo-dataset/\">Indiegogo data</a></p>\\n</div><div class=\"fusion-clearfix\"></div>\\r\\n\\r\\n\\t\\t\\t\\t\\t</div>\\r\\n\\t\\t\\t\\t</div></div></div>\\n\\t\\t\\t\\t\\t\\t\\t</div>\\n\\t\\t\\t\\t\\t\\t\\t\\t\\t\\t\\t\\t\\t\\t\\t\\t\\t\\t\\t\\t\\t\\t\\t\\t\\t\\t\\t\\t\\t</div>\\n\\t\\t</section>\\n\\t\\t\\t\\t\\t\\n\\t\\t\\t\\t</div>  <!-- fusion-row -->\\n\\t\\t\\t</main>  <!-- #main -->\\n\\t\\t\\t\\n\\t\\t\\t\\n\\t\\t\\t\\n\\t\\t\\t\\t\\t\\t\\t\\t\\t\\t\\n\\t\\t\\t\\t<div class=\"fusion-footer\">\\n\\t\\t\\t\\t\\t\\n\\t\\n\\t<footer id=\"footer\" class=\"fusion-footer-copyright-area\">\\n\\t\\t<div class=\"fusion-row\">\\n\\t\\t\\t<div class=\"fusion-copyright-content\">\\n\\n\\t\\t\\t\\t<div class=\"fusion-copyright-notice\">\\n\\t\\t<div>\\n\\t\\tCopyright 2013-2019 Web Robots | <a href=\\'/terms-and-conditions/\\'>Terms and Conditions</a> | All Rights Reserved\\t</div>\\n</div>\\n<div class=\"fusion-social-links-footer\">\\n\\t</div>\\n\\n\\t\\t\\t</div> <!-- fusion-fusion-copyright-content -->\\n\\t\\t</div> <!-- fusion-row -->\\n\\t</footer> <!-- #footer -->\\n\\t\\t\\t\\t</div> <!-- fusion-footer -->\\n\\n\\t\\t\\t\\t\\t\\t\\t\\t\\t</div> <!-- wrapper -->\\n\\n\\t\\t\\t\\t\\t\\t\\t\\t<a class=\"fusion-one-page-text-link fusion-page-load-link\"></a>\\n\\n\\t\\t\\n\\n\\n\\t<script type=\"text/javascript\">\\n\\t\\tfunction responsiveBlocksShare( url, title, w, h ){\\n\\t\\t\\tvar left = ( window.innerWidth / 2 )-( w / 2 );\\n\\t\\t\\tvar top  = ( window.innerHeight / 2 )-( h / 2 );\\n\\t\\t\\treturn window.open(url, title, \\'toolbar=no, location=no, directories=no, status=no, menubar=no, scrollbars=no, resizable=no, copyhistory=no, width=600, height=600, top=\\'+top+\\', left=\\'+left);\\n\\t\\t}\\n\\t</script>\\n\\t\\t\\t\\t\\t<script type=\"text/javascript\">\\n\\t\\t\\t\\tjQuery( document ).ready( function() {\\n\\t\\t\\t\\t\\tvar ajaxurl = \\'https://webrobots.io/wp-admin/admin-ajax.php\\';\\n\\t\\t\\t\\t\\tif ( 0 < jQuery( \\'.fusion-login-nonce\\' ).length ) {\\n\\t\\t\\t\\t\\t\\tjQuery.get( ajaxurl, { \\'action\\': \\'fusion_login_nonce\\' }, function( response ) {\\n\\t\\t\\t\\t\\t\\t\\tjQuery( \\'.fusion-login-nonce\\' ).html( response );\\n\\t\\t\\t\\t\\t\\t});\\n\\t\\t\\t\\t\\t}\\n\\t\\t\\t\\t});\\n\\t\\t\\t\\t</script>\\n\\t\\t\\t\\t<script type=\\'text/javascript\\'>\\n/* <![CDATA[ */\\nvar wpcf7 = {\"apiSettings\":{\"root\":\"https:\\\\/\\\\/webrobots.io\\\\/wp-json\\\\/contact-form-7\\\\/v1\",\"namespace\":\"contact-form-7\\\\/v1\"},\"cached\":\"1\"};\\n/* ]]> */\\n</script>\\n<script type=\\'text/javascript\\' src=\\'https://webrobots.io/wp-content/plugins/contact-form-7/includes/js/scripts.js?ver=5.1.4\\'></script>\\n<script type=\\'text/javascript\\' src=\\'https://webrobots.io/wp-content/plugins/responsive-add-ons/dist/assets/js/dismiss.js?ver=1566217984\\'></script>\\n<script type=\\'text/javascript\\' src=\\'https://webrobots.io/wp-content/uploads/fusion-scripts/7bf6d99ff83548a8853da09970b60ed2.min.js\\'></script>\\n<script type=\\'text/javascript\\' src=\\'https://webrobots.io/wp-includes/js/wp-embed.min.js?ver=5.2.3\\'></script>\\n<script type=\\'text/javascript\\' src=\\'https://webrobots.io/wp-content/plugins/wooslider/assets/js/jquery.flexslider-min.js?ver=1.0.0\\'></script>\\n<script type=\\'text/javascript\\' src=\\'https://webrobots.io/?wooslider-javascript=load&#038;t=1568564399&#038;ver=1.0.0\\'></script>\\n\\n    <!-- BEGIN: wpflow ga events array -->\\n    <script>\\n\\n                jQuery(document).ready(function() {\\n                    if(typeof scroll_events == \\'undefined\\') {\\n                        return;\\n                    }\\n                    scroll_events.bind_events( {\\n                        universal: 1,\\n                        gtm:0,\\n                        gst:0,\\n\\n                        scroll_elements: [],\\n                        click_elements: [{\\'select\\':\\'.animated\\',\\'category\\':\\'Visitor\\',\\'action\\':\\'Button Click\\',\\'label\\':\\'Main Page Button\\',\\'bounce\\':\\'\\',\\'evalue\\':\\'\\'},{\\'select\\':\\'#submit\\',\\'category\\':\\'Visitor\\',\\'action\\':\\'Contact For Submit\\',\\'label\\':\\'Contact Form\\',\\'bounce\\':\\'\\',\\'evalue\\':\\'\\'},{\\'select\\':\\'.request-a-demo\\',\\'category\\':\\'Visitor\\',\\'action\\':\\'Request Demo Form Submit\\',\\'label\\':\\'Request Demo Form Submit\\',\\'bounce\\':\\'\\',\\'evalue\\':\\'\\'},{\\'select\\':\\'.web-scraping-service\\',\\'category\\':\\'Visitor\\',\\'action\\':\\'Adwords Form Submit\\',\\'label\\':\\'Adwords Form Submit\\',\\'bounce\\':\\'\\',\\'evalue\\':\\'\\'},{\\'select\\':\\'.get-web-data-1\\',\\'category\\':\\'Visitor\\',\\'action\\':\\'Adwords Form Submit\\',\\'label\\':\\'Adwords Form Submit\\',\\'bounce\\':\\'\\',\\'evalue\\':\\'\\'},{\\'select\\':\\'.get-web-data-2\\',\\'category\\':\\'Visitor\\',\\'action\\':\\'Get Web Data Form Submit 2\\',\\'label\\':\\'Get Web Data Form Submit 2\\',\\'bounce\\':\\'\\',\\'evalue\\':\\'\\'}],\\n                    });\\n                });\\n\\n    </script>\\n    <!-- END: wpflow ga events array -->\\t</body>\\n</html>\\n\\r\\n<!--\\r\\nPerformance optimized by W3 Total Cache. Learn more: https://www.w3-edge.com/products/\\r\\n\\r\\nPage Caching using disk: enhanced \\r\\nDatabase Caching using disk (Request-wide modification query)\\r\\n\\r\\nServed from: webrobots.io @ 2019-09-15 18:19:59 by W3 Total Cache\\r\\n-->'\n"
     ]
    }
   ],
   "source": [
    "print(page)"
   ]
  },
  {
   "cell_type": "code",
   "execution_count": 6,
   "metadata": {},
   "outputs": [],
   "source": [
    "# Parse HTML and save to BeautifulSoup object¶\n",
    "# soup = BeautifulSoup(r.text, 'html.parser')\n",
    "soup = BeautifulSoup(page, 'html.parser')"
   ]
  },
  {
   "cell_type": "code",
   "execution_count": 42,
   "metadata": {},
   "outputs": [
    {
     "data": {
      "text/plain": [
       "[<div class=\"fusion-text\"><h2>We have a scraper robot which crawls all <a href=\"http://kickstarter.com\" rel=\"noopener noreferrer\" target=\"_blank\">Kickstarter</a> projects and collects data in CSV and JSON formats. From March 2016 we run this data crawl once a month. Datasets are available from the following scrape dates:</h2>\n",
       " <h3>2019</h3>\n",
       " <ul>\n",
       " <li>2019-08-15 [<a href=\"https://s3.amazonaws.com/weruns/forfun/Kickstarter/Kickstarter_2019-08-15T03_20_03_022Z.json.gz\">JSON</a>] — [<a href=\"https://s3.amazonaws.com/weruns/forfun/Kickstarter/Kickstarter_2019-08-15T03_20_03_022Z.zip\">CSV</a>]</li>\n",
       " <li>2019-07-18 [<a href=\"https://s3.amazonaws.com/weruns/forfun/Kickstarter/Kickstarter_2019-07-18T03_20_05_009Z.json.gz\">JSON</a>] — [<a href=\"https://s3.amazonaws.com/weruns/forfun/Kickstarter/Kickstarter_2019-07-18T03_20_05_009Z.zip\">CSV</a>]</li>\n",
       " <li>2019-06-13 [<a href=\"https://s3.amazonaws.com/weruns/forfun/Kickstarter/Kickstarter_2019-06-13T03_20_35_801Z.json.gz\">JSON</a>] — [<a href=\"https://s3.amazonaws.com/weruns/forfun/Kickstarter/Kickstarter_2019-06-13T03_20_35_801Z.zip\">CSV</a>]</li>\n",
       " <li>2019-05-16 [<a href=\"https://s3.amazonaws.com/weruns/forfun/Kickstarter/Kickstarter_2019-05-16T03_20_20_822Z.json.gz\">JSON</a>] — [<a href=\"https://s3.amazonaws.com/weruns/forfun/Kickstarter/Kickstarter_2019-05-16T03_20_20_822Z.zip\">CSV</a>]</li>\n",
       " <li>2019-04-18 [<a href=\"https://s3.amazonaws.com/weruns/forfun/Kickstarter/Kickstarter_2019-04-18T03_20_02_220Z.json.gz\">JSON</a>] — [<a href=\"https://s3.amazonaws.com/weruns/forfun/Kickstarter/Kickstarter_2019-04-18T03_20_02_220Z.zip\">CSV</a>]</li>\n",
       " <li>2019-03-14 [<a href=\"https://s3.amazonaws.com/weruns/forfun/Kickstarter/Kickstarter_2019-03-14T03_20_12_200Z.json.gz\">JSON</a>] — [<a href=\"https://s3.amazonaws.com/weruns/forfun/Kickstarter/Kickstarter_2019-03-14T03_20_12_200Z.zip\">CSV</a>]</li>\n",
       " <li>2019-02-14 [<a href=\"https://s3.amazonaws.com/weruns/forfun/Kickstarter/Kickstarter_2019-02-14T03_20_04_734Z.json.gz\">JSON</a>] — [<a href=\"https://s3.amazonaws.com/weruns/forfun/Kickstarter/Kickstarter_2019-02-14T03_20_04_734Z.zip\">CSV</a>]</li>\n",
       " <li>2019-01-17 [<a href=\"https://s3.amazonaws.com/weruns/forfun/Kickstarter/Kickstarter_2019-01-17T03_20_02_630Z.json.gz\">JSON</a>] — [<a href=\"https://s3.amazonaws.com/weruns/forfun/Kickstarter/Kickstarter_2019-01-17T03_20_02_630Z.zip\">CSV</a>]</li>\n",
       " </ul>\n",
       " <h3>2018</h3>\n",
       " <ul>\n",
       " <li>2018-12-13 [<a href=\"https://s3.amazonaws.com/weruns/forfun/Kickstarter/Kickstarter_2018-12-13T03_20_05_701Z.json.gz\">JSON</a>] — [<a href=\"https://s3.amazonaws.com/weruns/forfun/Kickstarter/Kickstarter_2018-12-13T03_20_05_701Z.zip\">CSV</a>]</li>\n",
       " <li>2018-11-15 [<a href=\"https://s3.amazonaws.com/weruns/forfun/Kickstarter/Kickstarter_2018-11-15T03_20_50_568Z.json.gz\">JSON</a>] — [<a href=\"https://s3.amazonaws.com/weruns/forfun/Kickstarter/Kickstarter_2018-11-15T03_20_50_568Z.zip\">CSV</a>]</li>\n",
       " <li>2018-10-18 [<a href=\"https://s3.amazonaws.com/weruns/forfun/Kickstarter/Kickstarter_2018-10-18T03_20_48_880Z.json.gz\">JSON</a>] — [<a href=\"https://s3.amazonaws.com/weruns/forfun/Kickstarter/Kickstarter_2018-10-18T03_20_48_880Z.zip\">CSV</a>]</li>\n",
       " <li>2018-09-13 [<a href=\"https://s3.amazonaws.com/weruns/forfun/Kickstarter/Kickstarter_2018-09-13T03_20_17_777Z.json.gz\">JSON</a>] — [<a href=\"https://s3.amazonaws.com/weruns/forfun/Kickstarter/Kickstarter_2018-09-13T03_20_17_777Z.zip\">CSV</a>]</li>\n",
       " <li>2018-08-16 [<a href=\"https://s3.amazonaws.com/weruns/forfun/Kickstarter/Kickstarter_2018-08-16T03_20_13_856Z.json.gz\">JSON</a>] — [<a href=\"https://s3.amazonaws.com/weruns/forfun/Kickstarter/Kickstarter_2018-08-16T03_20_13_856Z.zip\">CSV</a>]</li>\n",
       " <li>2018-07-12 [<a href=\"https://s3.amazonaws.com/weruns/forfun/Kickstarter/Kickstarter_2018-07-12T03_20_16_435Z.json.gz\">JSON</a>] — [<a href=\"https://s3.amazonaws.com/weruns/forfun/Kickstarter/Kickstarter_2018-07-12T03_20_16_435Z.zip\">CSV</a>]</li>\n",
       " <li>2018-06-14 [<a href=\"https://s3.amazonaws.com/weruns/forfun/Kickstarter/Kickstarter_2018-06-14T03_20_15_782Z.json.gz\">JSON</a>] — [<a href=\"https://s3.amazonaws.com/weruns/forfun/Kickstarter/Kickstarter_2018-06-14T03_20_15_782Z.zip\">CSV</a>]</li>\n",
       " <li>2018-05-17 [<a href=\"https://s3.amazonaws.com/weruns/forfun/Kickstarter/Kickstarter_2018-05-17T03_20_08_333Z.json.gz\">JSON</a>] — [<a href=\"https://s3.amazonaws.com/weruns/forfun/Kickstarter/Kickstarter_2018-05-17T03_20_08_333Z.zip\">CSV</a>]</li>\n",
       " <li>2018-04-12 [<a href=\"https://s3.amazonaws.com/weruns/forfun/Kickstarter/Kickstarter_2018-04-12T03_20_13_192Z.json.gz\">JSON</a>] — [<a href=\"https://s3.amazonaws.com/weruns/forfun/Kickstarter/Kickstarter_2018-04-12T03_20_13_192Z.zip\">CSV</a>]</li>\n",
       " <li>2018-03-15 [<a href=\"https://s3.amazonaws.com/weruns/forfun/Kickstarter/Kickstarter_2018-03-15T03_20_39_033Z.json.gz\">JSON</a>] — [<a href=\"https://s3.amazonaws.com/weruns/forfun/Kickstarter/Kickstarter_2018-03-15T03_20_39_033Z.zip\">CSV</a>]</li>\n",
       " <li>2018-02-15 [<a href=\"https://s3.amazonaws.com/weruns/forfun/Kickstarter/Kickstarter_2018-02-15T03_20_44_743Z.json.gz\">JSON</a>] — [<a href=\"https://s3.amazonaws.com/weruns/forfun/Kickstarter/Kickstarter_2018-02-15T03_20_44_743Z.zip\">CSV</a>]</li>\n",
       " <li>2018-01-12 [<a href=\"https://s3.amazonaws.com/weruns/forfun/Kickstarter/Kickstarter_2018-01-12T10_20_09_196Z.json.gz\">JSON</a>] — [<a href=\"https://s3.amazonaws.com/weruns/forfun/Kickstarter/Kickstarter_2018-01-12T10_20_09_196Z.zip\">CSV</a>]</li>\n",
       " </ul>\n",
       " <h3>2017</h3>\n",
       " <ul>\n",
       " <li>2017-12-15 [<a href=\"https://s3.amazonaws.com/weruns/forfun/Kickstarter/Kickstarter_2017-12-15T10_20_51_610Z.json.gz\">JSON</a>] — [<a href=\"https://s3.amazonaws.com/weruns/forfun/Kickstarter/Kickstarter_2017-12-15T10_20_51_610Z.zip\">CSV</a>]</li>\n",
       " <li>2017-11-15 [<a href=\"https://s3.amazonaws.com/weruns/forfun/Kickstarter/Kickstarter_2017-11-15T10_21_04_919Z.json.gz\">JSON</a>] — [<a href=\"https://s3.amazonaws.com/weruns/forfun/Kickstarter/Kickstarter_2017-11-15T10_21_04_919Z.zip\">CSV</a>]</li>\n",
       " <li>2017-10-15 [<a href=\"https://s3.amazonaws.com/weruns/forfun/Kickstarter/Kickstarter_2017-10-15T10_20_38_271Z.json.gz\">JSON</a>] — [<a href=\"https://s3.amazonaws.com/weruns/forfun/Kickstarter/Kickstarter_2017-10-15T10_20_38_271Z.zip\">CSV</a>]</li>\n",
       " <li>2017-09-15 [<a href=\"https://s3.amazonaws.com/weruns/forfun/Kickstarter/Kickstarter_2017-09-15T22_20_48_432Z.json.gz\">JSON</a>] — [<a href=\"https://s3.amazonaws.com/weruns/forfun/Kickstarter/Kickstarter_2017-09-15T22_20_48_432Z.zip\">CSV</a>]</li>\n",
       " <li>2017-08-15 [<a href=\"https://s3.amazonaws.com/weruns/forfun/Kickstarter/Kickstarter_2017-08-15T22_20_51_958Z.json.gz\">JSON</a>] — [<a href=\"https://s3.amazonaws.com/weruns/forfun/Kickstarter/Kickstarter_2017-08-15T22_20_51_958Z.zip\">CSV</a>]</li>\n",
       " <li>2017-07-15 [<a href=\"https://s3.amazonaws.com/weruns/forfun/Kickstarter/Kickstarter_2017-07-15T22_20_48_951Z.json.gz\">JSON</a>] — [<a href=\"https://s3.amazonaws.com/weruns/forfun/Kickstarter/Kickstarter_2017-07-15T22_20_48_951Z.zip\">CSV</a>]</li>\n",
       " <li>2017-06-15 [<a href=\"https://s3.amazonaws.com/weruns/forfun/Kickstarter/Kickstarter_2017-06-15T22_20_03_059Z.json.gz\">JSON</a>] — [<a href=\"https://s3.amazonaws.com/weruns/forfun/Kickstarter/Kickstarter_2017-06-15T22_20_03_059Z.zip\">CSV</a>]</li>\n",
       " <li>2017-05-15 [<a href=\"https://s3.amazonaws.com/weruns/forfun/Kickstarter/Kickstarter_2017-05-15T22_21_11_300Z.json.gz\">JSON</a>] — [<a href=\"https://s3.amazonaws.com/weruns/forfun/Kickstarter/Kickstarter_2017-05-15T22_21_11_300Z.zip\">CSV</a>]</li>\n",
       " <li>2017-04-15 [<a href=\"https://s3.amazonaws.com/weruns/forfun/Kickstarter/Kickstarter_2017-04-15T22_21_18_122Z.json.gz\">JSON</a>] — [<a href=\"https://s3.amazonaws.com/weruns/forfun/Kickstarter/Kickstarter_2017-04-15T22_21_18_122Z.zip\">CSV</a>]</li>\n",
       " <li>2017-03-15 [<a href=\"https://s3.amazonaws.com/weruns/forfun/Kickstarter/Kickstarter_2017-03-15T22_20_55_874Z.json.gz\">JSON</a>] — [<a href=\"https://s3.amazonaws.com/weruns/forfun/Kickstarter/Kickstarter_2017-03-15T22_20_55_874Z.zip\">CSV</a>]</li>\n",
       " <li>2017-02-15 [<a href=\"https://s3.amazonaws.com/weruns/forfun/Kickstarter/Kickstarter_2017-02-15T22_22_48_377Z.json.gz\">JSON</a>] — [<a href=\"https://s3.amazonaws.com/weruns/forfun/Kickstarter/Kickstarter_2017-02-15T22_22_48_377Z.zip\">CSV</a>]</li>\n",
       " <li>2017-01-15 [<a href=\"https://s3.amazonaws.com/weruns/forfun/Kickstarter/Kickstarter_2017-01-15T22_21_04_985Z.json.gz\">JSON</a>] — [<a href=\"https://s3.amazonaws.com/weruns/forfun/Kickstarter/Kickstarter_2017-01-15T22_21_04_985Z.zip\">CSV</a>]</li>\n",
       " </ul>\n",
       " <h3>2016</h3>\n",
       " <ul>\n",
       " <li>2016-12-15 [<a href=\"https://s3.amazonaws.com/weruns/forfun/Kickstarter/Kickstarter_2016-12-15T22_20_52_411Z.json.gz\">JSON</a>] — [<a href=\"https://s3.amazonaws.com/weruns/forfun/Kickstarter/Kickstarter_2016-12-15T22_20_52_411Z.zip\">CSV</a>]</li>\n",
       " <li>2016-11-12 [<a href=\"https://s3.amazonaws.com/weruns/forfun/Kickstarter/Kickstarter_2016-11-12T22_20_03_295Z.json.gz\">JSON</a>] — [<a href=\"https://s3.amazonaws.com/weruns/forfun/Kickstarter/Kickstarter_2016-11-12T22_20_03_295Z.zip\">CSV</a>]</li>\n",
       " <li>2016-10-15 [<a href=\"https://s3.amazonaws.com/weruns/forfun/Kickstarter/Kickstarter_2016-10-15T02_04_11_689Z.json.gz\">JSON</a>] — [<a href=\"https://s3.amazonaws.com/weruns/forfun/Kickstarter/Kickstarter_2016-10-15T02_04_11_689Z.zip\">CSV</a>]</li>\n",
       " <li>2016-09-15 [<a href=\"https://s3.amazonaws.com/weruns/forfun/Kickstarter/Kickstarter_2016-09-15T02_04_03_474Z.json.gz\">JSON</a>] — [<a href=\"https://s3.amazonaws.com/weruns/forfun/Kickstarter/Kickstarter_2016-09-15T02_04_03_474Z.zip\">CSV</a>]</li>\n",
       " <li>2016-08-15 [<a href=\"https://s3.amazonaws.com/weruns/forfun/Kickstarter/Kickstarter_2016-08-15T02_04_03_829Z.json.gz\">JSON</a>] — [<a href=\"https://s3.amazonaws.com/weruns/forfun/Kickstarter/Kickstarter_2016-08-15T02_04_03_829Z.zip\">CSV</a>]</li>\n",
       " <li>2016-07-15 [<a href=\"https://s3.amazonaws.com/weruns/forfun/Kickstarter/Kickstarter_2016-07-15T02_04_40_862Z.json.gz\">JSON</a>] — [<a href=\"https://s3.amazonaws.com/weruns/forfun/Kickstarter/Kickstarter_2016-07-15T02_04_40_862Z.zip\">CSV</a>]</li>\n",
       " <li>2016-06-15 [<a href=\"https://s3.amazonaws.com/weruns/forfun/Kickstarter/Kickstarter_2016-06-15T02_04_49_697Z.json.gz\">JSON</a>] — [<a href=\"https://s3.amazonaws.com/weruns/forfun/Kickstarter/Kickstarter_2016-06-15T02_04_49_697Z.zip\">CSV</a>]</li>\n",
       " <li>2016-05-15 [<a href=\"https://s3.amazonaws.com/weruns/forfun/Kickstarter/Kickstarter_2016-05-15T02_04_46_813Z.json.gz\">JSON</a>] — [<a href=\"https://s3.amazonaws.com/weruns/forfun/Kickstarter/Kickstarter_2016-05-15T02_04_46_813Z.zip\">CSV</a>]</li>\n",
       " <li>2016-04-15 [<a href=\"https://s3.amazonaws.com/weruns/forfun/Kickstarter/Kickstarter_2016-04-15T02_09_04_328Z.json.gz\">JSON</a>] — [<a href=\"https://s3.amazonaws.com/weruns/forfun/Kickstarter/Kickstarter_2016-04-15T02_09_04_328Z.zip\">CSV</a>]</li>\n",
       " <li>2016-03-22 [<a href=\"https://s3.amazonaws.com/weruns/forfun/Kickstarter/Kickstarter_2016-03-22T07_41_08_591Z.json.gz\">JSON</a>] — [<a href=\"https://s3.amazonaws.com/weruns/forfun/Kickstarter/Kickstarter_2016-03-22T07_41_08_591Z.zip\">CSV</a>]</li>\n",
       " <li>2016-01-28 [<a href=\"https://s3.amazonaws.com/weruns/forfun/Kickstarter/Kickstarter_2016-01-28T09_15_08_781Z.json.gz\">JSON</a>] — [<a href=\"https://s3.amazonaws.com/weruns/forfun/Kickstarter/Kickstarter_2016-01-28T09_15_08_781Z.zip\">CSV</a>]</li>\n",
       " </ul>\n",
       " <h3>2015 and older</h3>\n",
       " <ul>\n",
       " <li>2015-12-17 [<a href=\"https://s3.amazonaws.com/weruns/forfun/Kickstarter/Kickstarter_2015-12-17T12_09_06_107Z.json.gz\">JSON</a>] — [<a href=\"https://s3.amazonaws.com/weruns/forfun/Kickstarter/Kickstarter_2015-12-17T12_09_06_107Z.zip\">CSV</a>]</li>\n",
       " <li>2015-11-01 [<a href=\"https://s3.amazonaws.com/weruns/forfun/Kickstarter/Kickstarter_2015-11-01T14_09_04_557Z.json.gz\" rel=\"noopener noreferrer\" target=\"_blank\">JSON</a>] — [<a href=\"https://s3.amazonaws.com/weruns/forfun/Kickstarter/Kickstarter_2015-11-01T14_09_04_557Z.zip\" rel=\"noopener noreferrer\" target=\"_blank\">CSV</a>]</li>\n",
       " <li>2015-10-22 [<a href=\"https://s3.amazonaws.com/weruns/forfun/Kickstarter/Kickstarter_2015-10-22T09_57_48_703Z.json.gz\" rel=\"noopener noreferrer\" target=\"_blank\">JSON</a>] [<a href=\"https://s3.amazonaws.com/weruns/forfun/Kickstarter/Kickstarter_2015-10-22T09_57_48_703Z.zip\" rel=\"noopener noreferrer\" target=\"_blank\">CSV</a>]</li>\n",
       " <li>2015-08-21 [<a href=\"https://s3.amazonaws.com/weruns/kickstarter_old/Kickstarter_2015-08-21.json.zip\" rel=\"noopener noreferrer\" target=\"_blank\">JSON</a>]</li>\n",
       " <li>2015-06-12 [<a href=\"https://s3.amazonaws.com/weruns/kickstarter_old/Kickstarter_2015-06-12.json.zip\" rel=\"noopener noreferrer\" target=\"_blank\">JSON</a>]</li>\n",
       " <li>2015-04-02 [<a href=\"https://s3.amazonaws.com/weruns/kickstarter_old/Kickstarter_2015-04-02.json.zip\" rel=\"noopener noreferrer\" target=\"_blank\">JSON</a>]</li>\n",
       " <li>2014-12-02 [<a href=\"https://s3.amazonaws.com/weruns/kickstarter_old/Kickstarter_2014-12-02.json.zip\">JSON</a>]</li>\n",
       " <li>2014-10-17 [<a href=\"https://s3.amazonaws.com/weruns/kickstarter_old/Kickstarter_2014-10-17.json.zip\" rel=\"noopener noreferrer\" target=\"_blank\">JSON</a>]</li>\n",
       " <li>2014-08-13 [<a href=\"https://s3.amazonaws.com/weruns/kickstarter_old/Kickstarter_2014-08-13.json.zip\" rel=\"noopener noreferrer\" target=\"_blank\">JSON</a>]</li>\n",
       " <li>2014-04-22 [<a href=\"https://s3.amazonaws.com/weruns/kickstarter_old/Kickstarter_2014-04-22.json.zip\" rel=\"noopener noreferrer\" target=\"_blank\">JSON</a>]</li>\n",
       " </ul>\n",
       " <h2><strong>We are also currently working on a web interface for crowdfunding dataset. You will be able to access it <a href=\"http://crowdfunding.webrobots.io\">here</a>.</strong></h2>\n",
       " <p><span style=\"color: #ff0000;\">Note:</span> from April 2015 we noticed that Kickstarter started limiting how many projects user can view in a single category. This limits the amount of historic projects we can get in a single scrape run. But recent and active projects are always included.</p>\n",
       " <p><span style=\"color: #ff0000;\">Note:</span> from December 2015 we modified the collection approach to go through all sub-categories instead of only top level categories. This yields more results in the datasets, but possible duplication where projects are listed in multiple categories. Also from December 2015 JSON file is in JSON streaming format. Read more about it here: <a href=\"https://en.wikipedia.org/wiki/JSON_Streaming\" rel=\"noopener noreferrer\" target=\"_blank\">https://en.wikipedia.org/wiki/JSON_Streaming</a></p>\n",
       " <p>We receive many question about timestamp format used in this dataset. It is unix time. Google has a lot of information about it.</p>\n",
       " <p>Warning: files are compressed, size in area of 100mb. Uncompressed size around 600mb.</p>\n",
       " <p>Also see: our <a href=\"https://webrobots.io/indiegogo-dataset/\">Indiegogo data</a></p>\n",
       " </div>]"
      ]
     },
     "execution_count": 42,
     "metadata": {},
     "output_type": "execute_result"
    }
   ],
   "source": [
    "soup.findAll('div', {'class': 'fusion-text'})"
   ]
  },
  {
   "cell_type": "code",
   "execution_count": 43,
   "metadata": {},
   "outputs": [],
   "source": [
    "text = soup.findAll('div', {'class': 'fusion-text'})"
   ]
  },
  {
   "cell_type": "code",
   "execution_count": 45,
   "metadata": {},
   "outputs": [
    {
     "data": {
      "text/plain": [
       "bs4.element.Tag"
      ]
     },
     "execution_count": 45,
     "metadata": {},
     "output_type": "execute_result"
    }
   ],
   "source": [
    "type(text[0])"
   ]
  },
  {
   "cell_type": "code",
   "execution_count": 75,
   "metadata": {},
   "outputs": [
    {
     "data": {
      "text/plain": [
       "[<a href=\"http://kickstarter.com\" rel=\"noopener noreferrer\" target=\"_blank\">Kickstarter</a>,\n",
       " <a href=\"https://s3.amazonaws.com/weruns/forfun/Kickstarter/Kickstarter_2019-08-15T03_20_03_022Z.json.gz\">JSON</a>,\n",
       " <a href=\"https://s3.amazonaws.com/weruns/forfun/Kickstarter/Kickstarter_2019-08-15T03_20_03_022Z.zip\">CSV</a>,\n",
       " <a href=\"https://s3.amazonaws.com/weruns/forfun/Kickstarter/Kickstarter_2019-07-18T03_20_05_009Z.json.gz\">JSON</a>,\n",
       " <a href=\"https://s3.amazonaws.com/weruns/forfun/Kickstarter/Kickstarter_2019-07-18T03_20_05_009Z.zip\">CSV</a>,\n",
       " <a href=\"https://s3.amazonaws.com/weruns/forfun/Kickstarter/Kickstarter_2019-06-13T03_20_35_801Z.json.gz\">JSON</a>,\n",
       " <a href=\"https://s3.amazonaws.com/weruns/forfun/Kickstarter/Kickstarter_2019-06-13T03_20_35_801Z.zip\">CSV</a>,\n",
       " <a href=\"https://s3.amazonaws.com/weruns/forfun/Kickstarter/Kickstarter_2019-05-16T03_20_20_822Z.json.gz\">JSON</a>,\n",
       " <a href=\"https://s3.amazonaws.com/weruns/forfun/Kickstarter/Kickstarter_2019-05-16T03_20_20_822Z.zip\">CSV</a>,\n",
       " <a href=\"https://s3.amazonaws.com/weruns/forfun/Kickstarter/Kickstarter_2019-04-18T03_20_02_220Z.json.gz\">JSON</a>,\n",
       " <a href=\"https://s3.amazonaws.com/weruns/forfun/Kickstarter/Kickstarter_2019-04-18T03_20_02_220Z.zip\">CSV</a>,\n",
       " <a href=\"https://s3.amazonaws.com/weruns/forfun/Kickstarter/Kickstarter_2019-03-14T03_20_12_200Z.json.gz\">JSON</a>,\n",
       " <a href=\"https://s3.amazonaws.com/weruns/forfun/Kickstarter/Kickstarter_2019-03-14T03_20_12_200Z.zip\">CSV</a>,\n",
       " <a href=\"https://s3.amazonaws.com/weruns/forfun/Kickstarter/Kickstarter_2019-02-14T03_20_04_734Z.json.gz\">JSON</a>,\n",
       " <a href=\"https://s3.amazonaws.com/weruns/forfun/Kickstarter/Kickstarter_2019-02-14T03_20_04_734Z.zip\">CSV</a>,\n",
       " <a href=\"https://s3.amazonaws.com/weruns/forfun/Kickstarter/Kickstarter_2019-01-17T03_20_02_630Z.json.gz\">JSON</a>,\n",
       " <a href=\"https://s3.amazonaws.com/weruns/forfun/Kickstarter/Kickstarter_2019-01-17T03_20_02_630Z.zip\">CSV</a>,\n",
       " <a href=\"https://s3.amazonaws.com/weruns/forfun/Kickstarter/Kickstarter_2018-12-13T03_20_05_701Z.json.gz\">JSON</a>,\n",
       " <a href=\"https://s3.amazonaws.com/weruns/forfun/Kickstarter/Kickstarter_2018-12-13T03_20_05_701Z.zip\">CSV</a>,\n",
       " <a href=\"https://s3.amazonaws.com/weruns/forfun/Kickstarter/Kickstarter_2018-11-15T03_20_50_568Z.json.gz\">JSON</a>,\n",
       " <a href=\"https://s3.amazonaws.com/weruns/forfun/Kickstarter/Kickstarter_2018-11-15T03_20_50_568Z.zip\">CSV</a>,\n",
       " <a href=\"https://s3.amazonaws.com/weruns/forfun/Kickstarter/Kickstarter_2018-10-18T03_20_48_880Z.json.gz\">JSON</a>,\n",
       " <a href=\"https://s3.amazonaws.com/weruns/forfun/Kickstarter/Kickstarter_2018-10-18T03_20_48_880Z.zip\">CSV</a>,\n",
       " <a href=\"https://s3.amazonaws.com/weruns/forfun/Kickstarter/Kickstarter_2018-09-13T03_20_17_777Z.json.gz\">JSON</a>,\n",
       " <a href=\"https://s3.amazonaws.com/weruns/forfun/Kickstarter/Kickstarter_2018-09-13T03_20_17_777Z.zip\">CSV</a>,\n",
       " <a href=\"https://s3.amazonaws.com/weruns/forfun/Kickstarter/Kickstarter_2018-08-16T03_20_13_856Z.json.gz\">JSON</a>,\n",
       " <a href=\"https://s3.amazonaws.com/weruns/forfun/Kickstarter/Kickstarter_2018-08-16T03_20_13_856Z.zip\">CSV</a>,\n",
       " <a href=\"https://s3.amazonaws.com/weruns/forfun/Kickstarter/Kickstarter_2018-07-12T03_20_16_435Z.json.gz\">JSON</a>,\n",
       " <a href=\"https://s3.amazonaws.com/weruns/forfun/Kickstarter/Kickstarter_2018-07-12T03_20_16_435Z.zip\">CSV</a>,\n",
       " <a href=\"https://s3.amazonaws.com/weruns/forfun/Kickstarter/Kickstarter_2018-06-14T03_20_15_782Z.json.gz\">JSON</a>,\n",
       " <a href=\"https://s3.amazonaws.com/weruns/forfun/Kickstarter/Kickstarter_2018-06-14T03_20_15_782Z.zip\">CSV</a>,\n",
       " <a href=\"https://s3.amazonaws.com/weruns/forfun/Kickstarter/Kickstarter_2018-05-17T03_20_08_333Z.json.gz\">JSON</a>,\n",
       " <a href=\"https://s3.amazonaws.com/weruns/forfun/Kickstarter/Kickstarter_2018-05-17T03_20_08_333Z.zip\">CSV</a>,\n",
       " <a href=\"https://s3.amazonaws.com/weruns/forfun/Kickstarter/Kickstarter_2018-04-12T03_20_13_192Z.json.gz\">JSON</a>,\n",
       " <a href=\"https://s3.amazonaws.com/weruns/forfun/Kickstarter/Kickstarter_2018-04-12T03_20_13_192Z.zip\">CSV</a>,\n",
       " <a href=\"https://s3.amazonaws.com/weruns/forfun/Kickstarter/Kickstarter_2018-03-15T03_20_39_033Z.json.gz\">JSON</a>,\n",
       " <a href=\"https://s3.amazonaws.com/weruns/forfun/Kickstarter/Kickstarter_2018-03-15T03_20_39_033Z.zip\">CSV</a>,\n",
       " <a href=\"https://s3.amazonaws.com/weruns/forfun/Kickstarter/Kickstarter_2018-02-15T03_20_44_743Z.json.gz\">JSON</a>,\n",
       " <a href=\"https://s3.amazonaws.com/weruns/forfun/Kickstarter/Kickstarter_2018-02-15T03_20_44_743Z.zip\">CSV</a>,\n",
       " <a href=\"https://s3.amazonaws.com/weruns/forfun/Kickstarter/Kickstarter_2018-01-12T10_20_09_196Z.json.gz\">JSON</a>,\n",
       " <a href=\"https://s3.amazonaws.com/weruns/forfun/Kickstarter/Kickstarter_2018-01-12T10_20_09_196Z.zip\">CSV</a>,\n",
       " <a href=\"https://s3.amazonaws.com/weruns/forfun/Kickstarter/Kickstarter_2017-12-15T10_20_51_610Z.json.gz\">JSON</a>,\n",
       " <a href=\"https://s3.amazonaws.com/weruns/forfun/Kickstarter/Kickstarter_2017-12-15T10_20_51_610Z.zip\">CSV</a>,\n",
       " <a href=\"https://s3.amazonaws.com/weruns/forfun/Kickstarter/Kickstarter_2017-11-15T10_21_04_919Z.json.gz\">JSON</a>,\n",
       " <a href=\"https://s3.amazonaws.com/weruns/forfun/Kickstarter/Kickstarter_2017-11-15T10_21_04_919Z.zip\">CSV</a>,\n",
       " <a href=\"https://s3.amazonaws.com/weruns/forfun/Kickstarter/Kickstarter_2017-10-15T10_20_38_271Z.json.gz\">JSON</a>,\n",
       " <a href=\"https://s3.amazonaws.com/weruns/forfun/Kickstarter/Kickstarter_2017-10-15T10_20_38_271Z.zip\">CSV</a>,\n",
       " <a href=\"https://s3.amazonaws.com/weruns/forfun/Kickstarter/Kickstarter_2017-09-15T22_20_48_432Z.json.gz\">JSON</a>,\n",
       " <a href=\"https://s3.amazonaws.com/weruns/forfun/Kickstarter/Kickstarter_2017-09-15T22_20_48_432Z.zip\">CSV</a>,\n",
       " <a href=\"https://s3.amazonaws.com/weruns/forfun/Kickstarter/Kickstarter_2017-08-15T22_20_51_958Z.json.gz\">JSON</a>,\n",
       " <a href=\"https://s3.amazonaws.com/weruns/forfun/Kickstarter/Kickstarter_2017-08-15T22_20_51_958Z.zip\">CSV</a>,\n",
       " <a href=\"https://s3.amazonaws.com/weruns/forfun/Kickstarter/Kickstarter_2017-07-15T22_20_48_951Z.json.gz\">JSON</a>,\n",
       " <a href=\"https://s3.amazonaws.com/weruns/forfun/Kickstarter/Kickstarter_2017-07-15T22_20_48_951Z.zip\">CSV</a>,\n",
       " <a href=\"https://s3.amazonaws.com/weruns/forfun/Kickstarter/Kickstarter_2017-06-15T22_20_03_059Z.json.gz\">JSON</a>,\n",
       " <a href=\"https://s3.amazonaws.com/weruns/forfun/Kickstarter/Kickstarter_2017-06-15T22_20_03_059Z.zip\">CSV</a>,\n",
       " <a href=\"https://s3.amazonaws.com/weruns/forfun/Kickstarter/Kickstarter_2017-05-15T22_21_11_300Z.json.gz\">JSON</a>,\n",
       " <a href=\"https://s3.amazonaws.com/weruns/forfun/Kickstarter/Kickstarter_2017-05-15T22_21_11_300Z.zip\">CSV</a>,\n",
       " <a href=\"https://s3.amazonaws.com/weruns/forfun/Kickstarter/Kickstarter_2017-04-15T22_21_18_122Z.json.gz\">JSON</a>,\n",
       " <a href=\"https://s3.amazonaws.com/weruns/forfun/Kickstarter/Kickstarter_2017-04-15T22_21_18_122Z.zip\">CSV</a>,\n",
       " <a href=\"https://s3.amazonaws.com/weruns/forfun/Kickstarter/Kickstarter_2017-03-15T22_20_55_874Z.json.gz\">JSON</a>,\n",
       " <a href=\"https://s3.amazonaws.com/weruns/forfun/Kickstarter/Kickstarter_2017-03-15T22_20_55_874Z.zip\">CSV</a>,\n",
       " <a href=\"https://s3.amazonaws.com/weruns/forfun/Kickstarter/Kickstarter_2017-02-15T22_22_48_377Z.json.gz\">JSON</a>,\n",
       " <a href=\"https://s3.amazonaws.com/weruns/forfun/Kickstarter/Kickstarter_2017-02-15T22_22_48_377Z.zip\">CSV</a>,\n",
       " <a href=\"https://s3.amazonaws.com/weruns/forfun/Kickstarter/Kickstarter_2017-01-15T22_21_04_985Z.json.gz\">JSON</a>,\n",
       " <a href=\"https://s3.amazonaws.com/weruns/forfun/Kickstarter/Kickstarter_2017-01-15T22_21_04_985Z.zip\">CSV</a>,\n",
       " <a href=\"https://s3.amazonaws.com/weruns/forfun/Kickstarter/Kickstarter_2016-12-15T22_20_52_411Z.json.gz\">JSON</a>,\n",
       " <a href=\"https://s3.amazonaws.com/weruns/forfun/Kickstarter/Kickstarter_2016-12-15T22_20_52_411Z.zip\">CSV</a>,\n",
       " <a href=\"https://s3.amazonaws.com/weruns/forfun/Kickstarter/Kickstarter_2016-11-12T22_20_03_295Z.json.gz\">JSON</a>,\n",
       " <a href=\"https://s3.amazonaws.com/weruns/forfun/Kickstarter/Kickstarter_2016-11-12T22_20_03_295Z.zip\">CSV</a>,\n",
       " <a href=\"https://s3.amazonaws.com/weruns/forfun/Kickstarter/Kickstarter_2016-10-15T02_04_11_689Z.json.gz\">JSON</a>,\n",
       " <a href=\"https://s3.amazonaws.com/weruns/forfun/Kickstarter/Kickstarter_2016-10-15T02_04_11_689Z.zip\">CSV</a>,\n",
       " <a href=\"https://s3.amazonaws.com/weruns/forfun/Kickstarter/Kickstarter_2016-09-15T02_04_03_474Z.json.gz\">JSON</a>,\n",
       " <a href=\"https://s3.amazonaws.com/weruns/forfun/Kickstarter/Kickstarter_2016-09-15T02_04_03_474Z.zip\">CSV</a>,\n",
       " <a href=\"https://s3.amazonaws.com/weruns/forfun/Kickstarter/Kickstarter_2016-08-15T02_04_03_829Z.json.gz\">JSON</a>,\n",
       " <a href=\"https://s3.amazonaws.com/weruns/forfun/Kickstarter/Kickstarter_2016-08-15T02_04_03_829Z.zip\">CSV</a>,\n",
       " <a href=\"https://s3.amazonaws.com/weruns/forfun/Kickstarter/Kickstarter_2016-07-15T02_04_40_862Z.json.gz\">JSON</a>,\n",
       " <a href=\"https://s3.amazonaws.com/weruns/forfun/Kickstarter/Kickstarter_2016-07-15T02_04_40_862Z.zip\">CSV</a>,\n",
       " <a href=\"https://s3.amazonaws.com/weruns/forfun/Kickstarter/Kickstarter_2016-06-15T02_04_49_697Z.json.gz\">JSON</a>,\n",
       " <a href=\"https://s3.amazonaws.com/weruns/forfun/Kickstarter/Kickstarter_2016-06-15T02_04_49_697Z.zip\">CSV</a>,\n",
       " <a href=\"https://s3.amazonaws.com/weruns/forfun/Kickstarter/Kickstarter_2016-05-15T02_04_46_813Z.json.gz\">JSON</a>,\n",
       " <a href=\"https://s3.amazonaws.com/weruns/forfun/Kickstarter/Kickstarter_2016-05-15T02_04_46_813Z.zip\">CSV</a>,\n",
       " <a href=\"https://s3.amazonaws.com/weruns/forfun/Kickstarter/Kickstarter_2016-04-15T02_09_04_328Z.json.gz\">JSON</a>,\n",
       " <a href=\"https://s3.amazonaws.com/weruns/forfun/Kickstarter/Kickstarter_2016-04-15T02_09_04_328Z.zip\">CSV</a>,\n",
       " <a href=\"https://s3.amazonaws.com/weruns/forfun/Kickstarter/Kickstarter_2016-03-22T07_41_08_591Z.json.gz\">JSON</a>,\n",
       " <a href=\"https://s3.amazonaws.com/weruns/forfun/Kickstarter/Kickstarter_2016-03-22T07_41_08_591Z.zip\">CSV</a>,\n",
       " <a href=\"https://s3.amazonaws.com/weruns/forfun/Kickstarter/Kickstarter_2016-01-28T09_15_08_781Z.json.gz\">JSON</a>,\n",
       " <a href=\"https://s3.amazonaws.com/weruns/forfun/Kickstarter/Kickstarter_2016-01-28T09_15_08_781Z.zip\">CSV</a>,\n",
       " <a href=\"https://s3.amazonaws.com/weruns/forfun/Kickstarter/Kickstarter_2015-12-17T12_09_06_107Z.json.gz\">JSON</a>,\n",
       " <a href=\"https://s3.amazonaws.com/weruns/forfun/Kickstarter/Kickstarter_2015-12-17T12_09_06_107Z.zip\">CSV</a>,\n",
       " <a href=\"https://s3.amazonaws.com/weruns/forfun/Kickstarter/Kickstarter_2015-11-01T14_09_04_557Z.json.gz\" rel=\"noopener noreferrer\" target=\"_blank\">JSON</a>,\n",
       " <a href=\"https://s3.amazonaws.com/weruns/forfun/Kickstarter/Kickstarter_2015-11-01T14_09_04_557Z.zip\" rel=\"noopener noreferrer\" target=\"_blank\">CSV</a>,\n",
       " <a href=\"https://s3.amazonaws.com/weruns/forfun/Kickstarter/Kickstarter_2015-10-22T09_57_48_703Z.json.gz\" rel=\"noopener noreferrer\" target=\"_blank\">JSON</a>,\n",
       " <a href=\"https://s3.amazonaws.com/weruns/forfun/Kickstarter/Kickstarter_2015-10-22T09_57_48_703Z.zip\" rel=\"noopener noreferrer\" target=\"_blank\">CSV</a>,\n",
       " <a href=\"https://s3.amazonaws.com/weruns/kickstarter_old/Kickstarter_2015-08-21.json.zip\" rel=\"noopener noreferrer\" target=\"_blank\">JSON</a>,\n",
       " <a href=\"https://s3.amazonaws.com/weruns/kickstarter_old/Kickstarter_2015-06-12.json.zip\" rel=\"noopener noreferrer\" target=\"_blank\">JSON</a>,\n",
       " <a href=\"https://s3.amazonaws.com/weruns/kickstarter_old/Kickstarter_2015-04-02.json.zip\" rel=\"noopener noreferrer\" target=\"_blank\">JSON</a>,\n",
       " <a href=\"https://s3.amazonaws.com/weruns/kickstarter_old/Kickstarter_2014-12-02.json.zip\">JSON</a>,\n",
       " <a href=\"https://s3.amazonaws.com/weruns/kickstarter_old/Kickstarter_2014-10-17.json.zip\" rel=\"noopener noreferrer\" target=\"_blank\">JSON</a>,\n",
       " <a href=\"https://s3.amazonaws.com/weruns/kickstarter_old/Kickstarter_2014-08-13.json.zip\" rel=\"noopener noreferrer\" target=\"_blank\">JSON</a>,\n",
       " <a href=\"https://s3.amazonaws.com/weruns/kickstarter_old/Kickstarter_2014-04-22.json.zip\" rel=\"noopener noreferrer\" target=\"_blank\">JSON</a>,\n",
       " <a href=\"http://crowdfunding.webrobots.io\">here</a>,\n",
       " <a href=\"https://en.wikipedia.org/wiki/JSON_Streaming\" rel=\"noopener noreferrer\" target=\"_blank\">https://en.wikipedia.org/wiki/JSON_Streaming</a>,\n",
       " <a href=\"https://webrobots.io/indiegogo-dataset/\">Indiegogo data</a>]"
      ]
     },
     "execution_count": 75,
     "metadata": {},
     "output_type": "execute_result"
    }
   ],
   "source": [
    "text[0].findAll('a')"
   ]
  },
  {
   "cell_type": "code",
   "execution_count": 76,
   "metadata": {},
   "outputs": [],
   "source": [
    "ahrefs = text[0].findAll('a')"
   ]
  },
  {
   "cell_type": "code",
   "execution_count": 77,
   "metadata": {},
   "outputs": [
    {
     "name": "stdout",
     "output_type": "stream",
     "text": [
      "[<a href=\"http://kickstarter.com\" rel=\"noopener noreferrer\" target=\"_blank\">Kickstarter</a>, <a href=\"https://s3.amazonaws.com/weruns/forfun/Kickstarter/Kickstarter_2019-08-15T03_20_03_022Z.json.gz\">JSON</a>, <a href=\"https://s3.amazonaws.com/weruns/forfun/Kickstarter/Kickstarter_2019-08-15T03_20_03_022Z.zip\">CSV</a>, <a href=\"https://s3.amazonaws.com/weruns/forfun/Kickstarter/Kickstarter_2019-07-18T03_20_05_009Z.json.gz\">JSON</a>, <a href=\"https://s3.amazonaws.com/weruns/forfun/Kickstarter/Kickstarter_2019-07-18T03_20_05_009Z.zip\">CSV</a>, <a href=\"https://s3.amazonaws.com/weruns/forfun/Kickstarter/Kickstarter_2019-06-13T03_20_35_801Z.json.gz\">JSON</a>, <a href=\"https://s3.amazonaws.com/weruns/forfun/Kickstarter/Kickstarter_2019-06-13T03_20_35_801Z.zip\">CSV</a>, <a href=\"https://s3.amazonaws.com/weruns/forfun/Kickstarter/Kickstarter_2019-05-16T03_20_20_822Z.json.gz\">JSON</a>, <a href=\"https://s3.amazonaws.com/weruns/forfun/Kickstarter/Kickstarter_2019-05-16T03_20_20_822Z.zip\">CSV</a>, <a href=\"https://s3.amazonaws.com/weruns/forfun/Kickstarter/Kickstarter_2019-04-18T03_20_02_220Z.json.gz\">JSON</a>, <a href=\"https://s3.amazonaws.com/weruns/forfun/Kickstarter/Kickstarter_2019-04-18T03_20_02_220Z.zip\">CSV</a>, <a href=\"https://s3.amazonaws.com/weruns/forfun/Kickstarter/Kickstarter_2019-03-14T03_20_12_200Z.json.gz\">JSON</a>, <a href=\"https://s3.amazonaws.com/weruns/forfun/Kickstarter/Kickstarter_2019-03-14T03_20_12_200Z.zip\">CSV</a>, <a href=\"https://s3.amazonaws.com/weruns/forfun/Kickstarter/Kickstarter_2019-02-14T03_20_04_734Z.json.gz\">JSON</a>, <a href=\"https://s3.amazonaws.com/weruns/forfun/Kickstarter/Kickstarter_2019-02-14T03_20_04_734Z.zip\">CSV</a>, <a href=\"https://s3.amazonaws.com/weruns/forfun/Kickstarter/Kickstarter_2019-01-17T03_20_02_630Z.json.gz\">JSON</a>, <a href=\"https://s3.amazonaws.com/weruns/forfun/Kickstarter/Kickstarter_2019-01-17T03_20_02_630Z.zip\">CSV</a>, <a href=\"https://s3.amazonaws.com/weruns/forfun/Kickstarter/Kickstarter_2018-12-13T03_20_05_701Z.json.gz\">JSON</a>, <a href=\"https://s3.amazonaws.com/weruns/forfun/Kickstarter/Kickstarter_2018-12-13T03_20_05_701Z.zip\">CSV</a>, <a href=\"https://s3.amazonaws.com/weruns/forfun/Kickstarter/Kickstarter_2018-11-15T03_20_50_568Z.json.gz\">JSON</a>, <a href=\"https://s3.amazonaws.com/weruns/forfun/Kickstarter/Kickstarter_2018-11-15T03_20_50_568Z.zip\">CSV</a>, <a href=\"https://s3.amazonaws.com/weruns/forfun/Kickstarter/Kickstarter_2018-10-18T03_20_48_880Z.json.gz\">JSON</a>, <a href=\"https://s3.amazonaws.com/weruns/forfun/Kickstarter/Kickstarter_2018-10-18T03_20_48_880Z.zip\">CSV</a>, <a href=\"https://s3.amazonaws.com/weruns/forfun/Kickstarter/Kickstarter_2018-09-13T03_20_17_777Z.json.gz\">JSON</a>, <a href=\"https://s3.amazonaws.com/weruns/forfun/Kickstarter/Kickstarter_2018-09-13T03_20_17_777Z.zip\">CSV</a>, <a href=\"https://s3.amazonaws.com/weruns/forfun/Kickstarter/Kickstarter_2018-08-16T03_20_13_856Z.json.gz\">JSON</a>, <a href=\"https://s3.amazonaws.com/weruns/forfun/Kickstarter/Kickstarter_2018-08-16T03_20_13_856Z.zip\">CSV</a>, <a href=\"https://s3.amazonaws.com/weruns/forfun/Kickstarter/Kickstarter_2018-07-12T03_20_16_435Z.json.gz\">JSON</a>, <a href=\"https://s3.amazonaws.com/weruns/forfun/Kickstarter/Kickstarter_2018-07-12T03_20_16_435Z.zip\">CSV</a>, <a href=\"https://s3.amazonaws.com/weruns/forfun/Kickstarter/Kickstarter_2018-06-14T03_20_15_782Z.json.gz\">JSON</a>, <a href=\"https://s3.amazonaws.com/weruns/forfun/Kickstarter/Kickstarter_2018-06-14T03_20_15_782Z.zip\">CSV</a>, <a href=\"https://s3.amazonaws.com/weruns/forfun/Kickstarter/Kickstarter_2018-05-17T03_20_08_333Z.json.gz\">JSON</a>, <a href=\"https://s3.amazonaws.com/weruns/forfun/Kickstarter/Kickstarter_2018-05-17T03_20_08_333Z.zip\">CSV</a>, <a href=\"https://s3.amazonaws.com/weruns/forfun/Kickstarter/Kickstarter_2018-04-12T03_20_13_192Z.json.gz\">JSON</a>, <a href=\"https://s3.amazonaws.com/weruns/forfun/Kickstarter/Kickstarter_2018-04-12T03_20_13_192Z.zip\">CSV</a>, <a href=\"https://s3.amazonaws.com/weruns/forfun/Kickstarter/Kickstarter_2018-03-15T03_20_39_033Z.json.gz\">JSON</a>, <a href=\"https://s3.amazonaws.com/weruns/forfun/Kickstarter/Kickstarter_2018-03-15T03_20_39_033Z.zip\">CSV</a>, <a href=\"https://s3.amazonaws.com/weruns/forfun/Kickstarter/Kickstarter_2018-02-15T03_20_44_743Z.json.gz\">JSON</a>, <a href=\"https://s3.amazonaws.com/weruns/forfun/Kickstarter/Kickstarter_2018-02-15T03_20_44_743Z.zip\">CSV</a>, <a href=\"https://s3.amazonaws.com/weruns/forfun/Kickstarter/Kickstarter_2018-01-12T10_20_09_196Z.json.gz\">JSON</a>, <a href=\"https://s3.amazonaws.com/weruns/forfun/Kickstarter/Kickstarter_2018-01-12T10_20_09_196Z.zip\">CSV</a>, <a href=\"https://s3.amazonaws.com/weruns/forfun/Kickstarter/Kickstarter_2017-12-15T10_20_51_610Z.json.gz\">JSON</a>, <a href=\"https://s3.amazonaws.com/weruns/forfun/Kickstarter/Kickstarter_2017-12-15T10_20_51_610Z.zip\">CSV</a>, <a href=\"https://s3.amazonaws.com/weruns/forfun/Kickstarter/Kickstarter_2017-11-15T10_21_04_919Z.json.gz\">JSON</a>, <a href=\"https://s3.amazonaws.com/weruns/forfun/Kickstarter/Kickstarter_2017-11-15T10_21_04_919Z.zip\">CSV</a>, <a href=\"https://s3.amazonaws.com/weruns/forfun/Kickstarter/Kickstarter_2017-10-15T10_20_38_271Z.json.gz\">JSON</a>, <a href=\"https://s3.amazonaws.com/weruns/forfun/Kickstarter/Kickstarter_2017-10-15T10_20_38_271Z.zip\">CSV</a>, <a href=\"https://s3.amazonaws.com/weruns/forfun/Kickstarter/Kickstarter_2017-09-15T22_20_48_432Z.json.gz\">JSON</a>, <a href=\"https://s3.amazonaws.com/weruns/forfun/Kickstarter/Kickstarter_2017-09-15T22_20_48_432Z.zip\">CSV</a>, <a href=\"https://s3.amazonaws.com/weruns/forfun/Kickstarter/Kickstarter_2017-08-15T22_20_51_958Z.json.gz\">JSON</a>, <a href=\"https://s3.amazonaws.com/weruns/forfun/Kickstarter/Kickstarter_2017-08-15T22_20_51_958Z.zip\">CSV</a>, <a href=\"https://s3.amazonaws.com/weruns/forfun/Kickstarter/Kickstarter_2017-07-15T22_20_48_951Z.json.gz\">JSON</a>, <a href=\"https://s3.amazonaws.com/weruns/forfun/Kickstarter/Kickstarter_2017-07-15T22_20_48_951Z.zip\">CSV</a>, <a href=\"https://s3.amazonaws.com/weruns/forfun/Kickstarter/Kickstarter_2017-06-15T22_20_03_059Z.json.gz\">JSON</a>, <a href=\"https://s3.amazonaws.com/weruns/forfun/Kickstarter/Kickstarter_2017-06-15T22_20_03_059Z.zip\">CSV</a>, <a href=\"https://s3.amazonaws.com/weruns/forfun/Kickstarter/Kickstarter_2017-05-15T22_21_11_300Z.json.gz\">JSON</a>, <a href=\"https://s3.amazonaws.com/weruns/forfun/Kickstarter/Kickstarter_2017-05-15T22_21_11_300Z.zip\">CSV</a>, <a href=\"https://s3.amazonaws.com/weruns/forfun/Kickstarter/Kickstarter_2017-04-15T22_21_18_122Z.json.gz\">JSON</a>, <a href=\"https://s3.amazonaws.com/weruns/forfun/Kickstarter/Kickstarter_2017-04-15T22_21_18_122Z.zip\">CSV</a>, <a href=\"https://s3.amazonaws.com/weruns/forfun/Kickstarter/Kickstarter_2017-03-15T22_20_55_874Z.json.gz\">JSON</a>, <a href=\"https://s3.amazonaws.com/weruns/forfun/Kickstarter/Kickstarter_2017-03-15T22_20_55_874Z.zip\">CSV</a>, <a href=\"https://s3.amazonaws.com/weruns/forfun/Kickstarter/Kickstarter_2017-02-15T22_22_48_377Z.json.gz\">JSON</a>, <a href=\"https://s3.amazonaws.com/weruns/forfun/Kickstarter/Kickstarter_2017-02-15T22_22_48_377Z.zip\">CSV</a>, <a href=\"https://s3.amazonaws.com/weruns/forfun/Kickstarter/Kickstarter_2017-01-15T22_21_04_985Z.json.gz\">JSON</a>, <a href=\"https://s3.amazonaws.com/weruns/forfun/Kickstarter/Kickstarter_2017-01-15T22_21_04_985Z.zip\">CSV</a>, <a href=\"https://s3.amazonaws.com/weruns/forfun/Kickstarter/Kickstarter_2016-12-15T22_20_52_411Z.json.gz\">JSON</a>, <a href=\"https://s3.amazonaws.com/weruns/forfun/Kickstarter/Kickstarter_2016-12-15T22_20_52_411Z.zip\">CSV</a>, <a href=\"https://s3.amazonaws.com/weruns/forfun/Kickstarter/Kickstarter_2016-11-12T22_20_03_295Z.json.gz\">JSON</a>, <a href=\"https://s3.amazonaws.com/weruns/forfun/Kickstarter/Kickstarter_2016-11-12T22_20_03_295Z.zip\">CSV</a>, <a href=\"https://s3.amazonaws.com/weruns/forfun/Kickstarter/Kickstarter_2016-10-15T02_04_11_689Z.json.gz\">JSON</a>, <a href=\"https://s3.amazonaws.com/weruns/forfun/Kickstarter/Kickstarter_2016-10-15T02_04_11_689Z.zip\">CSV</a>, <a href=\"https://s3.amazonaws.com/weruns/forfun/Kickstarter/Kickstarter_2016-09-15T02_04_03_474Z.json.gz\">JSON</a>, <a href=\"https://s3.amazonaws.com/weruns/forfun/Kickstarter/Kickstarter_2016-09-15T02_04_03_474Z.zip\">CSV</a>, <a href=\"https://s3.amazonaws.com/weruns/forfun/Kickstarter/Kickstarter_2016-08-15T02_04_03_829Z.json.gz\">JSON</a>, <a href=\"https://s3.amazonaws.com/weruns/forfun/Kickstarter/Kickstarter_2016-08-15T02_04_03_829Z.zip\">CSV</a>, <a href=\"https://s3.amazonaws.com/weruns/forfun/Kickstarter/Kickstarter_2016-07-15T02_04_40_862Z.json.gz\">JSON</a>, <a href=\"https://s3.amazonaws.com/weruns/forfun/Kickstarter/Kickstarter_2016-07-15T02_04_40_862Z.zip\">CSV</a>, <a href=\"https://s3.amazonaws.com/weruns/forfun/Kickstarter/Kickstarter_2016-06-15T02_04_49_697Z.json.gz\">JSON</a>, <a href=\"https://s3.amazonaws.com/weruns/forfun/Kickstarter/Kickstarter_2016-06-15T02_04_49_697Z.zip\">CSV</a>, <a href=\"https://s3.amazonaws.com/weruns/forfun/Kickstarter/Kickstarter_2016-05-15T02_04_46_813Z.json.gz\">JSON</a>, <a href=\"https://s3.amazonaws.com/weruns/forfun/Kickstarter/Kickstarter_2016-05-15T02_04_46_813Z.zip\">CSV</a>, <a href=\"https://s3.amazonaws.com/weruns/forfun/Kickstarter/Kickstarter_2016-04-15T02_09_04_328Z.json.gz\">JSON</a>, <a href=\"https://s3.amazonaws.com/weruns/forfun/Kickstarter/Kickstarter_2016-04-15T02_09_04_328Z.zip\">CSV</a>, <a href=\"https://s3.amazonaws.com/weruns/forfun/Kickstarter/Kickstarter_2016-03-22T07_41_08_591Z.json.gz\">JSON</a>, <a href=\"https://s3.amazonaws.com/weruns/forfun/Kickstarter/Kickstarter_2016-03-22T07_41_08_591Z.zip\">CSV</a>, <a href=\"https://s3.amazonaws.com/weruns/forfun/Kickstarter/Kickstarter_2016-01-28T09_15_08_781Z.json.gz\">JSON</a>, <a href=\"https://s3.amazonaws.com/weruns/forfun/Kickstarter/Kickstarter_2016-01-28T09_15_08_781Z.zip\">CSV</a>, <a href=\"https://s3.amazonaws.com/weruns/forfun/Kickstarter/Kickstarter_2015-12-17T12_09_06_107Z.json.gz\">JSON</a>, <a href=\"https://s3.amazonaws.com/weruns/forfun/Kickstarter/Kickstarter_2015-12-17T12_09_06_107Z.zip\">CSV</a>, <a href=\"https://s3.amazonaws.com/weruns/forfun/Kickstarter/Kickstarter_2015-11-01T14_09_04_557Z.json.gz\" rel=\"noopener noreferrer\" target=\"_blank\">JSON</a>, <a href=\"https://s3.amazonaws.com/weruns/forfun/Kickstarter/Kickstarter_2015-11-01T14_09_04_557Z.zip\" rel=\"noopener noreferrer\" target=\"_blank\">CSV</a>, <a href=\"https://s3.amazonaws.com/weruns/forfun/Kickstarter/Kickstarter_2015-10-22T09_57_48_703Z.json.gz\" rel=\"noopener noreferrer\" target=\"_blank\">JSON</a>, <a href=\"https://s3.amazonaws.com/weruns/forfun/Kickstarter/Kickstarter_2015-10-22T09_57_48_703Z.zip\" rel=\"noopener noreferrer\" target=\"_blank\">CSV</a>, <a href=\"https://s3.amazonaws.com/weruns/kickstarter_old/Kickstarter_2015-08-21.json.zip\" rel=\"noopener noreferrer\" target=\"_blank\">JSON</a>, <a href=\"https://s3.amazonaws.com/weruns/kickstarter_old/Kickstarter_2015-06-12.json.zip\" rel=\"noopener noreferrer\" target=\"_blank\">JSON</a>, <a href=\"https://s3.amazonaws.com/weruns/kickstarter_old/Kickstarter_2015-04-02.json.zip\" rel=\"noopener noreferrer\" target=\"_blank\">JSON</a>, <a href=\"https://s3.amazonaws.com/weruns/kickstarter_old/Kickstarter_2014-12-02.json.zip\">JSON</a>, <a href=\"https://s3.amazonaws.com/weruns/kickstarter_old/Kickstarter_2014-10-17.json.zip\" rel=\"noopener noreferrer\" target=\"_blank\">JSON</a>, <a href=\"https://s3.amazonaws.com/weruns/kickstarter_old/Kickstarter_2014-08-13.json.zip\" rel=\"noopener noreferrer\" target=\"_blank\">JSON</a>, <a href=\"https://s3.amazonaws.com/weruns/kickstarter_old/Kickstarter_2014-04-22.json.zip\" rel=\"noopener noreferrer\" target=\"_blank\">JSON</a>, <a href=\"http://crowdfunding.webrobots.io\">here</a>, <a href=\"https://en.wikipedia.org/wiki/JSON_Streaming\" rel=\"noopener noreferrer\" target=\"_blank\">https://en.wikipedia.org/wiki/JSON_Streaming</a>, <a href=\"https://webrobots.io/indiegogo-dataset/\">Indiegogo data</a>]\n"
     ]
    }
   ],
   "source": [
    "print(ahrefs)"
   ]
  },
  {
   "cell_type": "code",
   "execution_count": 86,
   "metadata": {},
   "outputs": [
    {
     "name": "stdout",
     "output_type": "stream",
     "text": [
      "<a href=\"https://s3.amazonaws.com/weruns/forfun/Kickstarter/Kickstarter_2019-08-15T03_20_03_022Z.json.gz\">JSON</a>\n",
      "<a href=\"https://s3.amazonaws.com/weruns/forfun/Kickstarter/Kickstarter_2019-08-15T03_20_03_022Z.zip\">CSV</a>\n",
      "<a href=\"https://s3.amazonaws.com/weruns/forfun/Kickstarter/Kickstarter_2019-07-18T03_20_05_009Z.json.gz\">JSON</a>\n",
      "<a href=\"https://s3.amazonaws.com/weruns/forfun/Kickstarter/Kickstarter_2019-07-18T03_20_05_009Z.zip\">CSV</a>\n",
      "<a href=\"https://s3.amazonaws.com/weruns/forfun/Kickstarter/Kickstarter_2019-06-13T03_20_35_801Z.json.gz\">JSON</a>\n",
      "<a href=\"https://s3.amazonaws.com/weruns/forfun/Kickstarter/Kickstarter_2019-06-13T03_20_35_801Z.zip\">CSV</a>\n",
      "<a href=\"https://s3.amazonaws.com/weruns/forfun/Kickstarter/Kickstarter_2019-05-16T03_20_20_822Z.json.gz\">JSON</a>\n",
      "<a href=\"https://s3.amazonaws.com/weruns/forfun/Kickstarter/Kickstarter_2019-05-16T03_20_20_822Z.zip\">CSV</a>\n",
      "<a href=\"https://s3.amazonaws.com/weruns/forfun/Kickstarter/Kickstarter_2019-04-18T03_20_02_220Z.json.gz\">JSON</a>\n",
      "<a href=\"https://s3.amazonaws.com/weruns/forfun/Kickstarter/Kickstarter_2019-04-18T03_20_02_220Z.zip\">CSV</a>\n",
      "<a href=\"https://s3.amazonaws.com/weruns/forfun/Kickstarter/Kickstarter_2019-03-14T03_20_12_200Z.json.gz\">JSON</a>\n",
      "<a href=\"https://s3.amazonaws.com/weruns/forfun/Kickstarter/Kickstarter_2019-03-14T03_20_12_200Z.zip\">CSV</a>\n",
      "<a href=\"https://s3.amazonaws.com/weruns/forfun/Kickstarter/Kickstarter_2019-02-14T03_20_04_734Z.json.gz\">JSON</a>\n",
      "<a href=\"https://s3.amazonaws.com/weruns/forfun/Kickstarter/Kickstarter_2019-02-14T03_20_04_734Z.zip\">CSV</a>\n",
      "<a href=\"https://s3.amazonaws.com/weruns/forfun/Kickstarter/Kickstarter_2019-01-17T03_20_02_630Z.json.gz\">JSON</a>\n",
      "<a href=\"https://s3.amazonaws.com/weruns/forfun/Kickstarter/Kickstarter_2019-01-17T03_20_02_630Z.zip\">CSV</a>\n",
      "<a href=\"https://s3.amazonaws.com/weruns/forfun/Kickstarter/Kickstarter_2018-12-13T03_20_05_701Z.json.gz\">JSON</a>\n",
      "<a href=\"https://s3.amazonaws.com/weruns/forfun/Kickstarter/Kickstarter_2018-12-13T03_20_05_701Z.zip\">CSV</a>\n",
      "<a href=\"https://s3.amazonaws.com/weruns/forfun/Kickstarter/Kickstarter_2018-11-15T03_20_50_568Z.json.gz\">JSON</a>\n",
      "<a href=\"https://s3.amazonaws.com/weruns/forfun/Kickstarter/Kickstarter_2018-11-15T03_20_50_568Z.zip\">CSV</a>\n",
      "<a href=\"https://s3.amazonaws.com/weruns/forfun/Kickstarter/Kickstarter_2018-10-18T03_20_48_880Z.json.gz\">JSON</a>\n",
      "<a href=\"https://s3.amazonaws.com/weruns/forfun/Kickstarter/Kickstarter_2018-10-18T03_20_48_880Z.zip\">CSV</a>\n",
      "<a href=\"https://s3.amazonaws.com/weruns/forfun/Kickstarter/Kickstarter_2018-09-13T03_20_17_777Z.json.gz\">JSON</a>\n",
      "<a href=\"https://s3.amazonaws.com/weruns/forfun/Kickstarter/Kickstarter_2018-09-13T03_20_17_777Z.zip\">CSV</a>\n",
      "<a href=\"https://s3.amazonaws.com/weruns/forfun/Kickstarter/Kickstarter_2018-08-16T03_20_13_856Z.json.gz\">JSON</a>\n",
      "<a href=\"https://s3.amazonaws.com/weruns/forfun/Kickstarter/Kickstarter_2018-08-16T03_20_13_856Z.zip\">CSV</a>\n",
      "<a href=\"https://s3.amazonaws.com/weruns/forfun/Kickstarter/Kickstarter_2018-07-12T03_20_16_435Z.json.gz\">JSON</a>\n",
      "<a href=\"https://s3.amazonaws.com/weruns/forfun/Kickstarter/Kickstarter_2018-07-12T03_20_16_435Z.zip\">CSV</a>\n",
      "<a href=\"https://s3.amazonaws.com/weruns/forfun/Kickstarter/Kickstarter_2018-06-14T03_20_15_782Z.json.gz\">JSON</a>\n",
      "<a href=\"https://s3.amazonaws.com/weruns/forfun/Kickstarter/Kickstarter_2018-06-14T03_20_15_782Z.zip\">CSV</a>\n",
      "<a href=\"https://s3.amazonaws.com/weruns/forfun/Kickstarter/Kickstarter_2018-05-17T03_20_08_333Z.json.gz\">JSON</a>\n",
      "<a href=\"https://s3.amazonaws.com/weruns/forfun/Kickstarter/Kickstarter_2018-05-17T03_20_08_333Z.zip\">CSV</a>\n",
      "<a href=\"https://s3.amazonaws.com/weruns/forfun/Kickstarter/Kickstarter_2018-04-12T03_20_13_192Z.json.gz\">JSON</a>\n",
      "<a href=\"https://s3.amazonaws.com/weruns/forfun/Kickstarter/Kickstarter_2018-04-12T03_20_13_192Z.zip\">CSV</a>\n",
      "<a href=\"https://s3.amazonaws.com/weruns/forfun/Kickstarter/Kickstarter_2018-03-15T03_20_39_033Z.json.gz\">JSON</a>\n",
      "<a href=\"https://s3.amazonaws.com/weruns/forfun/Kickstarter/Kickstarter_2018-03-15T03_20_39_033Z.zip\">CSV</a>\n",
      "<a href=\"https://s3.amazonaws.com/weruns/forfun/Kickstarter/Kickstarter_2018-02-15T03_20_44_743Z.json.gz\">JSON</a>\n",
      "<a href=\"https://s3.amazonaws.com/weruns/forfun/Kickstarter/Kickstarter_2018-02-15T03_20_44_743Z.zip\">CSV</a>\n",
      "<a href=\"https://s3.amazonaws.com/weruns/forfun/Kickstarter/Kickstarter_2018-01-12T10_20_09_196Z.json.gz\">JSON</a>\n",
      "<a href=\"https://s3.amazonaws.com/weruns/forfun/Kickstarter/Kickstarter_2018-01-12T10_20_09_196Z.zip\">CSV</a>\n",
      "<a href=\"https://s3.amazonaws.com/weruns/forfun/Kickstarter/Kickstarter_2017-12-15T10_20_51_610Z.json.gz\">JSON</a>\n",
      "<a href=\"https://s3.amazonaws.com/weruns/forfun/Kickstarter/Kickstarter_2017-12-15T10_20_51_610Z.zip\">CSV</a>\n",
      "<a href=\"https://s3.amazonaws.com/weruns/forfun/Kickstarter/Kickstarter_2017-11-15T10_21_04_919Z.json.gz\">JSON</a>\n",
      "<a href=\"https://s3.amazonaws.com/weruns/forfun/Kickstarter/Kickstarter_2017-11-15T10_21_04_919Z.zip\">CSV</a>\n",
      "<a href=\"https://s3.amazonaws.com/weruns/forfun/Kickstarter/Kickstarter_2017-10-15T10_20_38_271Z.json.gz\">JSON</a>\n",
      "<a href=\"https://s3.amazonaws.com/weruns/forfun/Kickstarter/Kickstarter_2017-10-15T10_20_38_271Z.zip\">CSV</a>\n",
      "<a href=\"https://s3.amazonaws.com/weruns/forfun/Kickstarter/Kickstarter_2017-09-15T22_20_48_432Z.json.gz\">JSON</a>\n",
      "<a href=\"https://s3.amazonaws.com/weruns/forfun/Kickstarter/Kickstarter_2017-09-15T22_20_48_432Z.zip\">CSV</a>\n",
      "<a href=\"https://s3.amazonaws.com/weruns/forfun/Kickstarter/Kickstarter_2017-08-15T22_20_51_958Z.json.gz\">JSON</a>\n",
      "<a href=\"https://s3.amazonaws.com/weruns/forfun/Kickstarter/Kickstarter_2017-08-15T22_20_51_958Z.zip\">CSV</a>\n",
      "<a href=\"https://s3.amazonaws.com/weruns/forfun/Kickstarter/Kickstarter_2017-07-15T22_20_48_951Z.json.gz\">JSON</a>\n",
      "<a href=\"https://s3.amazonaws.com/weruns/forfun/Kickstarter/Kickstarter_2017-07-15T22_20_48_951Z.zip\">CSV</a>\n",
      "<a href=\"https://s3.amazonaws.com/weruns/forfun/Kickstarter/Kickstarter_2017-06-15T22_20_03_059Z.json.gz\">JSON</a>\n",
      "<a href=\"https://s3.amazonaws.com/weruns/forfun/Kickstarter/Kickstarter_2017-06-15T22_20_03_059Z.zip\">CSV</a>\n",
      "<a href=\"https://s3.amazonaws.com/weruns/forfun/Kickstarter/Kickstarter_2017-05-15T22_21_11_300Z.json.gz\">JSON</a>\n",
      "<a href=\"https://s3.amazonaws.com/weruns/forfun/Kickstarter/Kickstarter_2017-05-15T22_21_11_300Z.zip\">CSV</a>\n",
      "<a href=\"https://s3.amazonaws.com/weruns/forfun/Kickstarter/Kickstarter_2017-04-15T22_21_18_122Z.json.gz\">JSON</a>\n",
      "<a href=\"https://s3.amazonaws.com/weruns/forfun/Kickstarter/Kickstarter_2017-04-15T22_21_18_122Z.zip\">CSV</a>\n",
      "<a href=\"https://s3.amazonaws.com/weruns/forfun/Kickstarter/Kickstarter_2017-03-15T22_20_55_874Z.json.gz\">JSON</a>\n",
      "<a href=\"https://s3.amazonaws.com/weruns/forfun/Kickstarter/Kickstarter_2017-03-15T22_20_55_874Z.zip\">CSV</a>\n",
      "<a href=\"https://s3.amazonaws.com/weruns/forfun/Kickstarter/Kickstarter_2017-02-15T22_22_48_377Z.json.gz\">JSON</a>\n",
      "<a href=\"https://s3.amazonaws.com/weruns/forfun/Kickstarter/Kickstarter_2017-02-15T22_22_48_377Z.zip\">CSV</a>\n",
      "<a href=\"https://s3.amazonaws.com/weruns/forfun/Kickstarter/Kickstarter_2017-01-15T22_21_04_985Z.json.gz\">JSON</a>\n",
      "<a href=\"https://s3.amazonaws.com/weruns/forfun/Kickstarter/Kickstarter_2017-01-15T22_21_04_985Z.zip\">CSV</a>\n",
      "<a href=\"https://s3.amazonaws.com/weruns/forfun/Kickstarter/Kickstarter_2016-12-15T22_20_52_411Z.json.gz\">JSON</a>\n",
      "<a href=\"https://s3.amazonaws.com/weruns/forfun/Kickstarter/Kickstarter_2016-12-15T22_20_52_411Z.zip\">CSV</a>\n",
      "<a href=\"https://s3.amazonaws.com/weruns/forfun/Kickstarter/Kickstarter_2016-11-12T22_20_03_295Z.json.gz\">JSON</a>\n",
      "<a href=\"https://s3.amazonaws.com/weruns/forfun/Kickstarter/Kickstarter_2016-11-12T22_20_03_295Z.zip\">CSV</a>\n",
      "<a href=\"https://s3.amazonaws.com/weruns/forfun/Kickstarter/Kickstarter_2016-10-15T02_04_11_689Z.json.gz\">JSON</a>\n",
      "<a href=\"https://s3.amazonaws.com/weruns/forfun/Kickstarter/Kickstarter_2016-10-15T02_04_11_689Z.zip\">CSV</a>\n",
      "<a href=\"https://s3.amazonaws.com/weruns/forfun/Kickstarter/Kickstarter_2016-09-15T02_04_03_474Z.json.gz\">JSON</a>\n",
      "<a href=\"https://s3.amazonaws.com/weruns/forfun/Kickstarter/Kickstarter_2016-09-15T02_04_03_474Z.zip\">CSV</a>\n",
      "<a href=\"https://s3.amazonaws.com/weruns/forfun/Kickstarter/Kickstarter_2016-08-15T02_04_03_829Z.json.gz\">JSON</a>\n",
      "<a href=\"https://s3.amazonaws.com/weruns/forfun/Kickstarter/Kickstarter_2016-08-15T02_04_03_829Z.zip\">CSV</a>\n",
      "<a href=\"https://s3.amazonaws.com/weruns/forfun/Kickstarter/Kickstarter_2016-07-15T02_04_40_862Z.json.gz\">JSON</a>\n",
      "<a href=\"https://s3.amazonaws.com/weruns/forfun/Kickstarter/Kickstarter_2016-07-15T02_04_40_862Z.zip\">CSV</a>\n",
      "<a href=\"https://s3.amazonaws.com/weruns/forfun/Kickstarter/Kickstarter_2016-06-15T02_04_49_697Z.json.gz\">JSON</a>\n",
      "<a href=\"https://s3.amazonaws.com/weruns/forfun/Kickstarter/Kickstarter_2016-06-15T02_04_49_697Z.zip\">CSV</a>\n",
      "<a href=\"https://s3.amazonaws.com/weruns/forfun/Kickstarter/Kickstarter_2016-05-15T02_04_46_813Z.json.gz\">JSON</a>\n",
      "<a href=\"https://s3.amazonaws.com/weruns/forfun/Kickstarter/Kickstarter_2016-05-15T02_04_46_813Z.zip\">CSV</a>\n",
      "<a href=\"https://s3.amazonaws.com/weruns/forfun/Kickstarter/Kickstarter_2016-04-15T02_09_04_328Z.json.gz\">JSON</a>\n",
      "<a href=\"https://s3.amazonaws.com/weruns/forfun/Kickstarter/Kickstarter_2016-04-15T02_09_04_328Z.zip\">CSV</a>\n",
      "<a href=\"https://s3.amazonaws.com/weruns/forfun/Kickstarter/Kickstarter_2016-03-22T07_41_08_591Z.json.gz\">JSON</a>\n",
      "<a href=\"https://s3.amazonaws.com/weruns/forfun/Kickstarter/Kickstarter_2016-03-22T07_41_08_591Z.zip\">CSV</a>\n",
      "<a href=\"https://s3.amazonaws.com/weruns/forfun/Kickstarter/Kickstarter_2016-01-28T09_15_08_781Z.json.gz\">JSON</a>\n",
      "<a href=\"https://s3.amazonaws.com/weruns/forfun/Kickstarter/Kickstarter_2016-01-28T09_15_08_781Z.zip\">CSV</a>\n",
      "<a href=\"https://s3.amazonaws.com/weruns/forfun/Kickstarter/Kickstarter_2015-12-17T12_09_06_107Z.json.gz\">JSON</a>\n",
      "<a href=\"https://s3.amazonaws.com/weruns/forfun/Kickstarter/Kickstarter_2015-12-17T12_09_06_107Z.zip\">CSV</a>\n",
      "<a href=\"https://s3.amazonaws.com/weruns/forfun/Kickstarter/Kickstarter_2015-11-01T14_09_04_557Z.json.gz\" rel=\"noopener noreferrer\" target=\"_blank\">JSON</a>\n",
      "<a href=\"https://s3.amazonaws.com/weruns/forfun/Kickstarter/Kickstarter_2015-11-01T14_09_04_557Z.zip\" rel=\"noopener noreferrer\" target=\"_blank\">CSV</a>\n",
      "<a href=\"https://s3.amazonaws.com/weruns/forfun/Kickstarter/Kickstarter_2015-10-22T09_57_48_703Z.json.gz\" rel=\"noopener noreferrer\" target=\"_blank\">JSON</a>\n",
      "<a href=\"https://s3.amazonaws.com/weruns/forfun/Kickstarter/Kickstarter_2015-10-22T09_57_48_703Z.zip\" rel=\"noopener noreferrer\" target=\"_blank\">CSV</a>\n",
      "<a href=\"https://s3.amazonaws.com/weruns/kickstarter_old/Kickstarter_2015-08-21.json.zip\" rel=\"noopener noreferrer\" target=\"_blank\">JSON</a>\n",
      "<a href=\"https://s3.amazonaws.com/weruns/kickstarter_old/Kickstarter_2015-06-12.json.zip\" rel=\"noopener noreferrer\" target=\"_blank\">JSON</a>\n",
      "<a href=\"https://s3.amazonaws.com/weruns/kickstarter_old/Kickstarter_2015-04-02.json.zip\" rel=\"noopener noreferrer\" target=\"_blank\">JSON</a>\n",
      "<a href=\"https://s3.amazonaws.com/weruns/kickstarter_old/Kickstarter_2014-12-02.json.zip\">JSON</a>\n",
      "<a href=\"https://s3.amazonaws.com/weruns/kickstarter_old/Kickstarter_2014-10-17.json.zip\" rel=\"noopener noreferrer\" target=\"_blank\">JSON</a>\n",
      "<a href=\"https://s3.amazonaws.com/weruns/kickstarter_old/Kickstarter_2014-08-13.json.zip\" rel=\"noopener noreferrer\" target=\"_blank\">JSON</a>\n",
      "<a href=\"https://s3.amazonaws.com/weruns/kickstarter_old/Kickstarter_2014-04-22.json.zip\" rel=\"noopener noreferrer\" target=\"_blank\">JSON</a>\n"
     ]
    }
   ],
   "source": [
    "clean_links = []\n",
    "for link in ahrefs:\n",
    "    if (link.get('href').endswith(\".zip\")) or (link.get('href').endswith(\".gz\")):\n",
    "            print(link)\n",
    "            clean_links.append(link.get('href'))"
   ]
  },
  {
   "cell_type": "code",
   "execution_count": 87,
   "metadata": {},
   "outputs": [
    {
     "data": {
      "text/plain": [
       "['https://s3.amazonaws.com/weruns/forfun/Kickstarter/Kickstarter_2019-08-15T03_20_03_022Z.json.gz',\n",
       " 'https://s3.amazonaws.com/weruns/forfun/Kickstarter/Kickstarter_2019-08-15T03_20_03_022Z.zip',\n",
       " 'https://s3.amazonaws.com/weruns/forfun/Kickstarter/Kickstarter_2019-07-18T03_20_05_009Z.json.gz',\n",
       " 'https://s3.amazonaws.com/weruns/forfun/Kickstarter/Kickstarter_2019-07-18T03_20_05_009Z.zip',\n",
       " 'https://s3.amazonaws.com/weruns/forfun/Kickstarter/Kickstarter_2019-06-13T03_20_35_801Z.json.gz',\n",
       " 'https://s3.amazonaws.com/weruns/forfun/Kickstarter/Kickstarter_2019-06-13T03_20_35_801Z.zip',\n",
       " 'https://s3.amazonaws.com/weruns/forfun/Kickstarter/Kickstarter_2019-05-16T03_20_20_822Z.json.gz',\n",
       " 'https://s3.amazonaws.com/weruns/forfun/Kickstarter/Kickstarter_2019-05-16T03_20_20_822Z.zip',\n",
       " 'https://s3.amazonaws.com/weruns/forfun/Kickstarter/Kickstarter_2019-04-18T03_20_02_220Z.json.gz',\n",
       " 'https://s3.amazonaws.com/weruns/forfun/Kickstarter/Kickstarter_2019-04-18T03_20_02_220Z.zip',\n",
       " 'https://s3.amazonaws.com/weruns/forfun/Kickstarter/Kickstarter_2019-03-14T03_20_12_200Z.json.gz',\n",
       " 'https://s3.amazonaws.com/weruns/forfun/Kickstarter/Kickstarter_2019-03-14T03_20_12_200Z.zip',\n",
       " 'https://s3.amazonaws.com/weruns/forfun/Kickstarter/Kickstarter_2019-02-14T03_20_04_734Z.json.gz',\n",
       " 'https://s3.amazonaws.com/weruns/forfun/Kickstarter/Kickstarter_2019-02-14T03_20_04_734Z.zip',\n",
       " 'https://s3.amazonaws.com/weruns/forfun/Kickstarter/Kickstarter_2019-01-17T03_20_02_630Z.json.gz',\n",
       " 'https://s3.amazonaws.com/weruns/forfun/Kickstarter/Kickstarter_2019-01-17T03_20_02_630Z.zip',\n",
       " 'https://s3.amazonaws.com/weruns/forfun/Kickstarter/Kickstarter_2018-12-13T03_20_05_701Z.json.gz',\n",
       " 'https://s3.amazonaws.com/weruns/forfun/Kickstarter/Kickstarter_2018-12-13T03_20_05_701Z.zip',\n",
       " 'https://s3.amazonaws.com/weruns/forfun/Kickstarter/Kickstarter_2018-11-15T03_20_50_568Z.json.gz',\n",
       " 'https://s3.amazonaws.com/weruns/forfun/Kickstarter/Kickstarter_2018-11-15T03_20_50_568Z.zip',\n",
       " 'https://s3.amazonaws.com/weruns/forfun/Kickstarter/Kickstarter_2018-10-18T03_20_48_880Z.json.gz',\n",
       " 'https://s3.amazonaws.com/weruns/forfun/Kickstarter/Kickstarter_2018-10-18T03_20_48_880Z.zip',\n",
       " 'https://s3.amazonaws.com/weruns/forfun/Kickstarter/Kickstarter_2018-09-13T03_20_17_777Z.json.gz',\n",
       " 'https://s3.amazonaws.com/weruns/forfun/Kickstarter/Kickstarter_2018-09-13T03_20_17_777Z.zip',\n",
       " 'https://s3.amazonaws.com/weruns/forfun/Kickstarter/Kickstarter_2018-08-16T03_20_13_856Z.json.gz',\n",
       " 'https://s3.amazonaws.com/weruns/forfun/Kickstarter/Kickstarter_2018-08-16T03_20_13_856Z.zip',\n",
       " 'https://s3.amazonaws.com/weruns/forfun/Kickstarter/Kickstarter_2018-07-12T03_20_16_435Z.json.gz',\n",
       " 'https://s3.amazonaws.com/weruns/forfun/Kickstarter/Kickstarter_2018-07-12T03_20_16_435Z.zip',\n",
       " 'https://s3.amazonaws.com/weruns/forfun/Kickstarter/Kickstarter_2018-06-14T03_20_15_782Z.json.gz',\n",
       " 'https://s3.amazonaws.com/weruns/forfun/Kickstarter/Kickstarter_2018-06-14T03_20_15_782Z.zip',\n",
       " 'https://s3.amazonaws.com/weruns/forfun/Kickstarter/Kickstarter_2018-05-17T03_20_08_333Z.json.gz',\n",
       " 'https://s3.amazonaws.com/weruns/forfun/Kickstarter/Kickstarter_2018-05-17T03_20_08_333Z.zip',\n",
       " 'https://s3.amazonaws.com/weruns/forfun/Kickstarter/Kickstarter_2018-04-12T03_20_13_192Z.json.gz',\n",
       " 'https://s3.amazonaws.com/weruns/forfun/Kickstarter/Kickstarter_2018-04-12T03_20_13_192Z.zip',\n",
       " 'https://s3.amazonaws.com/weruns/forfun/Kickstarter/Kickstarter_2018-03-15T03_20_39_033Z.json.gz',\n",
       " 'https://s3.amazonaws.com/weruns/forfun/Kickstarter/Kickstarter_2018-03-15T03_20_39_033Z.zip',\n",
       " 'https://s3.amazonaws.com/weruns/forfun/Kickstarter/Kickstarter_2018-02-15T03_20_44_743Z.json.gz',\n",
       " 'https://s3.amazonaws.com/weruns/forfun/Kickstarter/Kickstarter_2018-02-15T03_20_44_743Z.zip',\n",
       " 'https://s3.amazonaws.com/weruns/forfun/Kickstarter/Kickstarter_2018-01-12T10_20_09_196Z.json.gz',\n",
       " 'https://s3.amazonaws.com/weruns/forfun/Kickstarter/Kickstarter_2018-01-12T10_20_09_196Z.zip',\n",
       " 'https://s3.amazonaws.com/weruns/forfun/Kickstarter/Kickstarter_2017-12-15T10_20_51_610Z.json.gz',\n",
       " 'https://s3.amazonaws.com/weruns/forfun/Kickstarter/Kickstarter_2017-12-15T10_20_51_610Z.zip',\n",
       " 'https://s3.amazonaws.com/weruns/forfun/Kickstarter/Kickstarter_2017-11-15T10_21_04_919Z.json.gz',\n",
       " 'https://s3.amazonaws.com/weruns/forfun/Kickstarter/Kickstarter_2017-11-15T10_21_04_919Z.zip',\n",
       " 'https://s3.amazonaws.com/weruns/forfun/Kickstarter/Kickstarter_2017-10-15T10_20_38_271Z.json.gz',\n",
       " 'https://s3.amazonaws.com/weruns/forfun/Kickstarter/Kickstarter_2017-10-15T10_20_38_271Z.zip',\n",
       " 'https://s3.amazonaws.com/weruns/forfun/Kickstarter/Kickstarter_2017-09-15T22_20_48_432Z.json.gz',\n",
       " 'https://s3.amazonaws.com/weruns/forfun/Kickstarter/Kickstarter_2017-09-15T22_20_48_432Z.zip',\n",
       " 'https://s3.amazonaws.com/weruns/forfun/Kickstarter/Kickstarter_2017-08-15T22_20_51_958Z.json.gz',\n",
       " 'https://s3.amazonaws.com/weruns/forfun/Kickstarter/Kickstarter_2017-08-15T22_20_51_958Z.zip',\n",
       " 'https://s3.amazonaws.com/weruns/forfun/Kickstarter/Kickstarter_2017-07-15T22_20_48_951Z.json.gz',\n",
       " 'https://s3.amazonaws.com/weruns/forfun/Kickstarter/Kickstarter_2017-07-15T22_20_48_951Z.zip',\n",
       " 'https://s3.amazonaws.com/weruns/forfun/Kickstarter/Kickstarter_2017-06-15T22_20_03_059Z.json.gz',\n",
       " 'https://s3.amazonaws.com/weruns/forfun/Kickstarter/Kickstarter_2017-06-15T22_20_03_059Z.zip',\n",
       " 'https://s3.amazonaws.com/weruns/forfun/Kickstarter/Kickstarter_2017-05-15T22_21_11_300Z.json.gz',\n",
       " 'https://s3.amazonaws.com/weruns/forfun/Kickstarter/Kickstarter_2017-05-15T22_21_11_300Z.zip',\n",
       " 'https://s3.amazonaws.com/weruns/forfun/Kickstarter/Kickstarter_2017-04-15T22_21_18_122Z.json.gz',\n",
       " 'https://s3.amazonaws.com/weruns/forfun/Kickstarter/Kickstarter_2017-04-15T22_21_18_122Z.zip',\n",
       " 'https://s3.amazonaws.com/weruns/forfun/Kickstarter/Kickstarter_2017-03-15T22_20_55_874Z.json.gz',\n",
       " 'https://s3.amazonaws.com/weruns/forfun/Kickstarter/Kickstarter_2017-03-15T22_20_55_874Z.zip',\n",
       " 'https://s3.amazonaws.com/weruns/forfun/Kickstarter/Kickstarter_2017-02-15T22_22_48_377Z.json.gz',\n",
       " 'https://s3.amazonaws.com/weruns/forfun/Kickstarter/Kickstarter_2017-02-15T22_22_48_377Z.zip',\n",
       " 'https://s3.amazonaws.com/weruns/forfun/Kickstarter/Kickstarter_2017-01-15T22_21_04_985Z.json.gz',\n",
       " 'https://s3.amazonaws.com/weruns/forfun/Kickstarter/Kickstarter_2017-01-15T22_21_04_985Z.zip',\n",
       " 'https://s3.amazonaws.com/weruns/forfun/Kickstarter/Kickstarter_2016-12-15T22_20_52_411Z.json.gz',\n",
       " 'https://s3.amazonaws.com/weruns/forfun/Kickstarter/Kickstarter_2016-12-15T22_20_52_411Z.zip',\n",
       " 'https://s3.amazonaws.com/weruns/forfun/Kickstarter/Kickstarter_2016-11-12T22_20_03_295Z.json.gz',\n",
       " 'https://s3.amazonaws.com/weruns/forfun/Kickstarter/Kickstarter_2016-11-12T22_20_03_295Z.zip',\n",
       " 'https://s3.amazonaws.com/weruns/forfun/Kickstarter/Kickstarter_2016-10-15T02_04_11_689Z.json.gz',\n",
       " 'https://s3.amazonaws.com/weruns/forfun/Kickstarter/Kickstarter_2016-10-15T02_04_11_689Z.zip',\n",
       " 'https://s3.amazonaws.com/weruns/forfun/Kickstarter/Kickstarter_2016-09-15T02_04_03_474Z.json.gz',\n",
       " 'https://s3.amazonaws.com/weruns/forfun/Kickstarter/Kickstarter_2016-09-15T02_04_03_474Z.zip',\n",
       " 'https://s3.amazonaws.com/weruns/forfun/Kickstarter/Kickstarter_2016-08-15T02_04_03_829Z.json.gz',\n",
       " 'https://s3.amazonaws.com/weruns/forfun/Kickstarter/Kickstarter_2016-08-15T02_04_03_829Z.zip',\n",
       " 'https://s3.amazonaws.com/weruns/forfun/Kickstarter/Kickstarter_2016-07-15T02_04_40_862Z.json.gz',\n",
       " 'https://s3.amazonaws.com/weruns/forfun/Kickstarter/Kickstarter_2016-07-15T02_04_40_862Z.zip',\n",
       " 'https://s3.amazonaws.com/weruns/forfun/Kickstarter/Kickstarter_2016-06-15T02_04_49_697Z.json.gz',\n",
       " 'https://s3.amazonaws.com/weruns/forfun/Kickstarter/Kickstarter_2016-06-15T02_04_49_697Z.zip',\n",
       " 'https://s3.amazonaws.com/weruns/forfun/Kickstarter/Kickstarter_2016-05-15T02_04_46_813Z.json.gz',\n",
       " 'https://s3.amazonaws.com/weruns/forfun/Kickstarter/Kickstarter_2016-05-15T02_04_46_813Z.zip',\n",
       " 'https://s3.amazonaws.com/weruns/forfun/Kickstarter/Kickstarter_2016-04-15T02_09_04_328Z.json.gz',\n",
       " 'https://s3.amazonaws.com/weruns/forfun/Kickstarter/Kickstarter_2016-04-15T02_09_04_328Z.zip',\n",
       " 'https://s3.amazonaws.com/weruns/forfun/Kickstarter/Kickstarter_2016-03-22T07_41_08_591Z.json.gz',\n",
       " 'https://s3.amazonaws.com/weruns/forfun/Kickstarter/Kickstarter_2016-03-22T07_41_08_591Z.zip',\n",
       " 'https://s3.amazonaws.com/weruns/forfun/Kickstarter/Kickstarter_2016-01-28T09_15_08_781Z.json.gz',\n",
       " 'https://s3.amazonaws.com/weruns/forfun/Kickstarter/Kickstarter_2016-01-28T09_15_08_781Z.zip',\n",
       " 'https://s3.amazonaws.com/weruns/forfun/Kickstarter/Kickstarter_2015-12-17T12_09_06_107Z.json.gz',\n",
       " 'https://s3.amazonaws.com/weruns/forfun/Kickstarter/Kickstarter_2015-12-17T12_09_06_107Z.zip',\n",
       " 'https://s3.amazonaws.com/weruns/forfun/Kickstarter/Kickstarter_2015-11-01T14_09_04_557Z.json.gz',\n",
       " 'https://s3.amazonaws.com/weruns/forfun/Kickstarter/Kickstarter_2015-11-01T14_09_04_557Z.zip',\n",
       " 'https://s3.amazonaws.com/weruns/forfun/Kickstarter/Kickstarter_2015-10-22T09_57_48_703Z.json.gz',\n",
       " 'https://s3.amazonaws.com/weruns/forfun/Kickstarter/Kickstarter_2015-10-22T09_57_48_703Z.zip',\n",
       " 'https://s3.amazonaws.com/weruns/kickstarter_old/Kickstarter_2015-08-21.json.zip',\n",
       " 'https://s3.amazonaws.com/weruns/kickstarter_old/Kickstarter_2015-06-12.json.zip',\n",
       " 'https://s3.amazonaws.com/weruns/kickstarter_old/Kickstarter_2015-04-02.json.zip',\n",
       " 'https://s3.amazonaws.com/weruns/kickstarter_old/Kickstarter_2014-12-02.json.zip',\n",
       " 'https://s3.amazonaws.com/weruns/kickstarter_old/Kickstarter_2014-10-17.json.zip',\n",
       " 'https://s3.amazonaws.com/weruns/kickstarter_old/Kickstarter_2014-08-13.json.zip',\n",
       " 'https://s3.amazonaws.com/weruns/kickstarter_old/Kickstarter_2014-04-22.json.zip']"
      ]
     },
     "execution_count": 87,
     "metadata": {},
     "output_type": "execute_result"
    }
   ],
   "source": [
    "clean_links"
   ]
  },
  {
   "cell_type": "code",
   "execution_count": 88,
   "metadata": {},
   "outputs": [],
   "source": [
    "import os"
   ]
  },
  {
   "cell_type": "code",
   "execution_count": 89,
   "metadata": {},
   "outputs": [],
   "source": [
    "for url in clean_links:\n",
    "    r = requests.get(url)\n",
    "    files = os.path.basename(url)\n",
    "    with open(files, 'wb') as f:\n",
    "         for chunk in r.iter_content(chunk_size=1024): \n",
    "                if chunk: \n",
    "                    f.write(chunk)"
   ]
  },
  {
   "cell_type": "code",
   "execution_count": null,
   "metadata": {},
   "outputs": [],
   "source": []
  },
  {
   "cell_type": "code",
   "execution_count": null,
   "metadata": {},
   "outputs": [],
   "source": []
  },
  {
   "cell_type": "code",
   "execution_count": null,
   "metadata": {},
   "outputs": [],
   "source": []
  }
 ],
 "metadata": {
  "kernelspec": {
   "display_name": "Python 3",
   "language": "python",
   "name": "python3"
  },
  "language_info": {
   "codemirror_mode": {
    "name": "ipython",
    "version": 3
   },
   "file_extension": ".py",
   "mimetype": "text/x-python",
   "name": "python",
   "nbconvert_exporter": "python",
   "pygments_lexer": "ipython3",
   "version": "3.7.4"
  }
 },
 "nbformat": 4,
 "nbformat_minor": 4
}
