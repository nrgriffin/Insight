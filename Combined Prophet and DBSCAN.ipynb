{
 "cells": [
  {
   "cell_type": "code",
   "execution_count": 2,
   "metadata": {},
   "outputs": [
    {
     "name": "stderr",
     "output_type": "stream",
     "text": [
      "ERROR:fbprophet:Importing plotly failed. Interactive plots will not work.\n"
     ]
    }
   ],
   "source": [
    "import pandas as pd\n",
    "from fbprophet import Prophet\n",
    "from fbprophet.diagnostics import cross_validation\n",
    "from fbprophet.diagnostics import performance_metrics\n",
    "from fbprophet.plot import plot_cross_validation_metric\n",
    "import matplotlib.pyplot as plt\n",
    "import logging\n",
    "import numpy as np\n",
    "from pylab import rcParams\n",
    "import seaborn as sb\n",
    "import sklearn\n",
    "from sklearn.cluster import DBSCAN\n",
    "from sklearn.cluster import KMeans\n",
    "from sklearn import datasets\n",
    "from collections import Counter\n",
    "from geopy.distance import great_circle\n",
    "from shapely.geometry import MultiPoint\n",
    "import scipy\n",
    "from scipy.spatial import distance\n",
    "\n",
    "%matplotlib inline"
   ]
  },
  {
   "cell_type": "code",
   "execution_count": 3,
   "metadata": {},
   "outputs": [
    {
     "name": "stderr",
     "output_type": "stream",
     "text": [
      "//anaconda3/envs/insight/lib/python3.7/site-packages/ipykernel_launcher.py:4: FutureWarning: Method .as_matrix will be removed in a future version. Use .values instead.\n",
      "  after removing the cwd from sys.path.\n"
     ]
    }
   ],
   "source": [
    "routes = pd.read_csv(\"~/Documents/jtnp_routesAndDesc_joined_reducedv2.csv\")\n",
    "# This needs to become a SQL query, to be set as a table. Then, exclude any rows with the descriptors selected\n",
    "# as an input parameter - 'I don't want X type of route.'\n",
    "coords = routes.as_matrix(columns=['latitude', 'longitude'])\n"
   ]
  },
  {
   "cell_type": "code",
   "execution_count": 4,
   "metadata": {},
   "outputs": [
    {
     "name": "stdout",
     "output_type": "stream",
     "text": [
      "Number of clusters: 42\n"
     ]
    }
   ],
   "source": [
    "kms_per_radian = 6371.0088\n",
    "epsilon = .1 / kms_per_radian\n",
    "min_sample=10\n",
    "db = DBSCAN(eps=epsilon, min_samples=min_sample, algorithm='ball_tree', metric='haversine').fit(np.radians(coords))\n",
    "cluster_labels = db.labels_\n",
    "num_clusters = len(set(cluster_labels))\n",
    "clusters = pd.Series([coords[cluster_labels == n] for n in range(num_clusters)])\n",
    "print('Number of clusters: {}'.format(num_clusters))"
   ]
  },
  {
   "cell_type": "code",
   "execution_count": 5,
   "metadata": {},
   "outputs": [],
   "source": [
    "def get_centermost_point(cluster):\n",
    "    centroid = (MultiPoint(cluster).centroid.x, MultiPoint(cluster).centroid.y)\n",
    "    centermost_point = min(cluster, key=lambda point: great_circle(point, centroid).m)\n",
    "    return tuple(centermost_point)\n",
    "\n",
    "#Find the point in each cluster that is closest to its centroid\n",
    "centermost_points = []\n",
    "for cluster in clusters.iteritems():\n",
    "    if len(cluster[1]) >= min_sample:\n",
    "        centermost_points.append(get_centermost_point(cluster[1]))\n",
    "        #print(centermost_points)\n",
    "\n",
    "lats, lons = zip(*centermost_points)\n",
    "rep_points = pd.DataFrame({'lon':lons, 'lat':lats})\n",
    "\n",
    "rs = rep_points.apply(lambda row: routes[(routes['latitude']==row['lat']) & (routes['longitude']==row['lon'])].iloc[0], axis=1)\n",
    "rs_centroids = rs[['latitude','longitude']]\n",
    "#rs_centroids\n",
    "\n",
    "campsites = pd.read_csv(\"~/Documents/jtnp_campsite_coords.csv\")"
   ]
  },
  {
   "cell_type": "code",
   "execution_count": 6,
   "metadata": {},
   "outputs": [
    {
     "data": {
      "text/html": [
       "<div>\n",
       "<style scoped>\n",
       "    .dataframe tbody tr th:only-of-type {\n",
       "        vertical-align: middle;\n",
       "    }\n",
       "\n",
       "    .dataframe tbody tr th {\n",
       "        vertical-align: top;\n",
       "    }\n",
       "\n",
       "    .dataframe thead th {\n",
       "        text-align: right;\n",
       "    }\n",
       "</style>\n",
       "<table border=\"1\" class=\"dataframe\">\n",
       "  <thead>\n",
       "    <tr style=\"text-align: right;\">\n",
       "      <th></th>\n",
       "      <th>latitude</th>\n",
       "      <th>longitude</th>\n",
       "    </tr>\n",
       "  </thead>\n",
       "  <tbody>\n",
       "    <tr>\n",
       "      <td>0</td>\n",
       "      <td>34.0148</td>\n",
       "      <td>-116.1654</td>\n",
       "    </tr>\n",
       "    <tr>\n",
       "      <td>1</td>\n",
       "      <td>34.0285</td>\n",
       "      <td>-116.1451</td>\n",
       "    </tr>\n",
       "    <tr>\n",
       "      <td>2</td>\n",
       "      <td>34.0183</td>\n",
       "      <td>-116.1635</td>\n",
       "    </tr>\n",
       "    <tr>\n",
       "      <td>3</td>\n",
       "      <td>33.9941</td>\n",
       "      <td>-116.1429</td>\n",
       "    </tr>\n",
       "    <tr>\n",
       "      <td>4</td>\n",
       "      <td>34.0202</td>\n",
       "      <td>-116.1650</td>\n",
       "    </tr>\n",
       "    <tr>\n",
       "      <td>5</td>\n",
       "      <td>34.0143</td>\n",
       "      <td>-116.1583</td>\n",
       "    </tr>\n",
       "    <tr>\n",
       "      <td>6</td>\n",
       "      <td>33.9978</td>\n",
       "      <td>-116.1536</td>\n",
       "    </tr>\n",
       "    <tr>\n",
       "      <td>7</td>\n",
       "      <td>34.0030</td>\n",
       "      <td>-116.1495</td>\n",
       "    </tr>\n",
       "    <tr>\n",
       "      <td>8</td>\n",
       "      <td>33.9964</td>\n",
       "      <td>-116.1555</td>\n",
       "    </tr>\n",
       "    <tr>\n",
       "      <td>9</td>\n",
       "      <td>33.9893</td>\n",
       "      <td>-116.1634</td>\n",
       "    </tr>\n",
       "    <tr>\n",
       "      <td>10</td>\n",
       "      <td>34.0626</td>\n",
       "      <td>-116.2263</td>\n",
       "    </tr>\n",
       "    <tr>\n",
       "      <td>11</td>\n",
       "      <td>33.9830</td>\n",
       "      <td>-116.1545</td>\n",
       "    </tr>\n",
       "    <tr>\n",
       "      <td>12</td>\n",
       "      <td>34.0143</td>\n",
       "      <td>-116.1711</td>\n",
       "    </tr>\n",
       "    <tr>\n",
       "      <td>13</td>\n",
       "      <td>33.9664</td>\n",
       "      <td>-116.0872</td>\n",
       "    </tr>\n",
       "    <tr>\n",
       "      <td>14</td>\n",
       "      <td>34.0753</td>\n",
       "      <td>-116.2420</td>\n",
       "    </tr>\n",
       "    <tr>\n",
       "      <td>15</td>\n",
       "      <td>33.9423</td>\n",
       "      <td>-116.0782</td>\n",
       "    </tr>\n",
       "    <tr>\n",
       "      <td>16</td>\n",
       "      <td>34.0110</td>\n",
       "      <td>-116.1661</td>\n",
       "    </tr>\n",
       "    <tr>\n",
       "      <td>17</td>\n",
       "      <td>34.0101</td>\n",
       "      <td>-116.1687</td>\n",
       "    </tr>\n",
       "    <tr>\n",
       "      <td>18</td>\n",
       "      <td>34.0127</td>\n",
       "      <td>-116.1684</td>\n",
       "    </tr>\n",
       "    <tr>\n",
       "      <td>19</td>\n",
       "      <td>34.0441</td>\n",
       "      <td>-116.1061</td>\n",
       "    </tr>\n",
       "    <tr>\n",
       "      <td>20</td>\n",
       "      <td>34.0121</td>\n",
       "      <td>-116.1773</td>\n",
       "    </tr>\n",
       "    <tr>\n",
       "      <td>21</td>\n",
       "      <td>34.0135</td>\n",
       "      <td>-116.1544</td>\n",
       "    </tr>\n",
       "    <tr>\n",
       "      <td>22</td>\n",
       "      <td>34.0808</td>\n",
       "      <td>-116.2462</td>\n",
       "    </tr>\n",
       "    <tr>\n",
       "      <td>23</td>\n",
       "      <td>33.9962</td>\n",
       "      <td>-116.1500</td>\n",
       "    </tr>\n",
       "    <tr>\n",
       "      <td>24</td>\n",
       "      <td>34.0263</td>\n",
       "      <td>-116.1415</td>\n",
       "    </tr>\n",
       "    <tr>\n",
       "      <td>25</td>\n",
       "      <td>34.0402</td>\n",
       "      <td>-116.1978</td>\n",
       "    </tr>\n",
       "    <tr>\n",
       "      <td>26</td>\n",
       "      <td>34.0839</td>\n",
       "      <td>-116.2325</td>\n",
       "    </tr>\n",
       "    <tr>\n",
       "      <td>27</td>\n",
       "      <td>34.0462</td>\n",
       "      <td>-116.1033</td>\n",
       "    </tr>\n",
       "    <tr>\n",
       "      <td>28</td>\n",
       "      <td>34.0943</td>\n",
       "      <td>-116.1561</td>\n",
       "    </tr>\n",
       "    <tr>\n",
       "      <td>29</td>\n",
       "      <td>34.0159</td>\n",
       "      <td>-116.1784</td>\n",
       "    </tr>\n",
       "    <tr>\n",
       "      <td>30</td>\n",
       "      <td>34.0241</td>\n",
       "      <td>-116.1547</td>\n",
       "    </tr>\n",
       "    <tr>\n",
       "      <td>31</td>\n",
       "      <td>34.0104</td>\n",
       "      <td>-116.1357</td>\n",
       "    </tr>\n",
       "    <tr>\n",
       "      <td>32</td>\n",
       "      <td>34.0182</td>\n",
       "      <td>-116.0737</td>\n",
       "    </tr>\n",
       "    <tr>\n",
       "      <td>33</td>\n",
       "      <td>34.0325</td>\n",
       "      <td>-116.2034</td>\n",
       "    </tr>\n",
       "    <tr>\n",
       "      <td>34</td>\n",
       "      <td>34.0252</td>\n",
       "      <td>-116.1595</td>\n",
       "    </tr>\n",
       "    <tr>\n",
       "      <td>35</td>\n",
       "      <td>33.9512</td>\n",
       "      <td>-116.0768</td>\n",
       "    </tr>\n",
       "    <tr>\n",
       "      <td>36</td>\n",
       "      <td>34.0930</td>\n",
       "      <td>-116.1635</td>\n",
       "    </tr>\n",
       "    <tr>\n",
       "      <td>37</td>\n",
       "      <td>33.9454</td>\n",
       "      <td>-116.0770</td>\n",
       "    </tr>\n",
       "    <tr>\n",
       "      <td>38</td>\n",
       "      <td>34.0191</td>\n",
       "      <td>-116.1661</td>\n",
       "    </tr>\n",
       "    <tr>\n",
       "      <td>39</td>\n",
       "      <td>34.0240</td>\n",
       "      <td>-116.1772</td>\n",
       "    </tr>\n",
       "    <tr>\n",
       "      <td>40</td>\n",
       "      <td>34.0933</td>\n",
       "      <td>-116.1585</td>\n",
       "    </tr>\n",
       "  </tbody>\n",
       "</table>\n",
       "</div>"
      ],
      "text/plain": [
       "    latitude  longitude\n",
       "0    34.0148  -116.1654\n",
       "1    34.0285  -116.1451\n",
       "2    34.0183  -116.1635\n",
       "3    33.9941  -116.1429\n",
       "4    34.0202  -116.1650\n",
       "5    34.0143  -116.1583\n",
       "6    33.9978  -116.1536\n",
       "7    34.0030  -116.1495\n",
       "8    33.9964  -116.1555\n",
       "9    33.9893  -116.1634\n",
       "10   34.0626  -116.2263\n",
       "11   33.9830  -116.1545\n",
       "12   34.0143  -116.1711\n",
       "13   33.9664  -116.0872\n",
       "14   34.0753  -116.2420\n",
       "15   33.9423  -116.0782\n",
       "16   34.0110  -116.1661\n",
       "17   34.0101  -116.1687\n",
       "18   34.0127  -116.1684\n",
       "19   34.0441  -116.1061\n",
       "20   34.0121  -116.1773\n",
       "21   34.0135  -116.1544\n",
       "22   34.0808  -116.2462\n",
       "23   33.9962  -116.1500\n",
       "24   34.0263  -116.1415\n",
       "25   34.0402  -116.1978\n",
       "26   34.0839  -116.2325\n",
       "27   34.0462  -116.1033\n",
       "28   34.0943  -116.1561\n",
       "29   34.0159  -116.1784\n",
       "30   34.0241  -116.1547\n",
       "31   34.0104  -116.1357\n",
       "32   34.0182  -116.0737\n",
       "33   34.0325  -116.2034\n",
       "34   34.0252  -116.1595\n",
       "35   33.9512  -116.0768\n",
       "36   34.0930  -116.1635\n",
       "37   33.9454  -116.0770\n",
       "38   34.0191  -116.1661\n",
       "39   34.0240  -116.1772\n",
       "40   34.0933  -116.1585"
      ]
     },
     "execution_count": 6,
     "metadata": {},
     "output_type": "execute_result"
    }
   ],
   "source": [
    "rs_centroids"
   ]
  },
  {
   "cell_type": "code",
   "execution_count": 7,
   "metadata": {},
   "outputs": [
    {
     "name": "stdout",
     "output_type": "stream",
     "text": [
      "Camps by Likelihood of Availability on 2020-08-01\n",
      "\n",
      "Best Camp: \n",
      "Jumbo Rocks\n",
      "Predicted Monthly Occupancy:  0.12341014307754615\n",
      "\n",
      "Next Best Camp: \n",
      "Cottonwood\n",
      "Predicted Monthly Occupancy:  0.12906751618343204\n",
      "\n",
      "Third Best Camp: \n",
      "Black Rock\n",
      "Predicted Monthly Occupancy:  0.13399351682054206\n",
      "\n"
     ]
    }
   ],
   "source": [
    "input = \"2020-08-01\"\n",
    "\n",
    "forecastabbrev10 = pd.read_csv(\"~/Documents/campgroundpredictions_twoyears.csv\")\n",
    "az = forecastabbrev10.loc[forecastabbrev10['date'] == input]\n",
    "az\n",
    "az2=az[['belle_yhat','br_yhat','cw_yhat','hv_yhat','ic_yhat','jr_yhat','ryan_yhat','wt_yhat']]\n",
    "az3=pd.DataFrame(az2)\n",
    "az3.columns=['Belle','Black Rock','Cottonwood','Hidden Valley','Indian Cove','Jumbo Rocks','Ryan','White Tank']\n",
    "az31=pd.melt(az2)\n",
    "campsites.columns=['variable','latitude','longitude']\n",
    "az3 = pd.merge(az31, campsites, on='variable')\n",
    "az3=az3.sort_values('value')\n",
    "az3=az3.reset_index()\n",
    "bestcamp = (az3['variable'][0])\n",
    "bcocc = (az3['value'][0])\n",
    "bestcamp2 = (az3['variable'][1])\n",
    "bcocc2 = (az3['value'][1])\n",
    "bestcamp3 = (az3['variable'][2])\n",
    "bcocc3 = (az3['value'][2])\n",
    "print('Camps by Likelihood of Availability on',input)\n",
    "print()\n",
    "print('Best Camp: ')\n",
    "print(bestcamp)\n",
    "print('Predicted Monthly Occupancy: ',bcocc)\n",
    "print()\n",
    "print('Next Best Camp: ')\n",
    "print(bestcamp2)\n",
    "print('Predicted Monthly Occupancy: ', bcocc2)\n",
    "print()\n",
    "print('Third Best Camp: ')\n",
    "print(bestcamp3)\n",
    "print('Predicted Monthly Occupancy: ',bcocc3)\n",
    "print()"
   ]
  },
  {
   "cell_type": "code",
   "execution_count": 126,
   "metadata": {},
   "outputs": [
    {
     "data": {
      "text/html": [
       "<div>\n",
       "<style scoped>\n",
       "    .dataframe tbody tr th:only-of-type {\n",
       "        vertical-align: middle;\n",
       "    }\n",
       "\n",
       "    .dataframe tbody tr th {\n",
       "        vertical-align: top;\n",
       "    }\n",
       "\n",
       "    .dataframe thead th {\n",
       "        text-align: right;\n",
       "    }\n",
       "</style>\n",
       "<table border=\"1\" class=\"dataframe\">\n",
       "  <thead>\n",
       "    <tr style=\"text-align: right;\">\n",
       "      <th></th>\n",
       "      <th>index</th>\n",
       "      <th>variable</th>\n",
       "      <th>value</th>\n",
       "      <th>latitude</th>\n",
       "      <th>longitude</th>\n",
       "    </tr>\n",
       "  </thead>\n",
       "  <tbody>\n",
       "    <tr>\n",
       "      <td>0</td>\n",
       "      <td>5</td>\n",
       "      <td>Jumbo Rocks</td>\n",
       "      <td>0.123410</td>\n",
       "      <td>33.9919</td>\n",
       "      <td>-116.0625</td>\n",
       "    </tr>\n",
       "    <tr>\n",
       "      <td>1</td>\n",
       "      <td>2</td>\n",
       "      <td>Cottonwood</td>\n",
       "      <td>0.129068</td>\n",
       "      <td>33.7429</td>\n",
       "      <td>-115.8151</td>\n",
       "    </tr>\n",
       "    <tr>\n",
       "      <td>2</td>\n",
       "      <td>1</td>\n",
       "      <td>Black Rock</td>\n",
       "      <td>0.133994</td>\n",
       "      <td>34.0736</td>\n",
       "      <td>-116.3901</td>\n",
       "    </tr>\n",
       "    <tr>\n",
       "      <td>3</td>\n",
       "      <td>4</td>\n",
       "      <td>Indian Cove</td>\n",
       "      <td>0.182289</td>\n",
       "      <td>34.0948</td>\n",
       "      <td>-116.1594</td>\n",
       "    </tr>\n",
       "    <tr>\n",
       "      <td>4</td>\n",
       "      <td>3</td>\n",
       "      <td>Hidden Valley</td>\n",
       "      <td>0.256105</td>\n",
       "      <td>34.0170</td>\n",
       "      <td>-116.1615</td>\n",
       "    </tr>\n",
       "    <tr>\n",
       "      <td>5</td>\n",
       "      <td>6</td>\n",
       "      <td>Ryan</td>\n",
       "      <td>0.469544</td>\n",
       "      <td>33.9830</td>\n",
       "      <td>-116.1547</td>\n",
       "    </tr>\n",
       "    <tr>\n",
       "      <td>6</td>\n",
       "      <td>0</td>\n",
       "      <td>Belle</td>\n",
       "      <td>0.638408</td>\n",
       "      <td>34.0018</td>\n",
       "      <td>-116.0203</td>\n",
       "    </tr>\n",
       "    <tr>\n",
       "      <td>7</td>\n",
       "      <td>7</td>\n",
       "      <td>White Tank</td>\n",
       "      <td>0.645145</td>\n",
       "      <td>33.9848</td>\n",
       "      <td>-116.0167</td>\n",
       "    </tr>\n",
       "  </tbody>\n",
       "</table>\n",
       "</div>"
      ],
      "text/plain": [
       "   index       variable     value  latitude  longitude\n",
       "0      5    Jumbo Rocks  0.123410   33.9919  -116.0625\n",
       "1      2     Cottonwood  0.129068   33.7429  -115.8151\n",
       "2      1     Black Rock  0.133994   34.0736  -116.3901\n",
       "3      4    Indian Cove  0.182289   34.0948  -116.1594\n",
       "4      3  Hidden Valley  0.256105   34.0170  -116.1615\n",
       "5      6           Ryan  0.469544   33.9830  -116.1547\n",
       "6      0          Belle  0.638408   34.0018  -116.0203\n",
       "7      7     White Tank  0.645145   33.9848  -116.0167"
      ]
     },
     "execution_count": 126,
     "metadata": {},
     "output_type": "execute_result"
    }
   ],
   "source": [
    "az3"
   ]
  },
  {
   "cell_type": "code",
   "execution_count": 11,
   "metadata": {},
   "outputs": [],
   "source": [
    "forecastabbrev10 = pd.read_csv(\"~/Documents/campgroundpredictions_twoyears.csv\")\n",
    "az = forecastabbrev10.loc[forecastabbrev10['date'] == input]\n",
    "az\n",
    "az2=az[['belle_yhat','br_yhat','cw_yhat','hv_yhat','ic_yhat','jr_yhat','ryan_yhat','wt_yhat']]\n",
    "az3=pd.DataFrame(az2)\n",
    "az3.columns=['Belle','Black Rock','Cottonwood','Hidden Valley','Indian Cove','Jumbo Rocks','Ryan','White Tank']\n",
    "az3=pd.melt(az2)"
   ]
  },
  {
   "cell_type": "code",
   "execution_count": 20,
   "metadata": {},
   "outputs": [
    {
     "data": {
      "text/html": [
       "<div>\n",
       "<style scoped>\n",
       "    .dataframe tbody tr th:only-of-type {\n",
       "        vertical-align: middle;\n",
       "    }\n",
       "\n",
       "    .dataframe tbody tr th {\n",
       "        vertical-align: top;\n",
       "    }\n",
       "\n",
       "    .dataframe thead th {\n",
       "        text-align: right;\n",
       "    }\n",
       "</style>\n",
       "<table border=\"1\" class=\"dataframe\">\n",
       "  <thead>\n",
       "    <tr style=\"text-align: right;\">\n",
       "      <th></th>\n",
       "      <th>index</th>\n",
       "      <th>variable</th>\n",
       "      <th>value</th>\n",
       "      <th>latitude</th>\n",
       "      <th>longitude</th>\n",
       "    </tr>\n",
       "  </thead>\n",
       "  <tbody>\n",
       "    <tr>\n",
       "      <td>0</td>\n",
       "      <td>5</td>\n",
       "      <td>Jumbo Rocks</td>\n",
       "      <td>0.123410</td>\n",
       "      <td>33.9919</td>\n",
       "      <td>-116.0625</td>\n",
       "    </tr>\n",
       "    <tr>\n",
       "      <td>1</td>\n",
       "      <td>2</td>\n",
       "      <td>Cottonwood</td>\n",
       "      <td>0.129068</td>\n",
       "      <td>33.7429</td>\n",
       "      <td>-115.8151</td>\n",
       "    </tr>\n",
       "    <tr>\n",
       "      <td>2</td>\n",
       "      <td>1</td>\n",
       "      <td>Black Rock</td>\n",
       "      <td>0.133994</td>\n",
       "      <td>34.0736</td>\n",
       "      <td>-116.3901</td>\n",
       "    </tr>\n",
       "    <tr>\n",
       "      <td>3</td>\n",
       "      <td>4</td>\n",
       "      <td>Indian Cove</td>\n",
       "      <td>0.182289</td>\n",
       "      <td>34.0948</td>\n",
       "      <td>-116.1594</td>\n",
       "    </tr>\n",
       "    <tr>\n",
       "      <td>4</td>\n",
       "      <td>3</td>\n",
       "      <td>Hidden Valley</td>\n",
       "      <td>0.256105</td>\n",
       "      <td>34.0170</td>\n",
       "      <td>-116.1615</td>\n",
       "    </tr>\n",
       "    <tr>\n",
       "      <td>5</td>\n",
       "      <td>6</td>\n",
       "      <td>Ryan</td>\n",
       "      <td>0.469544</td>\n",
       "      <td>33.9830</td>\n",
       "      <td>-116.1547</td>\n",
       "    </tr>\n",
       "    <tr>\n",
       "      <td>6</td>\n",
       "      <td>0</td>\n",
       "      <td>Belle</td>\n",
       "      <td>0.638408</td>\n",
       "      <td>34.0018</td>\n",
       "      <td>-116.0203</td>\n",
       "    </tr>\n",
       "    <tr>\n",
       "      <td>7</td>\n",
       "      <td>7</td>\n",
       "      <td>White Tank</td>\n",
       "      <td>0.645145</td>\n",
       "      <td>33.9848</td>\n",
       "      <td>-116.0167</td>\n",
       "    </tr>\n",
       "  </tbody>\n",
       "</table>\n",
       "</div>"
      ],
      "text/plain": [
       "   index       variable     value  latitude  longitude\n",
       "0      5    Jumbo Rocks  0.123410   33.9919  -116.0625\n",
       "1      2     Cottonwood  0.129068   33.7429  -115.8151\n",
       "2      1     Black Rock  0.133994   34.0736  -116.3901\n",
       "3      4    Indian Cove  0.182289   34.0948  -116.1594\n",
       "4      3  Hidden Valley  0.256105   34.0170  -116.1615\n",
       "5      6           Ryan  0.469544   33.9830  -116.1547\n",
       "6      0          Belle  0.638408   34.0018  -116.0203\n",
       "7      7     White Tank  0.645145   33.9848  -116.0167"
      ]
     },
     "execution_count": 20,
     "metadata": {},
     "output_type": "execute_result"
    }
   ],
   "source": [
    "az3"
   ]
  },
  {
   "cell_type": "code",
   "execution_count": 10,
   "metadata": {},
   "outputs": [
    {
     "data": {
      "text/plain": [
       "33.9919"
      ]
     },
     "execution_count": 10,
     "metadata": {},
     "output_type": "execute_result"
    }
   ],
   "source": [
    "y10=az3['latitude'][0]\n",
    "y10"
   ]
  },
  {
   "cell_type": "code",
   "execution_count": 13,
   "metadata": {},
   "outputs": [
    {
     "data": {
      "text/plain": [
       "array([  33.9919, -116.0625])"
      ]
     },
     "execution_count": 13,
     "metadata": {},
     "output_type": "execute_result"
    }
   ],
   "source": [
    "x10=az3['longitude'][0]\n",
    "array = np.array([y10, x10])\n",
    "array"
   ]
  },
  {
   "cell_type": "code",
   "execution_count": 22,
   "metadata": {},
   "outputs": [
    {
     "name": "stderr",
     "output_type": "stream",
     "text": [
      "//anaconda3/envs/insight/lib/python3.7/site-packages/ipykernel_launcher.py:4: FutureWarning: Method .as_matrix will be removed in a future version. Use .values instead.\n",
      "  after removing the cwd from sys.path.\n"
     ]
    },
    {
     "data": {
      "text/plain": [
       "array([[  34.0182, -116.0737],\n",
       "       [  33.9664, -116.0872]])"
      ]
     },
     "execution_count": 22,
     "metadata": {},
     "output_type": "execute_result"
    }
   ],
   "source": [
    "from scipy.spatial import cKDTree\n",
    "import numpy as np\n",
    "\n",
    "rs_c = rs_centroids.as_matrix()\n",
    "points_ref = rs_c\n",
    "tree = cKDTree(points_ref)\n",
    "_, idx = tree.query(array, k=2)\n",
    "points_ref[idx]"
   ]
  },
  {
   "cell_type": "code",
   "execution_count": 42,
   "metadata": {},
   "outputs": [
    {
     "name": "stderr",
     "output_type": "stream",
     "text": [
      "//anaconda3/envs/insight/lib/python3.7/site-packages/ipykernel_launcher.py:6: FutureWarning: Method .as_matrix will be removed in a future version. Use .values instead.\n",
      "  \n"
     ]
    },
    {
     "data": {
      "text/plain": [
       "array([[  34.0182, -116.0737],\n",
       "       [  34.0462, -116.1033]])"
      ]
     },
     "execution_count": 42,
     "metadata": {},
     "output_type": "execute_result"
    }
   ],
   "source": [
    "# Finding the Day 1 Climbing Clusters\n",
    "\n",
    "from scipy.spatial import cKDTree\n",
    "import numpy as np\n",
    "\n",
    "rs_c = rs_centroids.as_matrix()\n",
    "points_ref = rs_c\n",
    "tree = cKDTree(points_ref)\n",
    "_, idx = tree.query(array, k=1)\n",
    "pref2 = points_ref[idx]\n",
    "\n",
    "tree = cKDTree(points_ref)\n",
    "_, idx2 = tree.query(pref2, k=2)\n",
    "points_ref[idx2]\n"
   ]
  },
  {
   "cell_type": "code",
   "execution_count": 63,
   "metadata": {},
   "outputs": [
    {
     "data": {
      "text/plain": [
       "array([[  34.0182, -116.0737],\n",
       "       [  34.0182, -116.0737],\n",
       "       [  34.0182, -116.0737],\n",
       "       [  34.0182, -116.0737],\n",
       "       [  34.0182, -116.0737],\n",
       "       [  34.0182, -116.0737],\n",
       "       [  34.0182, -116.0737],\n",
       "       [  34.0182, -116.0737],\n",
       "       [  34.0182, -116.0737],\n",
       "       [  34.0182, -116.0737],\n",
       "       [  34.0182, -116.0737],\n",
       "       [  34.0182, -116.0737],\n",
       "       [  34.0182, -116.0737],\n",
       "       [  34.0182, -116.0737],\n",
       "       [  34.0182, -116.0737],\n",
       "       [  34.0182, -116.0737],\n",
       "       [  34.0182, -116.0737],\n",
       "       [  34.0182, -116.0737],\n",
       "       [  34.0182, -116.0737],\n",
       "       [  34.0182, -116.0737],\n",
       "       [  34.0182, -116.0737],\n",
       "       [  34.0182, -116.0737]])"
      ]
     },
     "execution_count": 63,
     "metadata": {},
     "output_type": "execute_result"
    }
   ],
   "source": [
    "# Printing out the individual route coordinates for the cluster closest to campsite\n",
    "pr4 = points_ref[idx2]\n",
    "climb1 = pr4[0,:] \n",
    "climb1 [0]\n",
    "centroid_row = rs_centroids.loc[rs_centroids['latitude'] == climb1[0]]\n",
    "cri = centroid_row.index[0]\n",
    "c1routes = clusters[cri]\n",
    "c1routes"
   ]
  },
  {
   "cell_type": "code",
   "execution_count": 65,
   "metadata": {},
   "outputs": [
    {
     "data": {
      "text/plain": [
       "array([[  34.0462, -116.1033],\n",
       "       [  34.0462, -116.1033],\n",
       "       [  34.0462, -116.1033],\n",
       "       [  34.0462, -116.1033],\n",
       "       [  34.046 , -116.1043],\n",
       "       [  34.0462, -116.1033],\n",
       "       [  34.0459, -116.1043],\n",
       "       [  34.0462, -116.1033],\n",
       "       [  34.0462, -116.1033],\n",
       "       [  34.0462, -116.1033],\n",
       "       [  34.0462, -116.1033],\n",
       "       [  34.0462, -116.1033]])"
      ]
     },
     "execution_count": 65,
     "metadata": {},
     "output_type": "execute_result"
    }
   ],
   "source": [
    "# Printing out the individual route coordinates for the cluster 2nd closest to campsite\n",
    "pr4 = points_ref[idx2]\n",
    "climb2 = pr4[1,:] \n",
    "climb2 [0]\n",
    "centroid_row2 = rs_centroids.loc[rs_centroids['latitude'] == climb2[0]]\n",
    "cri2 = centroid_row2.index[0]\n",
    "c2routes = clusters[cri]\n",
    "c2routes"
   ]
  },
  {
   "cell_type": "code",
   "execution_count": 28,
   "metadata": {},
   "outputs": [
    {
     "data": {
      "text/plain": [
       "41"
      ]
     },
     "execution_count": 28,
     "metadata": {},
     "output_type": "execute_result"
    }
   ],
   "source": [
    "len(rs_c)"
   ]
  },
  {
   "cell_type": "code",
   "execution_count": 67,
   "metadata": {},
   "outputs": [
    {
     "name": "stdout",
     "output_type": "stream",
     "text": [
      "7\n"
     ]
    },
    {
     "name": "stderr",
     "output_type": "stream",
     "text": [
      "//anaconda3/envs/insight/lib/python3.7/site-packages/ipykernel_launcher.py:9: FutureWarning: Method .as_matrix will be removed in a future version. Use .values instead.\n",
      "  if __name__ == '__main__':\n"
     ]
    },
    {
     "data": {
      "text/plain": [
       "array([[  34.003 , -116.1495],\n",
       "       [  33.9978, -116.1536]])"
      ]
     },
     "execution_count": 67,
     "metadata": {},
     "output_type": "execute_result"
    }
   ],
   "source": [
    "# Finding the Day 2 Climbing Clusters\n",
    "# Need to set the array as a random coordinate pair from rs_c\n",
    "\n",
    "from scipy.spatial import cKDTree\n",
    "import numpy as np\n",
    "from random import seed\n",
    "from random import randint \n",
    "\n",
    "rs_c = rs_centroids.as_matrix()\n",
    "points_ref = rs_c\n",
    "for q in range(1):\n",
    "    value = randint(0, len(rs_c))\n",
    "    print(value)\n",
    "pointd2 = rs_c[value]\n",
    "tree = cKDTree(points_ref)\n",
    "_, idx = tree.query(pointd2, k=1)\n",
    "pref2 = points_ref[idx]\n",
    "\n",
    "tree = cKDTree(points_ref)\n",
    "_, idx2 = tree.query(pref2, k=2)\n",
    "points_ref[idx2]\n"
   ]
  },
  {
   "cell_type": "code",
   "execution_count": 69,
   "metadata": {},
   "outputs": [
    {
     "data": {
      "text/plain": [
       "array([[  34.0038, -116.1493],\n",
       "       [  34.0029, -116.149 ],\n",
       "       [  34.0038, -116.1493],\n",
       "       [  34.0025, -116.1498],\n",
       "       [  34.0032, -116.149 ],\n",
       "       [  34.0038, -116.1493],\n",
       "       [  34.0032, -116.149 ],\n",
       "       [  34.0025, -116.1498],\n",
       "       [  34.0028, -116.1504],\n",
       "       [  34.0032, -116.149 ],\n",
       "       [  34.0028, -116.1504],\n",
       "       [  34.0033, -116.1493],\n",
       "       [  34.003 , -116.1495],\n",
       "       [  34.0038, -116.1493],\n",
       "       [  34.0028, -116.1504],\n",
       "       [  34.0028, -116.1504],\n",
       "       [  34.0028, -116.1504],\n",
       "       [  34.0038, -116.1493],\n",
       "       [  34.0025, -116.1498],\n",
       "       [  34.0028, -116.1504]])"
      ]
     },
     "execution_count": 69,
     "metadata": {},
     "output_type": "execute_result"
    }
   ],
   "source": [
    "# Printing out the individual route coordinates for the cluster 1, Day 2\n",
    "pr5 = points_ref[idx2]\n",
    "climb3 = pr5[0,:] \n",
    "climb3 [0]\n",
    "centroid_row3 = rs_centroids.loc[rs_centroids['latitude'] == climb3[0]]\n",
    "cri3 = centroid_row3.index[0]\n",
    "c3routes = clusters[cri3]\n",
    "c3routes"
   ]
  },
  {
   "cell_type": "code",
   "execution_count": 70,
   "metadata": {},
   "outputs": [
    {
     "data": {
      "text/plain": [
       "array([[  33.9978, -116.1536],\n",
       "       [  33.9979, -116.1543],\n",
       "       [  33.9979, -116.1534],\n",
       "       [  33.9978, -116.1536],\n",
       "       [  33.9976, -116.1542],\n",
       "       [  33.9976, -116.1542],\n",
       "       [  33.998 , -116.1535],\n",
       "       [  33.9979, -116.1543],\n",
       "       [  33.9979, -116.1534],\n",
       "       [  33.998 , -116.1535],\n",
       "       [  33.9976, -116.1542],\n",
       "       [  33.998 , -116.1535]])"
      ]
     },
     "execution_count": 70,
     "metadata": {},
     "output_type": "execute_result"
    }
   ],
   "source": [
    "# Printing out the individual route coordinates for the cluster 2, Day 2\n",
    "pr5 = points_ref[idx2]\n",
    "climb4 = pr5[1,:] \n",
    "climb4 [0]\n",
    "centroid_row4 = rs_centroids.loc[rs_centroids['latitude'] == climb4[0]]\n",
    "cri4 = centroid_row4.index[0]\n",
    "c4routes = clusters[cri4]\n",
    "c4routes"
   ]
  },
  {
   "cell_type": "code",
   "execution_count": 36,
   "metadata": {},
   "outputs": [
    {
     "data": {
      "text/plain": [
       "array([  33.9964, -116.1555])"
      ]
     },
     "execution_count": 36,
     "metadata": {},
     "output_type": "execute_result"
    }
   ],
   "source": [
    "rs_c[value]"
   ]
  },
  {
   "cell_type": "code",
   "execution_count": 62,
   "metadata": {},
   "outputs": [
    {
     "name": "stderr",
     "output_type": "stream",
     "text": [
      "//anaconda3/envs/insight/lib/python3.7/site-packages/ipykernel_launcher.py:2: FutureWarning: Method .as_matrix will be removed in a future version. Use .values instead.\n",
      "  \n"
     ]
    },
    {
     "data": {
      "text/plain": [
       "array([[  34.0148, -116.1654],\n",
       "       [  34.0285, -116.1451],\n",
       "       [  34.0183, -116.1635],\n",
       "       [  33.9941, -116.1429],\n",
       "       [  34.0202, -116.165 ],\n",
       "       [  34.0143, -116.1583],\n",
       "       [  33.9978, -116.1536],\n",
       "       [  34.003 , -116.1495],\n",
       "       [  33.9964, -116.1555],\n",
       "       [  33.9893, -116.1634],\n",
       "       [  34.0626, -116.2263],\n",
       "       [  33.983 , -116.1545],\n",
       "       [  34.0143, -116.1711],\n",
       "       [  33.9664, -116.0872],\n",
       "       [  34.0753, -116.242 ],\n",
       "       [  33.9423, -116.0782],\n",
       "       [  34.011 , -116.1661],\n",
       "       [  34.0101, -116.1687],\n",
       "       [  34.0127, -116.1684],\n",
       "       [  34.0441, -116.1061],\n",
       "       [  34.0121, -116.1773],\n",
       "       [  34.0135, -116.1544],\n",
       "       [  34.0808, -116.2462],\n",
       "       [  33.9962, -116.15  ],\n",
       "       [  34.0263, -116.1415],\n",
       "       [  34.0402, -116.1978],\n",
       "       [  34.0839, -116.2325],\n",
       "       [  34.0462, -116.1033],\n",
       "       [  34.0943, -116.1561],\n",
       "       [  34.0159, -116.1784],\n",
       "       [  34.0241, -116.1547],\n",
       "       [  34.0104, -116.1357],\n",
       "       [  34.0182, -116.0737],\n",
       "       [  34.0325, -116.2034],\n",
       "       [  34.0252, -116.1595],\n",
       "       [  33.9512, -116.0768],\n",
       "       [  34.093 , -116.1635],\n",
       "       [  33.9454, -116.077 ],\n",
       "       [  34.0191, -116.1661],\n",
       "       [  34.024 , -116.1772],\n",
       "       [  34.0933, -116.1585]])"
      ]
     },
     "execution_count": 62,
     "metadata": {},
     "output_type": "execute_result"
    }
   ],
   "source": [
    "y20=rs_centroids[['latitude','longitude']]\n",
    "rs_coords = rs_centroids.as_matrix(columns=['latitude', 'longitude'])\n",
    "rs_coords"
   ]
  },
  {
   "cell_type": "code",
   "execution_count": 133,
   "metadata": {},
   "outputs": [
    {
     "data": {
      "text/plain": [
       "<matplotlib.collections.PathCollection at 0x1a2913da90>"
      ]
     },
     "execution_count": 133,
     "metadata": {},
     "output_type": "execute_result"
    },
    {
     "data": {
      "image/png": "[encoded data removed]",
      "text/plain": [
       "<Figure size 432x288 with 1 Axes>"
      ]
     },
     "metadata": {
      "needs_background": "light"
     },
     "output_type": "display_data"
    }
   ],
   "source": [
    "f2 = rs_centroids['latitude'].values\n",
    "f1 = rs_centroids['longitude'].values\n",
    "XD = np.array(list(zip(f2, f1)))\n",
    "plt.scatter(f1, f2, c='black', s=7)"
   ]
  },
  {
   "cell_type": "code",
   "execution_count": 139,
   "metadata": {},
   "outputs": [],
   "source": [
    "# Number of pairs to be created in the second round of clustering\n",
    "num_pairs = num_clusters//2"
   ]
  },
  {
   "cell_type": "code",
   "execution_count": 144,
   "metadata": {},
   "outputs": [
    {
     "name": "stderr",
     "output_type": "stream",
     "text": [
      "//anaconda3/envs/insight/lib/python3.7/site-packages/ipykernel_launcher.py:1: FutureWarning: Method .as_matrix will be removed in a future version. Use .values instead.\n",
      "  \"\"\"Entry point for launching an IPython kernel.\n"
     ]
    }
   ],
   "source": [
    "rs_coords = rs_centroids.as_matrix(columns=['latitude', 'longitude'])\n",
    "#rs_coords\n",
    "\n",
    "f2 = rs_centroids['latitude'].values\n",
    "f1 = rs_centroids['longitude'].values\n",
    "XD = np.array(list(zip(f2, f1)))\n",
    "#plt.scatter(f1, f2, c='black', s=7)\n",
    "\n",
    "# Number of pairs to be created in the second round of clustering\n",
    "num_pairs = num_clusters//2\n",
    "\n",
    "X = XD   # Data\n",
    "\n",
    "# K-means clustering\n",
    "km = KMeans(n_clusters=num_pairs)  # defining the clustering object\n",
    "km.fit(X)  # actually fitting the data\n",
    "y_clus = km.labels_   # clustering info resulting from K-means\n",
    "y_cent = km.cluster_centers_  # centroid coordinates"
   ]
  },
  {
   "cell_type": "code",
   "execution_count": 170,
   "metadata": {},
   "outputs": [
    {
     "data": {
      "text/plain": [
       "array([[  34.0148, -116.1654],\n",
       "       [  34.0285, -116.1451],\n",
       "       [  34.0183, -116.1635],\n",
       "       [  33.9941, -116.1429],\n",
       "       [  34.0202, -116.165 ],\n",
       "       [  34.0143, -116.1583],\n",
       "       [  33.9978, -116.1536],\n",
       "       [  34.003 , -116.1495],\n",
       "       [  33.9964, -116.1555],\n",
       "       [  33.9893, -116.1634],\n",
       "       [  34.0626, -116.2263],\n",
       "       [  33.983 , -116.1545],\n",
       "       [  34.0143, -116.1711],\n",
       "       [  33.9664, -116.0872],\n",
       "       [  34.0753, -116.242 ],\n",
       "       [  33.9423, -116.0782],\n",
       "       [  34.011 , -116.1661],\n",
       "       [  34.0101, -116.1687],\n",
       "       [  34.0127, -116.1684],\n",
       "       [  34.0441, -116.1061],\n",
       "       [  34.0121, -116.1773],\n",
       "       [  34.0135, -116.1544],\n",
       "       [  34.0808, -116.2462],\n",
       "       [  33.9962, -116.15  ],\n",
       "       [  34.0263, -116.1415],\n",
       "       [  34.0402, -116.1978],\n",
       "       [  34.0839, -116.2325],\n",
       "       [  34.0462, -116.1033],\n",
       "       [  34.0943, -116.1561],\n",
       "       [  34.0159, -116.1784],\n",
       "       [  34.0241, -116.1547],\n",
       "       [  34.0104, -116.1357],\n",
       "       [  34.0182, -116.0737],\n",
       "       [  34.0325, -116.2034],\n",
       "       [  34.0252, -116.1595],\n",
       "       [  33.9512, -116.0768],\n",
       "       [  34.093 , -116.1635],\n",
       "       [  33.9454, -116.077 ],\n",
       "       [  34.0191, -116.1661],\n",
       "       [  34.024 , -116.1772],\n",
       "       [  34.0933, -116.1585]])"
      ]
     },
     "execution_count": 170,
     "metadata": {},
     "output_type": "execute_result"
    }
   ],
   "source": [
    "XD"
   ]
  },
  {
   "cell_type": "code",
   "execution_count": 145,
   "metadata": {},
   "outputs": [
    {
     "data": {
      "text/plain": [
       "array([ 4,  8, 10, 19, 10, 16,  7,  7,  7, 15, 13, 20,  4, 12,  5,  2,  4,\n",
       "        4,  4,  6, 14, 16,  5,  7,  8,  0, 17,  6,  3, 14, 18,  1,  9,  0,\n",
       "       18,  2,  3,  2, 10, 11,  3], dtype=int32)"
      ]
     },
     "execution_count": 145,
     "metadata": {},
     "output_type": "execute_result"
    }
   ],
   "source": [
    "y_clus"
   ]
  },
  {
   "cell_type": "code",
   "execution_count": 171,
   "metadata": {},
   "outputs": [
    {
     "data": {
      "text/plain": [
       "41"
      ]
     },
     "execution_count": 171,
     "metadata": {},
     "output_type": "execute_result"
    }
   ],
   "source": [
    "len(y_clus)"
   ]
  },
  {
   "cell_type": "code",
   "execution_count": 146,
   "metadata": {},
   "outputs": [
    {
     "data": {
      "text/plain": [
       "array([[  34.03635   , -116.2006    ],\n",
       "       [  34.0104    , -116.1357    ],\n",
       "       [  33.9463    , -116.07733333],\n",
       "       [  34.09353333, -116.15936667],\n",
       "       [  34.01258   , -116.16794   ],\n",
       "       [  34.07805   , -116.2441    ],\n",
       "       [  34.04515   , -116.1047    ],\n",
       "       [  33.99835   , -116.15215   ],\n",
       "       [  34.0274    , -116.1433    ],\n",
       "       [  34.0182    , -116.0737    ],\n",
       "       [  34.0192    , -116.16486667],\n",
       "       [  34.024     , -116.1772    ],\n",
       "       [  33.9664    , -116.0872    ],\n",
       "       [  34.0626    , -116.2263    ],\n",
       "       [  34.014     , -116.17785   ],\n",
       "       [  33.9893    , -116.1634    ],\n",
       "       [  34.0139    , -116.15635   ],\n",
       "       [  34.0839    , -116.2325    ],\n",
       "       [  34.02465   , -116.1571    ],\n",
       "       [  33.9941    , -116.1429    ],\n",
       "       [  33.983     , -116.1545    ]])"
      ]
     },
     "execution_count": 146,
     "metadata": {},
     "output_type": "execute_result"
    }
   ],
   "source": [
    "y_cent"
   ]
  },
  {
   "cell_type": "code",
   "execution_count": 152,
   "metadata": {},
   "outputs": [
    {
     "data": {
      "text/plain": [
       "Text(0.5, 1.0, 'Clusters from K-means')"
      ]
     },
     "execution_count": 152,
     "metadata": {},
     "output_type": "execute_result"
    },
    {
     "data": {
      "image/png": "[encoded data removed]",
      "text/plain": [
       "<Figure size 720x504 with 1 Axes>"
      ]
     },
     "metadata": {
      "needs_background": "light"
     },
     "output_type": "display_data"
    }
   ],
   "source": [
    "### plotting the clusters\n",
    "plt.figure(figsize=[10,7])\n",
    "# First, results from K-means\n",
    "#plt.subplot(121)\n",
    "plt.scatter(X[:,1],X[:,0],c=y_clus,marker='+')\n",
    "plt.plot(y_cent[:,1],y_cent[:,0],'r^')  # Ploting centroids\n",
    "plt.xlabel('Longitude')\n",
    "plt.ylabel('Latitude')\n",
    "plt.title('Clusters from K-means')"
   ]
  },
  {
   "cell_type": "code",
   "execution_count": 148,
   "metadata": {},
   "outputs": [
    {
     "data": {
      "text/plain": [
       "array([[  34.03635   , -116.2006    ],\n",
       "       [  34.0104    , -116.1357    ],\n",
       "       [  33.9463    , -116.07733333],\n",
       "       [  34.09353333, -116.15936667],\n",
       "       [  34.01258   , -116.16794   ],\n",
       "       [  34.07805   , -116.2441    ],\n",
       "       [  34.04515   , -116.1047    ],\n",
       "       [  33.99835   , -116.15215   ],\n",
       "       [  34.0274    , -116.1433    ],\n",
       "       [  34.0182    , -116.0737    ],\n",
       "       [  34.0192    , -116.16486667],\n",
       "       [  34.024     , -116.1772    ],\n",
       "       [  33.9664    , -116.0872    ],\n",
       "       [  34.0626    , -116.2263    ],\n",
       "       [  34.014     , -116.17785   ],\n",
       "       [  33.9893    , -116.1634    ],\n",
       "       [  34.0139    , -116.15635   ],\n",
       "       [  34.0839    , -116.2325    ],\n",
       "       [  34.02465   , -116.1571    ],\n",
       "       [  33.9941    , -116.1429    ],\n",
       "       [  33.983     , -116.1545    ]])"
      ]
     },
     "execution_count": 148,
     "metadata": {},
     "output_type": "execute_result"
    }
   ],
   "source": [
    "y_cent"
   ]
  },
  {
   "cell_type": "code",
   "execution_count": 153,
   "metadata": {},
   "outputs": [
    {
     "data": {
      "text/plain": [
       "array([34.03635   , 34.0104    , 33.9463    , 34.09353333, 34.01258   ,\n",
       "       34.07805   , 34.04515   , 33.99835   , 34.0274    , 34.0182    ,\n",
       "       34.0192    , 34.024     , 33.9664    , 34.0626    , 34.014     ,\n",
       "       33.9893    , 34.0139    , 34.0839    , 34.02465   , 33.9941    ,\n",
       "       33.983     ])"
      ]
     },
     "execution_count": 153,
     "metadata": {},
     "output_type": "execute_result"
    }
   ],
   "source": [
    "y_cent[:,0]"
   ]
  },
  {
   "cell_type": "code",
   "execution_count": null,
   "metadata": {},
   "outputs": [],
   "source": []
  },
  {
   "cell_type": "code",
   "execution_count": null,
   "metadata": {},
   "outputs": [],
   "source": []
  },
  {
   "cell_type": "code",
   "execution_count": null,
   "metadata": {},
   "outputs": [],
   "source": []
  },
  {
   "cell_type": "code",
   "execution_count": null,
   "metadata": {},
   "outputs": [],
   "source": []
  },
  {
   "cell_type": "code",
   "execution_count": null,
   "metadata": {},
   "outputs": [],
   "source": [
    "# What if the second round of clusters are chosen using DBSCAN again?\n",
    "# Doesn't really work\n",
    "\n",
    "kms_per_radian = 6371.0088\n",
    "epsilon = 0.5 / kms_per_radian\n",
    "min_sample=2\n",
    "db = DBSCAN(eps=epsilon, min_samples=min_sample, algorithm='ball_tree', metric='haversine').fit(np.radians(rs_centroids))\n",
    "cluster_labels = db.labels_\n",
    "num_clusters = len(set(cluster_labels))\n",
    "clusters = pd.Series([rs_centroids[cluster_labels == n] for n in range(num_clusters)])\n",
    "print('Number of clusters: {}'.format(num_clusters))"
   ]
  },
  {
   "cell_type": "code",
   "execution_count": 43,
   "metadata": {},
   "outputs": [],
   "source": [
    "x20=rs_centroids['longitude']"
   ]
  },
  {
   "cell_type": "code",
   "execution_count": 49,
   "metadata": {},
   "outputs": [
    {
     "ename": "KeyError",
     "evalue": "0",
     "output_type": "error",
     "traceback": [
      "\u001b[0;31m---------------------------------------------------------------------------\u001b[0m",
      "\u001b[0;31mKeyError\u001b[0m                                  Traceback (most recent call last)",
      "\u001b[0;32m//anaconda3/envs/insight/lib/python3.7/site-packages/pandas/core/indexes/base.py\u001b[0m in \u001b[0;36mget_loc\u001b[0;34m(self, key, method, tolerance)\u001b[0m\n\u001b[1;32m   2896\u001b[0m             \u001b[0;32mtry\u001b[0m\u001b[0;34m:\u001b[0m\u001b[0;34m\u001b[0m\u001b[0;34m\u001b[0m\u001b[0m\n\u001b[0;32m-> 2897\u001b[0;31m                 \u001b[0;32mreturn\u001b[0m \u001b[0mself\u001b[0m\u001b[0;34m.\u001b[0m\u001b[0m_engine\u001b[0m\u001b[0;34m.\u001b[0m\u001b[0mget_loc\u001b[0m\u001b[0;34m(\u001b[0m\u001b[0mkey\u001b[0m\u001b[0;34m)\u001b[0m\u001b[0;34m\u001b[0m\u001b[0;34m\u001b[0m\u001b[0m\n\u001b[0m\u001b[1;32m   2898\u001b[0m             \u001b[0;32mexcept\u001b[0m \u001b[0mKeyError\u001b[0m\u001b[0;34m:\u001b[0m\u001b[0;34m\u001b[0m\u001b[0;34m\u001b[0m\u001b[0m\n",
      "\u001b[0;32mpandas/_libs/index.pyx\u001b[0m in \u001b[0;36mpandas._libs.index.IndexEngine.get_loc\u001b[0;34m()\u001b[0m\n",
      "\u001b[0;32mpandas/_libs/index.pyx\u001b[0m in \u001b[0;36mpandas._libs.index.IndexEngine.get_loc\u001b[0;34m()\u001b[0m\n",
      "\u001b[0;32mpandas/_libs/hashtable_class_helper.pxi\u001b[0m in \u001b[0;36mpandas._libs.hashtable.PyObjectHashTable.get_item\u001b[0;34m()\u001b[0m\n",
      "\u001b[0;32mpandas/_libs/hashtable_class_helper.pxi\u001b[0m in \u001b[0;36mpandas._libs.hashtable.PyObjectHashTable.get_item\u001b[0;34m()\u001b[0m\n",
      "\u001b[0;31mKeyError\u001b[0m: 0",
      "\nDuring handling of the above exception, another exception occurred:\n",
      "\u001b[0;31mKeyError\u001b[0m                                  Traceback (most recent call last)",
      "\u001b[0;32m<ipython-input-49-6f88f27cd46b>\u001b[0m in \u001b[0;36m<module>\u001b[0;34m\u001b[0m\n\u001b[0;32m----> 1\u001b[0;31m \u001b[0my20\u001b[0m\u001b[0;34m[\u001b[0m\u001b[0;36m0\u001b[0m\u001b[0;34m]\u001b[0m\u001b[0;34m\u001b[0m\u001b[0;34m\u001b[0m\u001b[0m\n\u001b[0m",
      "\u001b[0;32m//anaconda3/envs/insight/lib/python3.7/site-packages/pandas/core/frame.py\u001b[0m in \u001b[0;36m__getitem__\u001b[0;34m(self, key)\u001b[0m\n\u001b[1;32m   2978\u001b[0m             \u001b[0;32mif\u001b[0m \u001b[0mself\u001b[0m\u001b[0;34m.\u001b[0m\u001b[0mcolumns\u001b[0m\u001b[0;34m.\u001b[0m\u001b[0mnlevels\u001b[0m \u001b[0;34m>\u001b[0m \u001b[0;36m1\u001b[0m\u001b[0;34m:\u001b[0m\u001b[0;34m\u001b[0m\u001b[0;34m\u001b[0m\u001b[0m\n\u001b[1;32m   2979\u001b[0m                 \u001b[0;32mreturn\u001b[0m \u001b[0mself\u001b[0m\u001b[0;34m.\u001b[0m\u001b[0m_getitem_multilevel\u001b[0m\u001b[0;34m(\u001b[0m\u001b[0mkey\u001b[0m\u001b[0;34m)\u001b[0m\u001b[0;34m\u001b[0m\u001b[0;34m\u001b[0m\u001b[0m\n\u001b[0;32m-> 2980\u001b[0;31m             \u001b[0mindexer\u001b[0m \u001b[0;34m=\u001b[0m \u001b[0mself\u001b[0m\u001b[0;34m.\u001b[0m\u001b[0mcolumns\u001b[0m\u001b[0;34m.\u001b[0m\u001b[0mget_loc\u001b[0m\u001b[0;34m(\u001b[0m\u001b[0mkey\u001b[0m\u001b[0;34m)\u001b[0m\u001b[0;34m\u001b[0m\u001b[0;34m\u001b[0m\u001b[0m\n\u001b[0m\u001b[1;32m   2981\u001b[0m             \u001b[0;32mif\u001b[0m \u001b[0mis_integer\u001b[0m\u001b[0;34m(\u001b[0m\u001b[0mindexer\u001b[0m\u001b[0;34m)\u001b[0m\u001b[0;34m:\u001b[0m\u001b[0;34m\u001b[0m\u001b[0;34m\u001b[0m\u001b[0m\n\u001b[1;32m   2982\u001b[0m                 \u001b[0mindexer\u001b[0m \u001b[0;34m=\u001b[0m \u001b[0;34m[\u001b[0m\u001b[0mindexer\u001b[0m\u001b[0;34m]\u001b[0m\u001b[0;34m\u001b[0m\u001b[0;34m\u001b[0m\u001b[0m\n",
      "\u001b[0;32m//anaconda3/envs/insight/lib/python3.7/site-packages/pandas/core/indexes/base.py\u001b[0m in \u001b[0;36mget_loc\u001b[0;34m(self, key, method, tolerance)\u001b[0m\n\u001b[1;32m   2897\u001b[0m                 \u001b[0;32mreturn\u001b[0m \u001b[0mself\u001b[0m\u001b[0;34m.\u001b[0m\u001b[0m_engine\u001b[0m\u001b[0;34m.\u001b[0m\u001b[0mget_loc\u001b[0m\u001b[0;34m(\u001b[0m\u001b[0mkey\u001b[0m\u001b[0;34m)\u001b[0m\u001b[0;34m\u001b[0m\u001b[0;34m\u001b[0m\u001b[0m\n\u001b[1;32m   2898\u001b[0m             \u001b[0;32mexcept\u001b[0m \u001b[0mKeyError\u001b[0m\u001b[0;34m:\u001b[0m\u001b[0;34m\u001b[0m\u001b[0;34m\u001b[0m\u001b[0m\n\u001b[0;32m-> 2899\u001b[0;31m                 \u001b[0;32mreturn\u001b[0m \u001b[0mself\u001b[0m\u001b[0;34m.\u001b[0m\u001b[0m_engine\u001b[0m\u001b[0;34m.\u001b[0m\u001b[0mget_loc\u001b[0m\u001b[0;34m(\u001b[0m\u001b[0mself\u001b[0m\u001b[0;34m.\u001b[0m\u001b[0m_maybe_cast_indexer\u001b[0m\u001b[0;34m(\u001b[0m\u001b[0mkey\u001b[0m\u001b[0;34m)\u001b[0m\u001b[0;34m)\u001b[0m\u001b[0;34m\u001b[0m\u001b[0;34m\u001b[0m\u001b[0m\n\u001b[0m\u001b[1;32m   2900\u001b[0m         \u001b[0mindexer\u001b[0m \u001b[0;34m=\u001b[0m \u001b[0mself\u001b[0m\u001b[0;34m.\u001b[0m\u001b[0mget_indexer\u001b[0m\u001b[0;34m(\u001b[0m\u001b[0;34m[\u001b[0m\u001b[0mkey\u001b[0m\u001b[0;34m]\u001b[0m\u001b[0;34m,\u001b[0m \u001b[0mmethod\u001b[0m\u001b[0;34m=\u001b[0m\u001b[0mmethod\u001b[0m\u001b[0;34m,\u001b[0m \u001b[0mtolerance\u001b[0m\u001b[0;34m=\u001b[0m\u001b[0mtolerance\u001b[0m\u001b[0;34m)\u001b[0m\u001b[0;34m\u001b[0m\u001b[0;34m\u001b[0m\u001b[0m\n\u001b[1;32m   2901\u001b[0m         \u001b[0;32mif\u001b[0m \u001b[0mindexer\u001b[0m\u001b[0;34m.\u001b[0m\u001b[0mndim\u001b[0m \u001b[0;34m>\u001b[0m \u001b[0;36m1\u001b[0m \u001b[0;32mor\u001b[0m \u001b[0mindexer\u001b[0m\u001b[0;34m.\u001b[0m\u001b[0msize\u001b[0m \u001b[0;34m>\u001b[0m \u001b[0;36m1\u001b[0m\u001b[0;34m:\u001b[0m\u001b[0;34m\u001b[0m\u001b[0;34m\u001b[0m\u001b[0m\n",
      "\u001b[0;32mpandas/_libs/index.pyx\u001b[0m in \u001b[0;36mpandas._libs.index.IndexEngine.get_loc\u001b[0;34m()\u001b[0m\n",
      "\u001b[0;32mpandas/_libs/index.pyx\u001b[0m in \u001b[0;36mpandas._libs.index.IndexEngine.get_loc\u001b[0;34m()\u001b[0m\n",
      "\u001b[0;32mpandas/_libs/hashtable_class_helper.pxi\u001b[0m in \u001b[0;36mpandas._libs.hashtable.PyObjectHashTable.get_item\u001b[0;34m()\u001b[0m\n",
      "\u001b[0;32mpandas/_libs/hashtable_class_helper.pxi\u001b[0m in \u001b[0;36mpandas._libs.hashtable.PyObjectHashTable.get_item\u001b[0;34m()\u001b[0m\n",
      "\u001b[0;31mKeyError\u001b[0m: 0"
     ]
    }
   ],
   "source": [
    "y20[0]"
   ]
  },
  {
   "cell_type": "code",
   "execution_count": 35,
   "metadata": {},
   "outputs": [],
   "source": [
    "from math import sqrt\n",
    "\n",
    "points=rs_centroids\n",
    "\n",
    "def get_ordered_list(points, x10, y10):\n",
    "   points.sort(key = lambda p: sqrt((p.x - x)**2 + (p.y - y)**2))\n",
    "   return points"
   ]
  },
  {
   "cell_type": "code",
   "execution_count": 46,
   "metadata": {},
   "outputs": [
    {
     "name": "stdout",
     "output_type": "stream",
     "text": [
      "[0    -116.1654\n",
      "1    -116.1451\n",
      "2    -116.1635\n",
      "3    -116.1429\n",
      "4    -116.1650\n",
      "5    -116.1583\n",
      "6    -116.1536\n",
      "7    -116.1495\n",
      "8    -116.1555\n",
      "9    -116.1634\n",
      "10   -116.2263\n",
      "11   -116.1545\n",
      "12   -116.1711\n",
      "13   -116.0872\n",
      "14   -116.2420\n",
      "15   -116.0782\n",
      "16   -116.1661\n",
      "17   -116.1687\n",
      "18   -116.1684\n",
      "19   -116.1061\n",
      "20   -116.1773\n",
      "21   -116.1544\n",
      "22   -116.2462\n",
      "23   -116.1500\n",
      "24   -116.1415\n",
      "25   -116.1978\n",
      "26   -116.2325\n",
      "27   -116.1033\n",
      "28   -116.1561\n",
      "29   -116.1784\n",
      "30   -116.1547\n",
      "31   -116.1357\n",
      "32   -116.0737\n",
      "33   -116.2034\n",
      "34   -116.1595\n",
      "35   -116.0768\n",
      "36   -116.1635\n",
      "37   -116.0770\n",
      "38   -116.1661\n",
      "39   -116.1772\n",
      "40   -116.1585\n",
      "Name: longitude, dtype: float64, 0     34.0148\n",
      "1     34.0285\n",
      "2     34.0183\n",
      "3     33.9941\n",
      "4     34.0202\n",
      "5     34.0143\n",
      "6     33.9978\n",
      "7     34.0030\n",
      "8     33.9964\n",
      "9     33.9893\n",
      "10    34.0626\n",
      "11    33.9830\n",
      "12    34.0143\n",
      "13    33.9664\n",
      "14    34.0753\n",
      "15    33.9423\n",
      "16    34.0110\n",
      "17    34.0101\n",
      "18    34.0127\n",
      "19    34.0441\n",
      "20    34.0121\n",
      "21    34.0135\n",
      "22    34.0808\n",
      "23    33.9962\n",
      "24    34.0263\n",
      "25    34.0402\n",
      "26    34.0839\n",
      "27    34.0462\n",
      "28    34.0943\n",
      "29    34.0159\n",
      "30    34.0241\n",
      "31    34.0104\n",
      "32    34.0182\n",
      "33    34.0325\n",
      "34    34.0252\n",
      "35    33.9512\n",
      "36    34.0930\n",
      "37    33.9454\n",
      "38    34.0191\n",
      "39    34.0240\n",
      "40    34.0933\n",
      "Name: latitude, dtype: float64]\n"
     ]
    }
   ],
   "source": [
    "import math\n",
    "data = y20\n",
    "data.sort(key=lambda x: math.sqrt((float(x20[0]) - x10)**2 +\n",
    "                                  (float(y20[1]) - y10)**2))\n",
    "print(data)"
   ]
  },
  {
   "cell_type": "code",
   "execution_count": 39,
   "metadata": {},
   "outputs": [
    {
     "data": {
      "text/plain": [
       "34.0148"
      ]
     },
     "execution_count": 39,
     "metadata": {},
     "output_type": "execute_result"
    }
   ],
   "source": [
    "rs_centroids['latitude'][0]"
   ]
  },
  {
   "cell_type": "code",
   "execution_count": 167,
   "metadata": {},
   "outputs": [
    {
     "name": "stdout",
     "output_type": "stream",
     "text": [
      "21\n"
     ]
    }
   ],
   "source": [
    "# centroids to campsite\n",
    "from math import sin, cos, sqrt, atan2, radians\n",
    "\n",
    "# approximate radius of earth in km\n",
    "R = 6373.0\n",
    "\n",
    "traveling = []\n",
    "\n",
    "for i in range(len(y_cent)):\n",
    "    rs_cent_lat = y_cent[:,0]\n",
    "    rs_cent_long = y_cent[:,1]\n",
    "    bestcamp_lat = az3['latitude'][0]\n",
    "    bestcamp_long = az3['longitude'][0]\n",
    "    lat1 = radians(rs_cent_lat[i])\n",
    "    lon1 = radians(rs_cent_long[i])\n",
    "    lat2 = radians(bestcamp_lat)\n",
    "    lon2 = radians(bestcamp_long)\n",
    "    dlon = lon2 - lon1\n",
    "    dlat = lat2 - lat1\n",
    "    a = sin(dlat / 2)**2 + cos(lat1) * cos(lat2) * sin(dlon / 2)**2\n",
    "    c = 2 * atan2(sqrt(a), sqrt(1 - a))\n",
    "    distance = R * c\n",
    "    distancemi = round((distance / 1.60934), 3)\n",
    "    traveling.append(distancemi)\n",
    "\n",
    "print(len(traveling))"
   ]
  },
  {
   "cell_type": "code",
   "execution_count": 168,
   "metadata": {},
   "outputs": [
    {
     "data": {
      "text/plain": [
       "[8.487,\n",
       " 4.385,\n",
       " 3.264,\n",
       " 8.951,\n",
       " 6.208,\n",
       " 11.985,\n",
       " 4.403,\n",
       " 5.156,\n",
       " 5.239,\n",
       " 1.928,\n",
       " 6.161,\n",
       " 6.936,\n",
       " 2.261,\n",
       " 10.579,\n",
       " 6.783,\n",
       " 5.785,\n",
       " 5.588,\n",
       " 11.629,\n",
       " 5.874,\n",
       " 4.61,\n",
       " 5.308]"
      ]
     },
     "execution_count": 168,
     "metadata": {},
     "output_type": "execute_result"
    }
   ],
   "source": [
    "traveling"
   ]
  },
  {
   "cell_type": "code",
   "execution_count": 169,
   "metadata": {},
   "outputs": [
    {
     "data": {
      "text/plain": [
       "array([[  34.03635   , -116.2006    ],\n",
       "       [  34.0104    , -116.1357    ],\n",
       "       [  33.9463    , -116.07733333],\n",
       "       [  34.09353333, -116.15936667],\n",
       "       [  34.01258   , -116.16794   ],\n",
       "       [  34.07805   , -116.2441    ],\n",
       "       [  34.04515   , -116.1047    ],\n",
       "       [  33.99835   , -116.15215   ],\n",
       "       [  34.0274    , -116.1433    ],\n",
       "       [  34.0182    , -116.0737    ],\n",
       "       [  34.0192    , -116.16486667],\n",
       "       [  34.024     , -116.1772    ],\n",
       "       [  33.9664    , -116.0872    ],\n",
       "       [  34.0626    , -116.2263    ],\n",
       "       [  34.014     , -116.17785   ],\n",
       "       [  33.9893    , -116.1634    ],\n",
       "       [  34.0139    , -116.15635   ],\n",
       "       [  34.0839    , -116.2325    ],\n",
       "       [  34.02465   , -116.1571    ],\n",
       "       [  33.9941    , -116.1429    ],\n",
       "       [  33.983     , -116.1545    ]])"
      ]
     },
     "execution_count": 169,
     "metadata": {},
     "output_type": "execute_result"
    }
   ],
   "source": [
    "y_cent"
   ]
  },
  {
   "cell_type": "code",
   "execution_count": null,
   "metadata": {},
   "outputs": [],
   "source": []
  }
 ],
 "metadata": {
  "kernelspec": {
   "display_name": "Python 3",
   "language": "python",
   "name": "python3"
  },
  "language_info": {
   "codemirror_mode": {
    "name": "ipython",
    "version": 3
   },
   "file_extension": ".py",
   "mimetype": "text/x-python",
   "name": "python",
   "nbconvert_exporter": "python",
   "pygments_lexer": "ipython3",
   "version": "3.7.4"
  }
 },
 "nbformat": 4,
 "nbformat_minor": 2
}
