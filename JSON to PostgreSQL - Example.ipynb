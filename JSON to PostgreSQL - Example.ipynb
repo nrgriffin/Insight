{
 "cells": [
  {
   "cell_type": "code",
   "execution_count": null,
   "metadata": {},
   "outputs": [],
   "source": [
    "# This is an example of pulling data from the Mountain Project API (with Nick's PERSONAL API key).\n",
    "# Your specific request URL will vary, but the command should be similar\n",
    "\n",
    "response4 = requests.get(\"https://www.mountainproject.com/data/get-routes-for-lat-lon?lat=34.02&lon=-116.16&maxDistance=50&maxResults=500&minDiff=V3&maxDiff=V17&key=200588892-9fbd8573f0fe567a7983d3ab5ae62924\")\n",
    "print(response4)"
   ]
  },
  {
   "cell_type": "code",
   "execution_count": null,
   "metadata": {},
   "outputs": [],
   "source": [
    "# This allows you to see the structure of the JSON data, not in a string\n",
    "\n",
    "import json\n",
    "\n",
    "def jprint(obj):\n",
    "    # create a formatted string of the Python JSON object\n",
    "    text = json.dumps(obj, sort_keys=True, indent = 4)\n",
    "    print(text)\n",
    "    \n",
    "jprint(response4.json())"
   ]
  },
  {
   "cell_type": "code",
   "execution_count": null,
   "metadata": {},
   "outputs": [],
   "source": [
    "# Here, I jumped forward one level up the tree in the JSON file to make it easier to subset data components.\n",
    "\n",
    "routes4 = response4.json()['routes']\n",
    "jprint(routes4)"
   ]
  },
  {
   "cell_type": "code",
   "execution_count": null,
   "metadata": {},
   "outputs": [],
   "source": [
    "# I wanted to check the latitude and longitude of each of the routes from this one request, so I wrote out loops\n",
    "# to print out that information. Also used to generate the x and y values for a plot.\n",
    "\n",
    "latV7 = [] # finding the range of latitudes\n",
    "\n",
    "for i in routes4:\n",
    "    lati = i['latitude']\n",
    "    latV7.append(lati)\n",
    "    \n",
    "print(latV7)\n",
    "print()\n",
    "\n",
    "longV7 = [] # finding the range of longitudes\n",
    "\n",
    "for i in routes4:\n",
    "    longi = i['longitude']\n",
    "    longV7.append(longi)\n",
    "    \n",
    "print(longV7)"
   ]
  },
  {
   "cell_type": "code",
   "execution_count": null,
   "metadata": {},
   "outputs": [],
   "source": [
    "# Plotting out all of the routes from this first request\n",
    "\n",
    "import numpy as np\n",
    "import matplotlib.pyplot as plt\n",
    "\n",
    "N = len(latV7)\n",
    "#x = long\n",
    "#y = lat\n",
    "#xv3 = longV3\n",
    "#yv3 = latV3\n",
    "xv7 = longV7\n",
    "yv7 = latV7\n",
    "\n",
    "#plt.scatter(x, y, color=\"green\",label=\"V1\")\n",
    "#plt.scatter(xv3, yv3, color=\"orange\",label=\"V3\")\n",
    "plt.scatter(xv7, yv7, color=\"red\",label=\"V7\")\n",
    "plt.xlabel(\"Longitude Coordinates\")\n",
    "plt.ylabel(\"Latitude Coorindates\")\n",
    "plt.title(\"Bouldering Routes Near Outback Bouldering Area\")\n",
    "plt.xticks(rotation=45)\n",
    "plt.legend(loc='lower left')\n",
    "plt.show()"
   ]
  },
  {
   "cell_type": "code",
   "execution_count": null,
   "metadata": {},
   "outputs": [],
   "source": [
    "# FOR PREPARING TO SEND TO A SQL DATABASE\n",
    "# First step - take the json file and use the .dumps command to prepare to put the data into a data frame.\n",
    "\n",
    "routez = response4.json()['routes']\n",
    "#jprint(routes)\n",
    "json.dumps(routez)"
   ]
  },
  {
   "cell_type": "code",
   "execution_count": null,
   "metadata": {},
   "outputs": [],
   "source": [
    "# Defining the data frame\n",
    "\n",
    "df1=DataFrame(routez)\n",
    "df1"
   ]
  },
  {
   "cell_type": "code",
   "execution_count": 4,
   "metadata": {},
   "outputs": [],
   "source": [
    "## At this point, make sure that PostgreSQL is RUNNING\n",
    "\n",
    "# Define a database name (we're using a dataset on births, so we'll call it birth_db)\n",
    "# Set your postgres username\n",
    "dbname = 'jtnp_boulders' # change this to whatever you want your database to be called\n",
    "username = 'nicholasgriffin' # change this to your username"
   ]
  },
  {
   "cell_type": "code",
   "execution_count": 5,
   "metadata": {},
   "outputs": [
    {
     "ename": "NameError",
     "evalue": "name 'create_engine' is not defined",
     "output_type": "error",
     "traceback": [
      "\u001b[0;31m---------------------------------------------------------------------------\u001b[0m",
      "\u001b[0;31mNameError\u001b[0m                                 Traceback (most recent call last)",
      "\u001b[0;32m<ipython-input-5-038f1192fcf3>\u001b[0m in \u001b[0;36m<module>\u001b[0;34m\u001b[0m\n\u001b[1;32m      3\u001b[0m \u001b[0;31m## 'engine' is a connection to a database\u001b[0m\u001b[0;34m\u001b[0m\u001b[0;34m\u001b[0m\u001b[0;34m\u001b[0m\u001b[0m\n\u001b[1;32m      4\u001b[0m \u001b[0;31m## Here, we're using postgres, but sqlalchemy can connect to other things too.\u001b[0m\u001b[0;34m\u001b[0m\u001b[0;34m\u001b[0m\u001b[0;34m\u001b[0m\u001b[0m\n\u001b[0;32m----> 5\u001b[0;31m \u001b[0mengine\u001b[0m \u001b[0;34m=\u001b[0m \u001b[0mcreate_engine\u001b[0m\u001b[0;34m(\u001b[0m\u001b[0;34m'postgres://%s@localhost/%s'\u001b[0m\u001b[0;34m%\u001b[0m\u001b[0;34m(\u001b[0m\u001b[0musername\u001b[0m\u001b[0;34m,\u001b[0m\u001b[0mdbname\u001b[0m\u001b[0;34m)\u001b[0m\u001b[0;34m)\u001b[0m\u001b[0;34m\u001b[0m\u001b[0;34m\u001b[0m\u001b[0m\n\u001b[0m\u001b[1;32m      6\u001b[0m \u001b[0mprint\u001b[0m\u001b[0;34m(\u001b[0m\u001b[0mengine\u001b[0m\u001b[0;34m.\u001b[0m\u001b[0murl\u001b[0m\u001b[0;34m)\u001b[0m\u001b[0;34m\u001b[0m\u001b[0;34m\u001b[0m\u001b[0m\n",
      "\u001b[0;31mNameError\u001b[0m: name 'create_engine' is not defined"
     ]
    }
   ],
   "source": [
    "# Establishing the ENGINE - getting this notebook to talk to the SQL database you're working with.\n",
    "\n",
    "## 'engine' is a connection to a database\n",
    "## Here, we're using postgres, but sqlalchemy can connect to other things too.\n",
    "engine = create_engine('postgres://%s@localhost/%s'%(username,dbname))\n",
    "print(engine.url)"
   ]
  },
  {
   "cell_type": "code",
   "execution_count": null,
   "metadata": {},
   "outputs": [],
   "source": [
    "## create a database (if it doesn't exist)\n",
    "## If this is your first time defining a new SQL database, then you will need to run these lines to make\n",
    "## you new database actually exist.\n",
    "\n",
    "if not database_exists(engine.url):\n",
    "    create_database(engine.url)\n",
    "print(database_exists(engine.url))"
   ]
  },
  {
   "cell_type": "code",
   "execution_count": null,
   "metadata": {},
   "outputs": [],
   "source": [
    "# Sending the data frame defined above to SQL.\n",
    "# Within the parentheses: (name of data within the database, engine name[in this case, 'engine'], if_exists)\n",
    "# The if_exists command has three options: \n",
    "# 'replace' means overwriting any data already in your chunk of saved data. For a brand new database, this option works.\n",
    "# 'append' means adding additional data to what you have already saved, good for multiple API requests and adding more info to a database\n",
    "# 'fail' means Raise a ValueError (THIS IS THE DEFAULT OPTION - YOU SHOULD CHOOSE 'REPLACE' OR 'APPEND')\n",
    "\n",
    "\n",
    "df1.to_sql('jtnp_routes_v1', engine, if_exists='replace')"
   ]
  },
  {
   "cell_type": "code",
   "execution_count": null,
   "metadata": {},
   "outputs": [],
   "source": [
    "# After the data is saved in your database, you need to run this to be able to view that information.\n",
    "\n",
    "# Connect to make queries using psycopg2\n",
    "con = None\n",
    "con = psycopg2.connect(database = dbname, user = username)"
   ]
  },
  {
   "cell_type": "code",
   "execution_count": 3,
   "metadata": {},
   "outputs": [
    {
     "ename": "NameError",
     "evalue": "name 'pd' is not defined",
     "output_type": "error",
     "traceback": [
      "\u001b[0;31m---------------------------------------------------------------------------\u001b[0m",
      "\u001b[0;31mNameError\u001b[0m                                 Traceback (most recent call last)",
      "\u001b[0;32m<ipython-input-3-a20816b256aa>\u001b[0m in \u001b[0;36m<module>\u001b[0;34m\u001b[0m\n\u001b[1;32m      9\u001b[0m \u001b[0;31m# \"\"\"\u001b[0m\u001b[0;34m\u001b[0m\u001b[0;34m\u001b[0m\u001b[0;34m\u001b[0m\u001b[0m\n\u001b[1;32m     10\u001b[0m \u001b[0;34m\u001b[0m\u001b[0m\n\u001b[0;32m---> 11\u001b[0;31m \u001b[0mjtnp_from_sql\u001b[0m \u001b[0;34m=\u001b[0m \u001b[0mpd\u001b[0m\u001b[0;34m.\u001b[0m\u001b[0mread_sql_query\u001b[0m\u001b[0;34m(\u001b[0m\u001b[0msql_query\u001b[0m\u001b[0;34m,\u001b[0m\u001b[0mcon\u001b[0m\u001b[0;34m)\u001b[0m\u001b[0;34m\u001b[0m\u001b[0;34m\u001b[0m\u001b[0m\n\u001b[0m\u001b[1;32m     12\u001b[0m \u001b[0mjtnp_from_sql\u001b[0m\u001b[0;34m.\u001b[0m\u001b[0mhead\u001b[0m\u001b[0;34m(\u001b[0m\u001b[0;34m)\u001b[0m\u001b[0;34m\u001b[0m\u001b[0;34m\u001b[0m\u001b[0m\n",
      "\u001b[0;31mNameError\u001b[0m: name 'pd' is not defined"
     ]
    }
   ],
   "source": [
    "# Running a SQL query from your saved data/database\n",
    "# query:\n",
    "\n",
    "sql_query = \"\"\"\n",
    "SELECT * FROM jtnp_routes_v1 WHERE rating='V6';\n",
    "\"\"\"\n",
    "\n",
    "# SELECT * FROM jtnp_routes_v1 WHERE rating='V6';\n",
    "# \"\"\"\n",
    "\n",
    "jtnp_from_sql = pd.read_sql_query(sql_query,con)\n",
    "jtnp_from_sql.head()"
   ]
  },
  {
   "cell_type": "code",
   "execution_count": null,
   "metadata": {},
   "outputs": [],
   "source": []
  }
 ],
 "metadata": {
  "kernelspec": {
   "display_name": "Python 3",
   "language": "python",
   "name": "python3"
  },
  "language_info": {
   "codemirror_mode": {
    "name": "ipython",
    "version": 3
   },
   "file_extension": ".py",
   "mimetype": "text/x-python",
   "name": "python",
   "nbconvert_exporter": "python",
   "pygments_lexer": "ipython3",
   "version": "3.7.4"
  }
 },
 "nbformat": 4,
 "nbformat_minor": 2
}
